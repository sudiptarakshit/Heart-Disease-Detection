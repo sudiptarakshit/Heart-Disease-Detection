{
 "cells": [
  {
   "cell_type": "code",
   "execution_count": 1,
   "id": "83d38bcb",
   "metadata": {},
   "outputs": [],
   "source": [
    "#Import the packages\n",
    "import pandas as mypd\n",
    "from sklearn import tree\n",
    "from sklearn.model_selection import cross_val_score\n",
    "from sklearn.model_selection import GridSearchCV\n",
    "import matplotlib.pyplot as myplot\n",
    "from sklearn.model_selection import train_test_split\n",
    "from sklearn.metrics import mean_squared_error\n",
    "import math as mymath\n",
    "import seaborn as mysb\n",
    "from sklearn.ensemble import RandomForestClassifier\n",
    "import random\n",
    "from statsmodels.formula.api import ols\n",
    "from scipy import stats\n",
    "import statsmodels.api as mysm\n",
    "from sklearn.linear_model import LogisticRegression\n",
    "import numpy as mynp\n",
    "from sklearn.metrics import confusion_matrix\n",
    "from sklearn.naive_bayes import GaussianNB\n",
    "from sklearn.neighbors import KNeighborsClassifier\n",
    "from sklearn import svm"
   ]
  },
  {
   "cell_type": "code",
   "execution_count": 2,
   "id": "51b859d5",
   "metadata": {},
   "outputs": [],
   "source": [
    "#Import the dataset\n",
    "mydata = mypd.read_excel('/Users/sudiptarakshit/Desktop/ISI MS QMS/Sem2/MDA/Assignment/Assignment8/Heart_Disease_Data.xlsx')"
   ]
  },
  {
   "cell_type": "code",
   "execution_count": 3,
   "id": "14da3dc9",
   "metadata": {},
   "outputs": [
    {
     "data": {
      "text/html": [
       "<div>\n",
       "<style scoped>\n",
       "    .dataframe tbody tr th:only-of-type {\n",
       "        vertical-align: middle;\n",
       "    }\n",
       "\n",
       "    .dataframe tbody tr th {\n",
       "        vertical-align: top;\n",
       "    }\n",
       "\n",
       "    .dataframe thead th {\n",
       "        text-align: right;\n",
       "    }\n",
       "</style>\n",
       "<table border=\"1\" class=\"dataframe\">\n",
       "  <thead>\n",
       "    <tr style=\"text-align: right;\">\n",
       "      <th></th>\n",
       "      <th>Age</th>\n",
       "      <th>Sex</th>\n",
       "      <th>CP</th>\n",
       "      <th>RestBP</th>\n",
       "      <th>Cholesteral</th>\n",
       "      <th>FBP</th>\n",
       "      <th>RestECG</th>\n",
       "      <th>Max_HR</th>\n",
       "      <th>ExAngina</th>\n",
       "      <th>Oldpeak</th>\n",
       "      <th>Slope</th>\n",
       "      <th>CA</th>\n",
       "      <th>Thal</th>\n",
       "      <th>Result</th>\n",
       "    </tr>\n",
       "  </thead>\n",
       "  <tbody>\n",
       "    <tr>\n",
       "      <th>0</th>\n",
       "      <td>63</td>\n",
       "      <td>1</td>\n",
       "      <td>3</td>\n",
       "      <td>145</td>\n",
       "      <td>233</td>\n",
       "      <td>1</td>\n",
       "      <td>0</td>\n",
       "      <td>150</td>\n",
       "      <td>0</td>\n",
       "      <td>2.3</td>\n",
       "      <td>0</td>\n",
       "      <td>0</td>\n",
       "      <td>1</td>\n",
       "      <td>1</td>\n",
       "    </tr>\n",
       "    <tr>\n",
       "      <th>1</th>\n",
       "      <td>37</td>\n",
       "      <td>1</td>\n",
       "      <td>2</td>\n",
       "      <td>130</td>\n",
       "      <td>250</td>\n",
       "      <td>0</td>\n",
       "      <td>1</td>\n",
       "      <td>187</td>\n",
       "      <td>0</td>\n",
       "      <td>3.5</td>\n",
       "      <td>0</td>\n",
       "      <td>0</td>\n",
       "      <td>2</td>\n",
       "      <td>1</td>\n",
       "    </tr>\n",
       "    <tr>\n",
       "      <th>2</th>\n",
       "      <td>41</td>\n",
       "      <td>0</td>\n",
       "      <td>1</td>\n",
       "      <td>130</td>\n",
       "      <td>204</td>\n",
       "      <td>0</td>\n",
       "      <td>0</td>\n",
       "      <td>172</td>\n",
       "      <td>0</td>\n",
       "      <td>1.4</td>\n",
       "      <td>2</td>\n",
       "      <td>0</td>\n",
       "      <td>2</td>\n",
       "      <td>1</td>\n",
       "    </tr>\n",
       "    <tr>\n",
       "      <th>3</th>\n",
       "      <td>56</td>\n",
       "      <td>1</td>\n",
       "      <td>1</td>\n",
       "      <td>120</td>\n",
       "      <td>236</td>\n",
       "      <td>0</td>\n",
       "      <td>1</td>\n",
       "      <td>178</td>\n",
       "      <td>0</td>\n",
       "      <td>0.8</td>\n",
       "      <td>2</td>\n",
       "      <td>0</td>\n",
       "      <td>2</td>\n",
       "      <td>1</td>\n",
       "    </tr>\n",
       "    <tr>\n",
       "      <th>4</th>\n",
       "      <td>57</td>\n",
       "      <td>0</td>\n",
       "      <td>0</td>\n",
       "      <td>120</td>\n",
       "      <td>354</td>\n",
       "      <td>0</td>\n",
       "      <td>1</td>\n",
       "      <td>163</td>\n",
       "      <td>1</td>\n",
       "      <td>0.6</td>\n",
       "      <td>2</td>\n",
       "      <td>0</td>\n",
       "      <td>2</td>\n",
       "      <td>1</td>\n",
       "    </tr>\n",
       "  </tbody>\n",
       "</table>\n",
       "</div>"
      ],
      "text/plain": [
       "   Age  Sex  CP  RestBP  Cholesteral  FBP  RestECG  Max_HR  ExAngina  Oldpeak  \\\n",
       "0   63    1   3     145          233    1        0     150         0      2.3   \n",
       "1   37    1   2     130          250    0        1     187         0      3.5   \n",
       "2   41    0   1     130          204    0        0     172         0      1.4   \n",
       "3   56    1   1     120          236    0        1     178         0      0.8   \n",
       "4   57    0   0     120          354    0        1     163         1      0.6   \n",
       "\n",
       "   Slope  CA  Thal  Result  \n",
       "0      0   0     1       1  \n",
       "1      0   0     2       1  \n",
       "2      2   0     2       1  \n",
       "3      2   0     2       1  \n",
       "4      2   0     2       1  "
      ]
     },
     "execution_count": 3,
     "metadata": {},
     "output_type": "execute_result"
    }
   ],
   "source": [
    "#Explore the dataset\n",
    "mydata.head()"
   ]
  },
  {
   "cell_type": "code",
   "execution_count": 4,
   "id": "fa6289b6",
   "metadata": {},
   "outputs": [
    {
     "name": "stdout",
     "output_type": "stream",
     "text": [
      "<class 'pandas.core.frame.DataFrame'>\n",
      "RangeIndex: 303 entries, 0 to 302\n",
      "Data columns (total 14 columns):\n",
      " #   Column       Non-Null Count  Dtype  \n",
      "---  ------       --------------  -----  \n",
      " 0   Age          303 non-null    int64  \n",
      " 1   Sex          303 non-null    int64  \n",
      " 2   CP           303 non-null    int64  \n",
      " 3   RestBP       303 non-null    int64  \n",
      " 4   Cholesteral  303 non-null    int64  \n",
      " 5   FBP          303 non-null    int64  \n",
      " 6   RestECG      303 non-null    int64  \n",
      " 7   Max_HR       303 non-null    int64  \n",
      " 8   ExAngina     303 non-null    int64  \n",
      " 9   Oldpeak      303 non-null    float64\n",
      " 10  Slope        303 non-null    int64  \n",
      " 11  CA           303 non-null    int64  \n",
      " 12  Thal         303 non-null    int64  \n",
      " 13  Result       303 non-null    int64  \n",
      "dtypes: float64(1), int64(13)\n",
      "memory usage: 33.3 KB\n"
     ]
    }
   ],
   "source": [
    "#Check the dataset\n",
    "mydata.info()"
   ]
  },
  {
   "cell_type": "markdown",
   "id": "3c67c25c",
   "metadata": {},
   "source": [
    "We find that there are total 303 entries in the dataset and there is no missing value present."
   ]
  },
  {
   "cell_type": "markdown",
   "id": "740a44ee",
   "metadata": {},
   "source": [
    "There are 13 expalnatory features in the data. \n",
    "\n",
    "All the features are numeric type. Some of the features are ordinal type discrete numeric data apparently."
   ]
  },
  {
   "cell_type": "code",
   "execution_count": 5,
   "id": "2c75d7e6",
   "metadata": {},
   "outputs": [],
   "source": [
    "#Separate x's and y\n",
    "x = mydata.iloc[:,0:13]\n",
    "y = mydata.iloc[:,13]"
   ]
  },
  {
   "cell_type": "markdown",
   "id": "17e79123",
   "metadata": {},
   "source": [
    "## Split the data randomly into training (80%) and test (20%)"
   ]
  },
  {
   "cell_type": "markdown",
   "id": "845d7989",
   "metadata": {},
   "source": [
    "We initialize the random number generator."
   ]
  },
  {
   "cell_type": "code",
   "execution_count": 6,
   "id": "b2bf45a8",
   "metadata": {},
   "outputs": [],
   "source": [
    "#Set seed\n",
    "random.seed(100)"
   ]
  },
  {
   "cell_type": "code",
   "execution_count": 7,
   "id": "87f35390",
   "metadata": {},
   "outputs": [],
   "source": [
    "#Split the data into training (80%) and testing (20%)\n",
    "x_train,x_test,y_train,y_test = train_test_split(x,y,test_size=0.2,random_state=100)"
   ]
  },
  {
   "cell_type": "code",
   "execution_count": 8,
   "id": "ca12441b",
   "metadata": {},
   "outputs": [
    {
     "data": {
      "text/plain": [
       "(Age            242\n",
       " Sex            242\n",
       " CP             242\n",
       " RestBP         242\n",
       " Cholesteral    242\n",
       " FBP            242\n",
       " RestECG        242\n",
       " Max_HR         242\n",
       " ExAngina       242\n",
       " Oldpeak        242\n",
       " Slope          242\n",
       " CA             242\n",
       " Thal           242\n",
       " dtype: int64,\n",
       " Age            61\n",
       " Sex            61\n",
       " CP             61\n",
       " RestBP         61\n",
       " Cholesteral    61\n",
       " FBP            61\n",
       " RestECG        61\n",
       " Max_HR         61\n",
       " ExAngina       61\n",
       " Oldpeak        61\n",
       " Slope          61\n",
       " CA             61\n",
       " Thal           61\n",
       " dtype: int64)"
      ]
     },
     "execution_count": 8,
     "metadata": {},
     "output_type": "execute_result"
    }
   ],
   "source": [
    "#Check the test/train split\n",
    "x_train.count(), x_test.count()"
   ]
  },
  {
   "cell_type": "markdown",
   "id": "629ddafd",
   "metadata": {},
   "source": [
    "train data has 242 observations & test data has 61 observations."
   ]
  },
  {
   "cell_type": "markdown",
   "id": "cec0090b",
   "metadata": {},
   "source": [
    "| | **Operation on Train data** |  |\n",
    "| :----: | :----: | :----: |\n",
    "| | Build a General Model |  |\n",
    "| |⇩| |\n",
    "| |R<sup>2</sup> Accuracy Check | |\n",
    "| |⇩| |\n",
    "| |Cross Validation R<sup>2</sup> Check for generalizability | |\n",
    "| |⇩ | |\n",
    "| |Hyper Parameter Tuning| |\n",
    "| |⇩ | |\n",
    "| |Build model using the best parameters| |\n",
    "| |⇩ | |\n",
    "| |R<sup>2</sup> Accuracy Check | |\n",
    "| |⇩ | |\n",
    "| |Cross Validation R<sup>2</sup> Check for generalizability | |\n",
    "| |⇩ | |\n",
    "||Get predicted value on train data||\n",
    "| |⇩ | |\n",
    "|| Confusion Matrix||\n",
    "| |⇩ | |\n",
    "||Accuracy on Training Data||\n",
    "| |⇩ | |\n",
    "||Missclassification on training data||"
   ]
  },
  {
   "cell_type": "markdown",
   "id": "75f503d0",
   "metadata": {},
   "source": [
    "| | **Operation on Test data** |  |\n",
    "| :----: | :----: | :----: |\n",
    "||Get predicted value on Test data||\n",
    "| |⇩| |\n",
    "|| Confusion Matrix||\n",
    "| |⇩ | |\n",
    "||Accuracy on Test Data||\n",
    "| |⇩ | |\n",
    "||Missclassification on Test data||"
   ]
  },
  {
   "cell_type": "markdown",
   "id": "1e9b0724",
   "metadata": {},
   "source": [
    "**Note:**\n",
    "During hyper parameter tuning we do cross validation. So, after hyper parameter tuning we get the model with best generalizability.\n"
   ]
  },
  {
   "cell_type": "markdown",
   "id": "756d3fc9",
   "metadata": {},
   "source": [
    "## Naive Bayes"
   ]
  },
  {
   "cell_type": "code",
   "execution_count": 9,
   "id": "a2fa9e3b",
   "metadata": {},
   "outputs": [],
   "source": [
    "#Specify the model\n",
    "mynaivemodel = GaussianNB()"
   ]
  },
  {
   "cell_type": "code",
   "execution_count": 10,
   "id": "11171fbe",
   "metadata": {},
   "outputs": [],
   "source": [
    "#Fit the model to the data\n",
    "mynaivemodel = mynaivemodel.fit(X=x_train,y=y_train)"
   ]
  },
  {
   "cell_type": "code",
   "execution_count": 11,
   "id": "f6ff6e98",
   "metadata": {},
   "outputs": [
    {
     "data": {
      "text/plain": [
       "83.88429752066115"
      ]
     },
     "execution_count": 11,
     "metadata": {},
     "output_type": "execute_result"
    }
   ],
   "source": [
    "#Accuracy of the model\n",
    "accuracy = mynaivemodel.score(X=x_train,y=y_train)\n",
    "accuracy*100"
   ]
  },
  {
   "cell_type": "code",
   "execution_count": 12,
   "id": "10e22f10",
   "metadata": {},
   "outputs": [],
   "source": [
    "#Perform a 4 fold Cross Validation\n",
    "mynaivescore = cross_val_score(estimator=mynaivemodel,X=x_train,y=y_train,cv=4,scoring='accuracy')"
   ]
  },
  {
   "cell_type": "code",
   "execution_count": 13,
   "id": "665732b5",
   "metadata": {},
   "outputs": [
    {
     "data": {
      "text/plain": [
       "0.7971994535519127"
      ]
     },
     "execution_count": 13,
     "metadata": {},
     "output_type": "execute_result"
    }
   ],
   "source": [
    "#Cross Validation Accuracy\n",
    "mynaivescore.mean()"
   ]
  },
  {
   "cell_type": "markdown",
   "id": "66549cfd",
   "metadata": {},
   "source": [
    "We see a some drop in model accuracy after cross validation. We have to do hyper-parameter tuning for a more accurate and more generalized model."
   ]
  },
  {
   "cell_type": "markdown",
   "id": "c214c809",
   "metadata": {},
   "source": [
    "**Hyper parameter optimization**"
   ]
  },
  {
   "cell_type": "code",
   "execution_count": 14,
   "id": "21ead952",
   "metadata": {},
   "outputs": [],
   "source": [
    "#Hyper parameter tuning\n",
    "mynaiveparamgrid = {'var_smoothing':mynp.logspace(start=0,stop=-9,num=10)}"
   ]
  },
  {
   "cell_type": "code",
   "execution_count": 15,
   "id": "6b228367",
   "metadata": {},
   "outputs": [],
   "source": [
    "# Set up search\n",
    "mynaivesearch = GridSearchCV(estimator=mynaivemodel,param_grid=mynaiveparamgrid,scoring='accuracy',cv=5,verbose=True)"
   ]
  },
  {
   "cell_type": "code",
   "execution_count": 16,
   "id": "4969bf51",
   "metadata": {},
   "outputs": [
    {
     "name": "stdout",
     "output_type": "stream",
     "text": [
      "Fitting 5 folds for each of 10 candidates, totalling 50 fits\n"
     ]
    }
   ],
   "source": [
    "#Fit the search on training data\n",
    "mynaivesearch = mynaivesearch.fit(X=x_train,y=y_train)"
   ]
  },
  {
   "cell_type": "code",
   "execution_count": 17,
   "id": "c5370240",
   "metadata": {},
   "outputs": [
    {
     "data": {
      "text/plain": [
       "{'var_smoothing': 0.0001}"
      ]
     },
     "execution_count": 17,
     "metadata": {},
     "output_type": "execute_result"
    }
   ],
   "source": [
    "#Optimum parameter values\n",
    "mynaivesearch.best_params_"
   ]
  },
  {
   "cell_type": "code",
   "execution_count": 18,
   "id": "dfff89f2",
   "metadata": {},
   "outputs": [],
   "source": [
    "#Specify optimum model\n",
    "mynaivemodel = GaussianNB(var_smoothing=0.0001)"
   ]
  },
  {
   "cell_type": "code",
   "execution_count": 19,
   "id": "06d216bf",
   "metadata": {},
   "outputs": [],
   "source": [
    "# Fit the model to training data\n",
    "mynaivemodel = mynaivemodel.fit(X=x_train,y=y_train)"
   ]
  },
  {
   "cell_type": "code",
   "execution_count": 20,
   "id": "6bf50dc6",
   "metadata": {},
   "outputs": [
    {
     "data": {
      "text/plain": [
       "0.8347107438016529"
      ]
     },
     "execution_count": 20,
     "metadata": {},
     "output_type": "execute_result"
    }
   ],
   "source": [
    "# Check the model accuracy\n",
    "naiveaccuracy = mynaivemodel.score(x_train,y_train)\n",
    "naiveaccuracy"
   ]
  },
  {
   "cell_type": "markdown",
   "id": "1c91ca96",
   "metadata": {},
   "source": [
    "There is no improvement in model accuracy after hyper parameter optimization, But there should be increase in model generalizability."
   ]
  },
  {
   "cell_type": "code",
   "execution_count": 21,
   "id": "99c89231",
   "metadata": {},
   "outputs": [
    {
     "data": {
      "text/plain": [
       "0.8305272108843538"
      ]
     },
     "execution_count": 21,
     "metadata": {},
     "output_type": "execute_result"
    }
   ],
   "source": [
    "#Cross validation accuracy\n",
    "mynaivescore = cross_val_score(estimator=mynaivemodel,X=x_train,y=y_train,scoring='accuracy',cv=5)\n",
    "mynaivescore.mean()"
   ]
  },
  {
   "cell_type": "markdown",
   "id": "c6d77ba3",
   "metadata": {},
   "source": [
    "We see that cross validation accuracy has increased. And hence model generalizability has improved."
   ]
  },
  {
   "cell_type": "code",
   "execution_count": 22,
   "id": "c7a15610",
   "metadata": {},
   "outputs": [],
   "source": [
    "# Predicted Values on train data\n",
    "naivepredy = mynaivemodel.predict(X=x_train)"
   ]
  },
  {
   "cell_type": "code",
   "execution_count": 23,
   "id": "e974709e",
   "metadata": {},
   "outputs": [
    {
     "data": {
      "text/html": [
       "<div>\n",
       "<style scoped>\n",
       "    .dataframe tbody tr th:only-of-type {\n",
       "        vertical-align: middle;\n",
       "    }\n",
       "\n",
       "    .dataframe tbody tr th {\n",
       "        vertical-align: top;\n",
       "    }\n",
       "\n",
       "    .dataframe thead th {\n",
       "        text-align: right;\n",
       "    }\n",
       "</style>\n",
       "<table border=\"1\" class=\"dataframe\">\n",
       "  <thead>\n",
       "    <tr style=\"text-align: right;\">\n",
       "      <th>col_0</th>\n",
       "      <th>0</th>\n",
       "      <th>1</th>\n",
       "    </tr>\n",
       "    <tr>\n",
       "      <th>Result</th>\n",
       "      <th></th>\n",
       "      <th></th>\n",
       "    </tr>\n",
       "  </thead>\n",
       "  <tbody>\n",
       "    <tr>\n",
       "      <th>0</th>\n",
       "      <td>75</td>\n",
       "      <td>30</td>\n",
       "    </tr>\n",
       "    <tr>\n",
       "      <th>1</th>\n",
       "      <td>10</td>\n",
       "      <td>127</td>\n",
       "    </tr>\n",
       "  </tbody>\n",
       "</table>\n",
       "</div>"
      ],
      "text/plain": [
       "col_0    0    1\n",
       "Result         \n",
       "0       75   30\n",
       "1       10  127"
      ]
     },
     "execution_count": 23,
     "metadata": {},
     "output_type": "execute_result"
    }
   ],
   "source": [
    "#Actual vs Predicted table on train data\n",
    "mynaivetable = mypd.crosstab(y_train,naivepredy)\n",
    "#Confusion matrix\n",
    "mynaivetable"
   ]
  },
  {
   "cell_type": "markdown",
   "id": "3d652678",
   "metadata": {},
   "source": [
    "**Model accuracy from confusion matrix**"
   ]
  },
  {
   "cell_type": "code",
   "execution_count": 24,
   "id": "f208ff92",
   "metadata": {},
   "outputs": [],
   "source": [
    "#True Positive\n",
    "TP = 127\n",
    "#False Positive\n",
    "FP = 30\n",
    "#True Negative\n",
    "TN = 75\n",
    "#False Negative\n",
    "FN = 10"
   ]
  },
  {
   "cell_type": "markdown",
   "id": "e1c424f2",
   "metadata": {},
   "source": [
    "**Model accuracy**\n"
   ]
  },
  {
   "cell_type": "code",
   "execution_count": 25,
   "id": "4368a5a3",
   "metadata": {},
   "outputs": [
    {
     "data": {
      "text/plain": [
       "0.8089171974522293"
      ]
     },
     "execution_count": 25,
     "metadata": {},
     "output_type": "execute_result"
    }
   ],
   "source": [
    "#Accuracy\n",
    "TP/(TP+FP)"
   ]
  },
  {
   "cell_type": "code",
   "execution_count": 26,
   "id": "fa234a93",
   "metadata": {},
   "outputs": [
    {
     "data": {
      "text/plain": [
       "0.19108280254777066"
      ]
     },
     "execution_count": 26,
     "metadata": {},
     "output_type": "execute_result"
    }
   ],
   "source": [
    "#Misclassification rate\n",
    "1 - TP/(TP+FP)"
   ]
  },
  {
   "cell_type": "markdown",
   "id": "af038560",
   "metadata": {},
   "source": [
    "### Validate model on test data"
   ]
  },
  {
   "cell_type": "code",
   "execution_count": 27,
   "id": "9ee0fa76",
   "metadata": {},
   "outputs": [],
   "source": [
    "#Get the predicted value on test data\n",
    "naivepredtest = mynaivemodel.predict(X=x_test)"
   ]
  },
  {
   "cell_type": "code",
   "execution_count": 28,
   "id": "e6965d21",
   "metadata": {},
   "outputs": [
    {
     "data": {
      "text/html": [
       "<div>\n",
       "<style scoped>\n",
       "    .dataframe tbody tr th:only-of-type {\n",
       "        vertical-align: middle;\n",
       "    }\n",
       "\n",
       "    .dataframe tbody tr th {\n",
       "        vertical-align: top;\n",
       "    }\n",
       "\n",
       "    .dataframe thead th {\n",
       "        text-align: right;\n",
       "    }\n",
       "</style>\n",
       "<table border=\"1\" class=\"dataframe\">\n",
       "  <thead>\n",
       "    <tr style=\"text-align: right;\">\n",
       "      <th>col_0</th>\n",
       "      <th>0</th>\n",
       "      <th>1</th>\n",
       "    </tr>\n",
       "    <tr>\n",
       "      <th>Result</th>\n",
       "      <th></th>\n",
       "      <th></th>\n",
       "    </tr>\n",
       "  </thead>\n",
       "  <tbody>\n",
       "    <tr>\n",
       "      <th>0</th>\n",
       "      <td>27</td>\n",
       "      <td>6</td>\n",
       "    </tr>\n",
       "    <tr>\n",
       "      <th>1</th>\n",
       "      <td>2</td>\n",
       "      <td>26</td>\n",
       "    </tr>\n",
       "  </tbody>\n",
       "</table>\n",
       "</div>"
      ],
      "text/plain": [
       "col_0    0   1\n",
       "Result        \n",
       "0       27   6\n",
       "1        2  26"
      ]
     },
     "execution_count": 28,
     "metadata": {},
     "output_type": "execute_result"
    }
   ],
   "source": [
    "#Actual vs Predicted table on test data\n",
    "mynaivetable = mypd.crosstab(y_test,naivepredtest)\n",
    "#Confusion matrix\n",
    "mynaivetable"
   ]
  },
  {
   "cell_type": "markdown",
   "id": "ad2846cd",
   "metadata": {},
   "source": [
    "**Model accuracy from confusion matrix of test data**"
   ]
  },
  {
   "cell_type": "code",
   "execution_count": 29,
   "id": "3f3c035c",
   "metadata": {},
   "outputs": [],
   "source": [
    "#True Positive\n",
    "TP = 26\n",
    "#False Positive\n",
    "FP = 6\n",
    "#True Negative\n",
    "TN = 27\n",
    "#False Negative\n",
    "FN = 2"
   ]
  },
  {
   "cell_type": "markdown",
   "id": "cc94fb9e",
   "metadata": {},
   "source": [
    "**Model accuracy**\n"
   ]
  },
  {
   "cell_type": "code",
   "execution_count": 30,
   "id": "fc50bdea",
   "metadata": {},
   "outputs": [
    {
     "data": {
      "text/plain": [
       "0.8125"
      ]
     },
     "execution_count": 30,
     "metadata": {},
     "output_type": "execute_result"
    }
   ],
   "source": [
    "#Accuracy\n",
    "TP/(TP+FP)"
   ]
  },
  {
   "cell_type": "code",
   "execution_count": 31,
   "id": "ab842ac4",
   "metadata": {},
   "outputs": [
    {
     "data": {
      "text/plain": [
       "0.1875"
      ]
     },
     "execution_count": 31,
     "metadata": {},
     "output_type": "execute_result"
    }
   ],
   "source": [
    "#Misclassification rate\n",
    "1 - TP/(TP+FP)"
   ]
  },
  {
   "cell_type": "markdown",
   "id": "45ec652b",
   "metadata": {},
   "source": [
    "Model accuracy on test data = 80.89% which is similar to accuracy of 81.25% on train data."
   ]
  },
  {
   "cell_type": "markdown",
   "id": "4c0b1651",
   "metadata": {},
   "source": [
    "| |Naive Bayes Classifier Model | |\n",
    "| ----------- | ----------- |----------- |\n",
    "| | Train Data |Test Data |\n",
    "|Accuracy |80.89 |81.25|\n",
    "|Misclassification rate |19.10|18.75|\n"
   ]
  },
  {
   "cell_type": "markdown",
   "id": "b907bf66",
   "metadata": {},
   "source": [
    "## KNN Classifier"
   ]
  },
  {
   "cell_type": "code",
   "execution_count": 32,
   "id": "67b498b3",
   "metadata": {},
   "outputs": [],
   "source": [
    "#Specify the model\n",
    "myknnmodel = KNeighborsClassifier(n_neighbors=5)"
   ]
  },
  {
   "cell_type": "code",
   "execution_count": 33,
   "id": "a5c50654",
   "metadata": {},
   "outputs": [],
   "source": [
    "#Fit the model to the data\n",
    "myknnmodel = myknnmodel.fit(X=x_train,y=y_train)"
   ]
  },
  {
   "cell_type": "code",
   "execution_count": 34,
   "id": "c036997e",
   "metadata": {},
   "outputs": [
    {
     "data": {
      "text/plain": [
       "0.7520661157024794"
      ]
     },
     "execution_count": 34,
     "metadata": {},
     "output_type": "execute_result"
    }
   ],
   "source": [
    "#Model accuarcy\n",
    "knnaccuracy = myknnmodel.score(x_train,y_train)\n",
    "knnaccuracy"
   ]
  },
  {
   "cell_type": "code",
   "execution_count": 35,
   "id": "e656e526",
   "metadata": {},
   "outputs": [],
   "source": [
    "#Perform a 4 fold Cross Validation\n",
    "myknnscore = cross_val_score(estimator=myknnmodel,X=x_train,y=y_train,cv=4,scoring='accuracy')"
   ]
  },
  {
   "cell_type": "code",
   "execution_count": 36,
   "id": "324306ac",
   "metadata": {},
   "outputs": [
    {
     "data": {
      "text/plain": [
       "0.6075136612021859"
      ]
     },
     "execution_count": 36,
     "metadata": {},
     "output_type": "execute_result"
    }
   ],
   "source": [
    "#Cross Validation Accuracy\n",
    "myknnscore.mean()"
   ]
  },
  {
   "cell_type": "markdown",
   "id": "30fec521",
   "metadata": {},
   "source": [
    "We see that model accuracy as well as model generalizability not good. We can do hyper parameter tuning."
   ]
  },
  {
   "cell_type": "markdown",
   "id": "43b68dc2",
   "metadata": {},
   "source": [
    "**Hyper parameter tuning**"
   ]
  },
  {
   "cell_type": "code",
   "execution_count": 43,
   "id": "fba5f6ae",
   "metadata": {},
   "outputs": [],
   "source": [
    "#Hyper parameter tuning\n",
    "myknnparamgrid = {'n_neighbors':[3,4,5,6,7,8,9,10,11,12,13,14,15]}"
   ]
  },
  {
   "cell_type": "code",
   "execution_count": 44,
   "id": "bac8a3a5",
   "metadata": {},
   "outputs": [],
   "source": [
    "# Set up search\n",
    "myknnsearch = GridSearchCV(estimator=myknnmodel,param_grid=myknnparamgrid,scoring='accuracy',cv=5,verbose=True)"
   ]
  },
  {
   "cell_type": "code",
   "execution_count": 45,
   "id": "aa59cb3f",
   "metadata": {},
   "outputs": [
    {
     "name": "stdout",
     "output_type": "stream",
     "text": [
      "Fitting 5 folds for each of 13 candidates, totalling 65 fits\n"
     ]
    }
   ],
   "source": [
    "#Fit the search on training data\n",
    "myknnsearch = myknnsearch.fit(X=x_train,y=y_train)"
   ]
  },
  {
   "cell_type": "code",
   "execution_count": 46,
   "id": "bf0a5d36",
   "metadata": {},
   "outputs": [
    {
     "data": {
      "text/plain": [
       "{'n_neighbors': 15}"
      ]
     },
     "execution_count": 46,
     "metadata": {},
     "output_type": "execute_result"
    }
   ],
   "source": [
    "#Optimum parameter values\n",
    "myknnsearch.best_params_"
   ]
  },
  {
   "cell_type": "code",
   "execution_count": 47,
   "id": "c0dc66e6",
   "metadata": {},
   "outputs": [],
   "source": [
    "#Specfy the model\n",
    "myknnmodel = KNeighborsClassifier(n_neighbors=15)"
   ]
  },
  {
   "cell_type": "code",
   "execution_count": 48,
   "id": "4dab0cc3",
   "metadata": {},
   "outputs": [],
   "source": [
    "#Fit the model\n",
    "myknnmodel = myknnmodel.fit(X=x_train,y=y_train)"
   ]
  },
  {
   "cell_type": "code",
   "execution_count": 49,
   "id": "ed69aef3",
   "metadata": {},
   "outputs": [
    {
     "data": {
      "text/plain": [
       "0.6611570247933884"
      ]
     },
     "execution_count": 49,
     "metadata": {},
     "output_type": "execute_result"
    }
   ],
   "source": [
    "#Model accuarcy\n",
    "knnaccuracy = myknnmodel.score(x_train,y_train)\n",
    "knnaccuracy"
   ]
  },
  {
   "cell_type": "code",
   "execution_count": 50,
   "id": "3c4a9114",
   "metadata": {},
   "outputs": [],
   "source": [
    "#Perform a 4 fold Cross Validation\n",
    "myknnscore = cross_val_score(estimator=myknnmodel,X=x_train,y=y_train,cv=4,scoring='accuracy')"
   ]
  },
  {
   "cell_type": "code",
   "execution_count": 51,
   "id": "ac8c5bc3",
   "metadata": {},
   "outputs": [
    {
     "data": {
      "text/plain": [
       "0.6487021857923497"
      ]
     },
     "execution_count": 51,
     "metadata": {},
     "output_type": "execute_result"
    }
   ],
   "source": [
    "#Cross Validation Accuracy\n",
    "myknnscore.mean()"
   ]
  },
  {
   "cell_type": "code",
   "execution_count": 52,
   "id": "3ecaba80",
   "metadata": {},
   "outputs": [],
   "source": [
    "# Predicted Values on train data\n",
    "knnpredy = myknnmodel.predict(X=x_train)"
   ]
  },
  {
   "cell_type": "code",
   "execution_count": 53,
   "id": "3874ab5d",
   "metadata": {},
   "outputs": [
    {
     "data": {
      "text/html": [
       "<div>\n",
       "<style scoped>\n",
       "    .dataframe tbody tr th:only-of-type {\n",
       "        vertical-align: middle;\n",
       "    }\n",
       "\n",
       "    .dataframe tbody tr th {\n",
       "        vertical-align: top;\n",
       "    }\n",
       "\n",
       "    .dataframe thead th {\n",
       "        text-align: right;\n",
       "    }\n",
       "</style>\n",
       "<table border=\"1\" class=\"dataframe\">\n",
       "  <thead>\n",
       "    <tr style=\"text-align: right;\">\n",
       "      <th>col_0</th>\n",
       "      <th>0</th>\n",
       "      <th>1</th>\n",
       "    </tr>\n",
       "    <tr>\n",
       "      <th>Result</th>\n",
       "      <th></th>\n",
       "      <th></th>\n",
       "    </tr>\n",
       "  </thead>\n",
       "  <tbody>\n",
       "    <tr>\n",
       "      <th>0</th>\n",
       "      <td>50</td>\n",
       "      <td>55</td>\n",
       "    </tr>\n",
       "    <tr>\n",
       "      <th>1</th>\n",
       "      <td>27</td>\n",
       "      <td>110</td>\n",
       "    </tr>\n",
       "  </tbody>\n",
       "</table>\n",
       "</div>"
      ],
      "text/plain": [
       "col_0    0    1\n",
       "Result         \n",
       "0       50   55\n",
       "1       27  110"
      ]
     },
     "execution_count": 53,
     "metadata": {},
     "output_type": "execute_result"
    }
   ],
   "source": [
    "#Actual vs Predicted table on train data\n",
    "myknntable = mypd.crosstab(y_train,knnpredy)\n",
    "#Confusion matrix\n",
    "myknntable"
   ]
  },
  {
   "cell_type": "markdown",
   "id": "8a967a75",
   "metadata": {},
   "source": [
    "**Model accuracy from confusion matrix of train data**"
   ]
  },
  {
   "cell_type": "code",
   "execution_count": 54,
   "id": "a71052ac",
   "metadata": {},
   "outputs": [],
   "source": [
    "#True Positive\n",
    "TP = 110\n",
    "#False Positive\n",
    "FP = 55\n",
    "#True Negative\n",
    "TN = 50\n",
    "#False Negative\n",
    "FN = 27"
   ]
  },
  {
   "cell_type": "markdown",
   "id": "c25f21e2",
   "metadata": {},
   "source": [
    "**Model accuracy**\n"
   ]
  },
  {
   "cell_type": "code",
   "execution_count": 55,
   "id": "ae518898",
   "metadata": {},
   "outputs": [
    {
     "data": {
      "text/plain": [
       "0.6666666666666666"
      ]
     },
     "execution_count": 55,
     "metadata": {},
     "output_type": "execute_result"
    }
   ],
   "source": [
    "#Accuracy\n",
    "TP/(TP+FP)"
   ]
  },
  {
   "cell_type": "code",
   "execution_count": 56,
   "id": "58eff713",
   "metadata": {},
   "outputs": [
    {
     "data": {
      "text/plain": [
       "0.33333333333333337"
      ]
     },
     "execution_count": 56,
     "metadata": {},
     "output_type": "execute_result"
    }
   ],
   "source": [
    "#Misclassification rate\n",
    "1 - TP/(TP+FP)"
   ]
  },
  {
   "cell_type": "markdown",
   "id": "4b9bb525",
   "metadata": {},
   "source": [
    "### Validate model on test data"
   ]
  },
  {
   "cell_type": "code",
   "execution_count": 57,
   "id": "cfc7abd0",
   "metadata": {},
   "outputs": [],
   "source": [
    "#Get the predicted value on test data\n",
    "knnpredtest = myknnmodel.predict(X=x_test)"
   ]
  },
  {
   "cell_type": "code",
   "execution_count": 58,
   "id": "caf1bcda",
   "metadata": {},
   "outputs": [
    {
     "data": {
      "text/html": [
       "<div>\n",
       "<style scoped>\n",
       "    .dataframe tbody tr th:only-of-type {\n",
       "        vertical-align: middle;\n",
       "    }\n",
       "\n",
       "    .dataframe tbody tr th {\n",
       "        vertical-align: top;\n",
       "    }\n",
       "\n",
       "    .dataframe thead th {\n",
       "        text-align: right;\n",
       "    }\n",
       "</style>\n",
       "<table border=\"1\" class=\"dataframe\">\n",
       "  <thead>\n",
       "    <tr style=\"text-align: right;\">\n",
       "      <th>col_0</th>\n",
       "      <th>0</th>\n",
       "      <th>1</th>\n",
       "    </tr>\n",
       "    <tr>\n",
       "      <th>Result</th>\n",
       "      <th></th>\n",
       "      <th></th>\n",
       "    </tr>\n",
       "  </thead>\n",
       "  <tbody>\n",
       "    <tr>\n",
       "      <th>0</th>\n",
       "      <td>17</td>\n",
       "      <td>16</td>\n",
       "    </tr>\n",
       "    <tr>\n",
       "      <th>1</th>\n",
       "      <td>4</td>\n",
       "      <td>24</td>\n",
       "    </tr>\n",
       "  </tbody>\n",
       "</table>\n",
       "</div>"
      ],
      "text/plain": [
       "col_0    0   1\n",
       "Result        \n",
       "0       17  16\n",
       "1        4  24"
      ]
     },
     "execution_count": 58,
     "metadata": {},
     "output_type": "execute_result"
    }
   ],
   "source": [
    "#Actual vs Predicted table on test data\n",
    "myknntable = mypd.crosstab(y_test,knnpredtest)\n",
    "#Confusion matrix\n",
    "myknntable"
   ]
  },
  {
   "cell_type": "markdown",
   "id": "ba15c015",
   "metadata": {},
   "source": [
    "**Model accuracy from confusion matrix of test data**"
   ]
  },
  {
   "cell_type": "code",
   "execution_count": 59,
   "id": "a3c689b2",
   "metadata": {},
   "outputs": [],
   "source": [
    "#True Positive\n",
    "TP = 24\n",
    "#False Positive\n",
    "FP =16\n",
    "#True Negative\n",
    "TN = 27\n",
    "#False Negative\n",
    "FN = 4"
   ]
  },
  {
   "cell_type": "markdown",
   "id": "69be0c5e",
   "metadata": {},
   "source": [
    "**Model accuracy**\n"
   ]
  },
  {
   "cell_type": "code",
   "execution_count": 60,
   "id": "a1058776",
   "metadata": {},
   "outputs": [
    {
     "data": {
      "text/plain": [
       "0.6"
      ]
     },
     "execution_count": 60,
     "metadata": {},
     "output_type": "execute_result"
    }
   ],
   "source": [
    "#Accuracy\n",
    "TP/(TP+FP)"
   ]
  },
  {
   "cell_type": "code",
   "execution_count": 61,
   "id": "7ae66133",
   "metadata": {},
   "outputs": [
    {
     "data": {
      "text/plain": [
       "0.4"
      ]
     },
     "execution_count": 61,
     "metadata": {},
     "output_type": "execute_result"
    }
   ],
   "source": [
    "#Misclassification rate\n",
    "1 - TP/(TP+FP)"
   ]
  },
  {
   "cell_type": "markdown",
   "id": "33d95532",
   "metadata": {},
   "source": [
    "Model accuracy on test data = 79.41% which is sufficient drop from 93.70% on train data."
   ]
  },
  {
   "cell_type": "markdown",
   "id": "155931ef",
   "metadata": {},
   "source": [
    "| |KNN Classifier Model | |\n",
    "| ----------- | ----------- |----------- |\n",
    "| | Train Data |Test Data |\n",
    "|Accuracy |66.66 |60.00|\n",
    "|Misclassification rate |33.33|40.00|\n"
   ]
  },
  {
   "cell_type": "markdown",
   "id": "8bfc9abe",
   "metadata": {},
   "source": [
    "## SVM Classifier Method"
   ]
  },
  {
   "cell_type": "code",
   "execution_count": 62,
   "id": "e2f238d3",
   "metadata": {},
   "outputs": [],
   "source": [
    "#Specify the model\n",
    "mysvmmodel = svm.SVC()"
   ]
  },
  {
   "cell_type": "code",
   "execution_count": 63,
   "id": "4f981324",
   "metadata": {},
   "outputs": [],
   "source": [
    "#Fit the model to training data\n",
    "mysvmmodel = mysvmmodel.fit(x_train,y_train)"
   ]
  },
  {
   "cell_type": "code",
   "execution_count": 64,
   "id": "1d639276",
   "metadata": {},
   "outputs": [
    {
     "data": {
      "text/plain": [
       "0.649"
      ]
     },
     "execution_count": 64,
     "metadata": {},
     "output_type": "execute_result"
    }
   ],
   "source": [
    "#Model accuarcy\n",
    "svmaccuracy = mysvmmodel.score(x_train,y_train)\n",
    "round(svmaccuracy,3)"
   ]
  },
  {
   "cell_type": "markdown",
   "id": "8fc972e6",
   "metadata": {},
   "source": [
    "Model accuracy is not good. We check model generalizability using cross validation."
   ]
  },
  {
   "cell_type": "code",
   "execution_count": 65,
   "id": "f39722f7",
   "metadata": {},
   "outputs": [],
   "source": [
    "#Perform a 4 fold Cross Validation\n",
    "mysvmscore = cross_val_score(estimator=mysvmmodel,X=x_train,y=y_train,cv=4,scoring='accuracy')"
   ]
  },
  {
   "cell_type": "code",
   "execution_count": 66,
   "id": "683772f5",
   "metadata": {},
   "outputs": [
    {
     "data": {
      "text/plain": [
       "0.6323770491803279"
      ]
     },
     "execution_count": 66,
     "metadata": {},
     "output_type": "execute_result"
    }
   ],
   "source": [
    "#Cross Validation Accuracy\n",
    "mysvmscore.mean()"
   ]
  },
  {
   "cell_type": "markdown",
   "id": "37898de3",
   "metadata": {},
   "source": [
    "We see that model generalizability is good with train data."
   ]
  },
  {
   "cell_type": "markdown",
   "id": "f94badc9",
   "metadata": {},
   "source": [
    "**Hyper parameter optimization**"
   ]
  },
  {
   "cell_type": "code",
   "execution_count": 67,
   "id": "a18a3fb7",
   "metadata": {},
   "outputs": [],
   "source": [
    "#Specify the parameter grid\n",
    "mysvmparamgrid = {'kernel':['linear', 'poly', 'rbf'],'degree':[1,2,3]}"
   ]
  },
  {
   "cell_type": "code",
   "execution_count": 68,
   "id": "38190325",
   "metadata": {},
   "outputs": [],
   "source": [
    "# Set up search\n",
    "mysvmsearch = GridSearchCV(estimator=mysvmmodel,param_grid=mysvmparamgrid,scoring='accuracy',cv=5,verbose=True)"
   ]
  },
  {
   "cell_type": "code",
   "execution_count": 69,
   "id": "2443e944",
   "metadata": {},
   "outputs": [
    {
     "name": "stdout",
     "output_type": "stream",
     "text": [
      "Fitting 5 folds for each of 9 candidates, totalling 45 fits\n"
     ]
    }
   ],
   "source": [
    "#Fit the search on training data\n",
    "mysvmsearch = mysvmsearch.fit(X=x_train,y=y_train)"
   ]
  },
  {
   "cell_type": "code",
   "execution_count": 70,
   "id": "202f8adc",
   "metadata": {},
   "outputs": [
    {
     "data": {
      "text/plain": [
       "{'degree': 1, 'kernel': 'linear'}"
      ]
     },
     "execution_count": 70,
     "metadata": {},
     "output_type": "execute_result"
    }
   ],
   "source": [
    "#Optimum parameter values\n",
    "mysvmsearch.best_params_"
   ]
  },
  {
   "cell_type": "code",
   "execution_count": 71,
   "id": "1e0156f6",
   "metadata": {},
   "outputs": [],
   "source": [
    "#Specify optimum model\n",
    "mysvmmodel = svm.SVC(kernel='linear',degree=1)"
   ]
  },
  {
   "cell_type": "code",
   "execution_count": 72,
   "id": "40eb5fe8",
   "metadata": {},
   "outputs": [],
   "source": [
    "# Fit the model to training data\n",
    "mysvmmodel = mysvmmodel.fit(X=x_train,y=y_train)"
   ]
  },
  {
   "cell_type": "code",
   "execution_count": 73,
   "id": "2fb3f97c",
   "metadata": {},
   "outputs": [
    {
     "data": {
      "text/plain": [
       "0.8636363636363636"
      ]
     },
     "execution_count": 73,
     "metadata": {},
     "output_type": "execute_result"
    }
   ],
   "source": [
    "# Check the model accuracy:\n",
    "svmaccuracy = mysvmmodel.score(x_train,y_train)\n",
    "svmaccuracy"
   ]
  },
  {
   "cell_type": "code",
   "execution_count": 74,
   "id": "333d6ccf",
   "metadata": {},
   "outputs": [
    {
     "data": {
      "text/plain": [
       "0.8306122448979592"
      ]
     },
     "execution_count": 74,
     "metadata": {},
     "output_type": "execute_result"
    }
   ],
   "source": [
    "#Cross validation accuracy\n",
    "mysvmscore = cross_val_score(estimator=mysvmmodel,X=x_train,y=y_train,scoring='accuracy',cv=5)\n",
    "mysvmscore.mean()"
   ]
  },
  {
   "cell_type": "code",
   "execution_count": 75,
   "id": "2159027c",
   "metadata": {},
   "outputs": [],
   "source": [
    "# Predicted Values on train data\n",
    "svmpredy = mysvmmodel.predict(X=x_train)"
   ]
  },
  {
   "cell_type": "code",
   "execution_count": 76,
   "id": "0747a675",
   "metadata": {},
   "outputs": [
    {
     "data": {
      "text/html": [
       "<div>\n",
       "<style scoped>\n",
       "    .dataframe tbody tr th:only-of-type {\n",
       "        vertical-align: middle;\n",
       "    }\n",
       "\n",
       "    .dataframe tbody tr th {\n",
       "        vertical-align: top;\n",
       "    }\n",
       "\n",
       "    .dataframe thead th {\n",
       "        text-align: right;\n",
       "    }\n",
       "</style>\n",
       "<table border=\"1\" class=\"dataframe\">\n",
       "  <thead>\n",
       "    <tr style=\"text-align: right;\">\n",
       "      <th>col_0</th>\n",
       "      <th>0</th>\n",
       "      <th>1</th>\n",
       "    </tr>\n",
       "    <tr>\n",
       "      <th>Result</th>\n",
       "      <th></th>\n",
       "      <th></th>\n",
       "    </tr>\n",
       "  </thead>\n",
       "  <tbody>\n",
       "    <tr>\n",
       "      <th>0</th>\n",
       "      <td>83</td>\n",
       "      <td>22</td>\n",
       "    </tr>\n",
       "    <tr>\n",
       "      <th>1</th>\n",
       "      <td>11</td>\n",
       "      <td>126</td>\n",
       "    </tr>\n",
       "  </tbody>\n",
       "</table>\n",
       "</div>"
      ],
      "text/plain": [
       "col_0    0    1\n",
       "Result         \n",
       "0       83   22\n",
       "1       11  126"
      ]
     },
     "execution_count": 76,
     "metadata": {},
     "output_type": "execute_result"
    }
   ],
   "source": [
    "#Actual vs Predicted table on train data\n",
    "mysvmtable = mypd.crosstab(y_train,svmpredy)\n",
    "#Confusion matrix\n",
    "mysvmtable"
   ]
  },
  {
   "cell_type": "markdown",
   "id": "4125fea6",
   "metadata": {},
   "source": [
    "**Model accuracy from confusion matrix**"
   ]
  },
  {
   "cell_type": "code",
   "execution_count": 77,
   "id": "02437b34",
   "metadata": {},
   "outputs": [],
   "source": [
    "#True Positive\n",
    "TP = 126\n",
    "#False Positive\n",
    "FP = 22\n",
    "#True Negative\n",
    "TN = 83\n",
    "#False Negative\n",
    "FN = 11"
   ]
  },
  {
   "cell_type": "markdown",
   "id": "7e6b11c4",
   "metadata": {},
   "source": [
    "**Model accuracy**\n"
   ]
  },
  {
   "cell_type": "code",
   "execution_count": 78,
   "id": "c2f9e3e2",
   "metadata": {},
   "outputs": [
    {
     "data": {
      "text/plain": [
       "0.8513513513513513"
      ]
     },
     "execution_count": 78,
     "metadata": {},
     "output_type": "execute_result"
    }
   ],
   "source": [
    "#Accuracy\n",
    "TP/(TP+FP)"
   ]
  },
  {
   "cell_type": "code",
   "execution_count": 79,
   "id": "ca9b7db6",
   "metadata": {},
   "outputs": [
    {
     "data": {
      "text/plain": [
       "0.14864864864864868"
      ]
     },
     "execution_count": 79,
     "metadata": {},
     "output_type": "execute_result"
    }
   ],
   "source": [
    "#Misclassification rate\n",
    "1 - TP/(TP+FP)"
   ]
  },
  {
   "cell_type": "markdown",
   "id": "22556e61",
   "metadata": {},
   "source": [
    "### Validate model on test data"
   ]
  },
  {
   "cell_type": "code",
   "execution_count": 80,
   "id": "206f01df",
   "metadata": {},
   "outputs": [],
   "source": [
    "#Get the predicted value on test data\n",
    "svmpredtest = mysvmmodel.predict(X=x_test)"
   ]
  },
  {
   "cell_type": "code",
   "execution_count": 81,
   "id": "b0bf2868",
   "metadata": {},
   "outputs": [
    {
     "data": {
      "text/html": [
       "<div>\n",
       "<style scoped>\n",
       "    .dataframe tbody tr th:only-of-type {\n",
       "        vertical-align: middle;\n",
       "    }\n",
       "\n",
       "    .dataframe tbody tr th {\n",
       "        vertical-align: top;\n",
       "    }\n",
       "\n",
       "    .dataframe thead th {\n",
       "        text-align: right;\n",
       "    }\n",
       "</style>\n",
       "<table border=\"1\" class=\"dataframe\">\n",
       "  <thead>\n",
       "    <tr style=\"text-align: right;\">\n",
       "      <th>col_0</th>\n",
       "      <th>0</th>\n",
       "      <th>1</th>\n",
       "    </tr>\n",
       "    <tr>\n",
       "      <th>Result</th>\n",
       "      <th></th>\n",
       "      <th></th>\n",
       "    </tr>\n",
       "  </thead>\n",
       "  <tbody>\n",
       "    <tr>\n",
       "      <th>0</th>\n",
       "      <td>24</td>\n",
       "      <td>9</td>\n",
       "    </tr>\n",
       "    <tr>\n",
       "      <th>1</th>\n",
       "      <td>4</td>\n",
       "      <td>24</td>\n",
       "    </tr>\n",
       "  </tbody>\n",
       "</table>\n",
       "</div>"
      ],
      "text/plain": [
       "col_0    0   1\n",
       "Result        \n",
       "0       24   9\n",
       "1        4  24"
      ]
     },
     "execution_count": 81,
     "metadata": {},
     "output_type": "execute_result"
    }
   ],
   "source": [
    "#Actual vs Predicted table on test data\n",
    "mysvmtable = mypd.crosstab(y_test,svmpredtest)\n",
    "#Confusion matrix\n",
    "mysvmtable"
   ]
  },
  {
   "cell_type": "markdown",
   "id": "e41b5789",
   "metadata": {},
   "source": [
    "**Model accuracy from confusion matrix of test data**"
   ]
  },
  {
   "cell_type": "code",
   "execution_count": 82,
   "id": "bf6eeabc",
   "metadata": {},
   "outputs": [],
   "source": [
    "#True Positive\n",
    "TP = 24\n",
    "#False Positive\n",
    "FP = 9\n",
    "#True Negative\n",
    "TN = 24\n",
    "#False Negative\n",
    "FN = 4"
   ]
  },
  {
   "cell_type": "markdown",
   "id": "5e2e3610",
   "metadata": {},
   "source": [
    "**Model accuracy**\n"
   ]
  },
  {
   "cell_type": "code",
   "execution_count": 83,
   "id": "3013c571",
   "metadata": {},
   "outputs": [
    {
     "data": {
      "text/plain": [
       "0.7272727272727273"
      ]
     },
     "execution_count": 83,
     "metadata": {},
     "output_type": "execute_result"
    }
   ],
   "source": [
    "#Accuracy\n",
    "TP/(TP+FP)"
   ]
  },
  {
   "cell_type": "code",
   "execution_count": 84,
   "id": "d8093b9a",
   "metadata": {},
   "outputs": [
    {
     "data": {
      "text/plain": [
       "0.2727272727272727"
      ]
     },
     "execution_count": 84,
     "metadata": {},
     "output_type": "execute_result"
    }
   ],
   "source": [
    "#Misclassification rate\n",
    "1 - TP/(TP+FP)"
   ]
  },
  {
   "cell_type": "markdown",
   "id": "93de1bf4",
   "metadata": {},
   "source": [
    "Model accuracy on test data = 72.72% which is sufficient drop from 85.13% on train data."
   ]
  },
  {
   "cell_type": "markdown",
   "id": "341c6745",
   "metadata": {},
   "source": [
    "| |SVM Classifer | |\n",
    "| ----------- | ----------- |----------- |\n",
    "| | Train Data |Test Data |\n",
    "|Accuracy |85.13 |72.72|\n",
    "|Misclassification rate |14.86|27.27|\n"
   ]
  },
  {
   "cell_type": "markdown",
   "id": "960f3491",
   "metadata": {},
   "source": [
    "**We comapare all three models**"
   ]
  },
  {
   "cell_type": "markdown",
   "id": "1d790e09",
   "metadata": {},
   "source": [
    "| |Naive Bayes |  |KNN Classifier| |SVM Classifier| |\n",
    "| :-----------:| :-----------: |:-----------: | :-----------: |:-----------:|:-----------:|-----------:|\n",
    "| | Train Data |Test Data |Train Data |Test Data |Train Data |Test Data |\n",
    "| Accuracy |80.89|81.25|66.66|60.00|85.13|72.72|\n",
    "|Misclassification rate |19.10 |18.75|33.33 |40.00|14.86|27.27|\n",
    "\n"
   ]
  },
  {
   "cell_type": "markdown",
   "id": "6db39f26",
   "metadata": {},
   "source": [
    "After comparing KNN classifier, SVM classifier and Naive Bayes we see that KNN Classifier has the lowest accuracy, whereas SVM Classifier has highest accuracy."
   ]
  },
  {
   "cell_type": "markdown",
   "id": "24a3ae36",
   "metadata": {},
   "source": [
    "## Compare all the models"
   ]
  },
  {
   "cell_type": "markdown",
   "id": "9f891a2e",
   "metadata": {},
   "source": [
    "| |Bagging Model |  |Random Forest| |CART| |Logistic Regression| |Naive Bayes| |KNN| |SVM| |\n",
    "| :-----------: | :-----------: |:-----------: | :-----------: |:-----------:|:-----------: |:-----------: |:-----------:|:-----------:|:-----------:|:-----------:|:-----------:|:-----------:|:-----------:|:-----------:|\n",
    "| | Train Data |Test Data |Train Data |Test Data |Train Data |Test Data |Train Data |Test Data |Train Data |Test Data |Train Data |Test Data |Train Data |Test Data |\n",
    "| Accuracy |93.70|79.41|97.82|78.12|91.15|71.42|84.3|83.6|80.89|81.25|66.66|60.00|85.13|72.27|\n",
    "|Misclassification Rate |6.29 |20.59|2.17 |21.87|8.84|28.57|15.7|16.4|19.10|18.75|33.33|40.00|14.86|27.27|\n",
    "\n"
   ]
  },
  {
   "cell_type": "markdown",
   "id": "e18c0341",
   "metadata": {},
   "source": [
    "Comapring all the models we see that Tree based models are giving higher accuarcy where as KNN classifier is giving the least accuracy."
   ]
  }
 ],
 "metadata": {
  "kernelspec": {
   "display_name": "Python 3 (ipykernel)",
   "language": "python",
   "name": "python3"
  },
  "language_info": {
   "codemirror_mode": {
    "name": "ipython",
    "version": 3
   },
   "file_extension": ".py",
   "mimetype": "text/x-python",
   "name": "python",
   "nbconvert_exporter": "python",
   "pygments_lexer": "ipython3",
   "version": "3.9.12"
  }
 },
 "nbformat": 4,
 "nbformat_minor": 5
}
