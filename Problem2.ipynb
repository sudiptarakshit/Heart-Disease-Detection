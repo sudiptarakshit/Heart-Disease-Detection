{
 "cells": [
  {
   "cell_type": "markdown",
   "id": "af920ae7",
   "metadata": {},
   "source": [
    "# Problem 2"
   ]
  },
  {
   "cell_type": "code",
   "execution_count": 1,
   "id": "a205b995",
   "metadata": {},
   "outputs": [],
   "source": [
    "#Import the packages\n",
    "import pandas as mypd\n",
    "from sklearn import tree\n",
    "from sklearn.model_selection import cross_val_score\n",
    "from sklearn.model_selection import GridSearchCV\n",
    "import matplotlib.pyplot as myplot\n",
    "from sklearn.model_selection import train_test_split\n",
    "from sklearn.metrics import mean_squared_error\n",
    "import math as mymath\n",
    "import seaborn as mysb\n",
    "from sklearn.ensemble import RandomForestClassifier\n",
    "import random\n",
    "from statsmodels.formula.api import ols\n",
    "from scipy import stats\n",
    "import statsmodels.api as mysm\n",
    "from sklearn.linear_model import LogisticRegression\n",
    "import numpy as mynp\n",
    "from sklearn.metrics import confusion_matrix"
   ]
  },
  {
   "cell_type": "code",
   "execution_count": 2,
   "id": "0e3a6210",
   "metadata": {},
   "outputs": [],
   "source": [
    "#Import the dataset\n",
    "mydata = mypd.read_excel('/Users/sudiptarakshit/Desktop/ISI MS QMS/Sem2/MDA/Assignment/Assignment6/Heart_Disease_Data.xlsx')"
   ]
  },
  {
   "cell_type": "code",
   "execution_count": 3,
   "id": "280cb169",
   "metadata": {},
   "outputs": [
    {
     "data": {
      "text/html": [
       "<div>\n",
       "<style scoped>\n",
       "    .dataframe tbody tr th:only-of-type {\n",
       "        vertical-align: middle;\n",
       "    }\n",
       "\n",
       "    .dataframe tbody tr th {\n",
       "        vertical-align: top;\n",
       "    }\n",
       "\n",
       "    .dataframe thead th {\n",
       "        text-align: right;\n",
       "    }\n",
       "</style>\n",
       "<table border=\"1\" class=\"dataframe\">\n",
       "  <thead>\n",
       "    <tr style=\"text-align: right;\">\n",
       "      <th></th>\n",
       "      <th>Age</th>\n",
       "      <th>Sex</th>\n",
       "      <th>CP</th>\n",
       "      <th>RestBP</th>\n",
       "      <th>Cholesteral</th>\n",
       "      <th>FBP</th>\n",
       "      <th>RestECG</th>\n",
       "      <th>Max_HR</th>\n",
       "      <th>ExAngina</th>\n",
       "      <th>Oldpeak</th>\n",
       "      <th>Slope</th>\n",
       "      <th>CA</th>\n",
       "      <th>Thal</th>\n",
       "      <th>Result</th>\n",
       "    </tr>\n",
       "  </thead>\n",
       "  <tbody>\n",
       "    <tr>\n",
       "      <th>0</th>\n",
       "      <td>63</td>\n",
       "      <td>1</td>\n",
       "      <td>3</td>\n",
       "      <td>145</td>\n",
       "      <td>233</td>\n",
       "      <td>1</td>\n",
       "      <td>0</td>\n",
       "      <td>150</td>\n",
       "      <td>0</td>\n",
       "      <td>2.3</td>\n",
       "      <td>0</td>\n",
       "      <td>0</td>\n",
       "      <td>1</td>\n",
       "      <td>1</td>\n",
       "    </tr>\n",
       "    <tr>\n",
       "      <th>1</th>\n",
       "      <td>37</td>\n",
       "      <td>1</td>\n",
       "      <td>2</td>\n",
       "      <td>130</td>\n",
       "      <td>250</td>\n",
       "      <td>0</td>\n",
       "      <td>1</td>\n",
       "      <td>187</td>\n",
       "      <td>0</td>\n",
       "      <td>3.5</td>\n",
       "      <td>0</td>\n",
       "      <td>0</td>\n",
       "      <td>2</td>\n",
       "      <td>1</td>\n",
       "    </tr>\n",
       "    <tr>\n",
       "      <th>2</th>\n",
       "      <td>41</td>\n",
       "      <td>0</td>\n",
       "      <td>1</td>\n",
       "      <td>130</td>\n",
       "      <td>204</td>\n",
       "      <td>0</td>\n",
       "      <td>0</td>\n",
       "      <td>172</td>\n",
       "      <td>0</td>\n",
       "      <td>1.4</td>\n",
       "      <td>2</td>\n",
       "      <td>0</td>\n",
       "      <td>2</td>\n",
       "      <td>1</td>\n",
       "    </tr>\n",
       "    <tr>\n",
       "      <th>3</th>\n",
       "      <td>56</td>\n",
       "      <td>1</td>\n",
       "      <td>1</td>\n",
       "      <td>120</td>\n",
       "      <td>236</td>\n",
       "      <td>0</td>\n",
       "      <td>1</td>\n",
       "      <td>178</td>\n",
       "      <td>0</td>\n",
       "      <td>0.8</td>\n",
       "      <td>2</td>\n",
       "      <td>0</td>\n",
       "      <td>2</td>\n",
       "      <td>1</td>\n",
       "    </tr>\n",
       "    <tr>\n",
       "      <th>4</th>\n",
       "      <td>57</td>\n",
       "      <td>0</td>\n",
       "      <td>0</td>\n",
       "      <td>120</td>\n",
       "      <td>354</td>\n",
       "      <td>0</td>\n",
       "      <td>1</td>\n",
       "      <td>163</td>\n",
       "      <td>1</td>\n",
       "      <td>0.6</td>\n",
       "      <td>2</td>\n",
       "      <td>0</td>\n",
       "      <td>2</td>\n",
       "      <td>1</td>\n",
       "    </tr>\n",
       "  </tbody>\n",
       "</table>\n",
       "</div>"
      ],
      "text/plain": [
       "   Age  Sex  CP  RestBP  Cholesteral  FBP  RestECG  Max_HR  ExAngina  Oldpeak  \\\n",
       "0   63    1   3     145          233    1        0     150         0      2.3   \n",
       "1   37    1   2     130          250    0        1     187         0      3.5   \n",
       "2   41    0   1     130          204    0        0     172         0      1.4   \n",
       "3   56    1   1     120          236    0        1     178         0      0.8   \n",
       "4   57    0   0     120          354    0        1     163         1      0.6   \n",
       "\n",
       "   Slope  CA  Thal  Result  \n",
       "0      0   0     1       1  \n",
       "1      0   0     2       1  \n",
       "2      2   0     2       1  \n",
       "3      2   0     2       1  \n",
       "4      2   0     2       1  "
      ]
     },
     "execution_count": 3,
     "metadata": {},
     "output_type": "execute_result"
    }
   ],
   "source": [
    "#Explore the dataset\n",
    "mydata.head()"
   ]
  },
  {
   "cell_type": "code",
   "execution_count": 4,
   "id": "13c984f9",
   "metadata": {},
   "outputs": [
    {
     "name": "stdout",
     "output_type": "stream",
     "text": [
      "<class 'pandas.core.frame.DataFrame'>\n",
      "RangeIndex: 303 entries, 0 to 302\n",
      "Data columns (total 14 columns):\n",
      " #   Column       Non-Null Count  Dtype  \n",
      "---  ------       --------------  -----  \n",
      " 0   Age          303 non-null    int64  \n",
      " 1   Sex          303 non-null    int64  \n",
      " 2   CP           303 non-null    int64  \n",
      " 3   RestBP       303 non-null    int64  \n",
      " 4   Cholesteral  303 non-null    int64  \n",
      " 5   FBP          303 non-null    int64  \n",
      " 6   RestECG      303 non-null    int64  \n",
      " 7   Max_HR       303 non-null    int64  \n",
      " 8   ExAngina     303 non-null    int64  \n",
      " 9   Oldpeak      303 non-null    float64\n",
      " 10  Slope        303 non-null    int64  \n",
      " 11  CA           303 non-null    int64  \n",
      " 12  Thal         303 non-null    int64  \n",
      " 13  Result       303 non-null    int64  \n",
      "dtypes: float64(1), int64(13)\n",
      "memory usage: 33.3 KB\n"
     ]
    }
   ],
   "source": [
    "#Check the dataset\n",
    "mydata.info()"
   ]
  },
  {
   "cell_type": "markdown",
   "id": "3c67c25c",
   "metadata": {},
   "source": [
    "We find that there are total 303 entries in the dataset and there is no missing value present."
   ]
  },
  {
   "cell_type": "markdown",
   "id": "740a44ee",
   "metadata": {},
   "source": [
    "There are 13 expalnatory features in the data. \n",
    "\n",
    "All the features are numeric type. Some of the features are ordinal type discrete numeric data apparently."
   ]
  },
  {
   "cell_type": "code",
   "execution_count": 5,
   "id": "a1908ec1",
   "metadata": {},
   "outputs": [],
   "source": [
    "#Separate x's and y\n",
    "x = mydata.iloc[:,0:13]\n",
    "y = mydata.iloc[:,13]"
   ]
  },
  {
   "cell_type": "markdown",
   "id": "17e79123",
   "metadata": {},
   "source": [
    "## Split the data randomly into training (80%) and test (20%)"
   ]
  },
  {
   "cell_type": "markdown",
   "id": "845d7989",
   "metadata": {},
   "source": [
    "We initialize the random number generator."
   ]
  },
  {
   "cell_type": "code",
   "execution_count": 6,
   "id": "e0d156ad",
   "metadata": {},
   "outputs": [],
   "source": [
    "#Set seed\n",
    "random.seed(100)"
   ]
  },
  {
   "cell_type": "code",
   "execution_count": 7,
   "id": "d4065087",
   "metadata": {},
   "outputs": [],
   "source": [
    "#Split the data into training (80%) and testing (20%)\n",
    "x_train,x_test,y_train,y_test = train_test_split(x,y,test_size=0.2,random_state=100)"
   ]
  },
  {
   "cell_type": "code",
   "execution_count": 8,
   "id": "8f4753ca",
   "metadata": {},
   "outputs": [
    {
     "data": {
      "text/plain": [
       "(Age            242\n",
       " Sex            242\n",
       " CP             242\n",
       " RestBP         242\n",
       " Cholesteral    242\n",
       " FBP            242\n",
       " RestECG        242\n",
       " Max_HR         242\n",
       " ExAngina       242\n",
       " Oldpeak        242\n",
       " Slope          242\n",
       " CA             242\n",
       " Thal           242\n",
       " dtype: int64,\n",
       " Age            61\n",
       " Sex            61\n",
       " CP             61\n",
       " RestBP         61\n",
       " Cholesteral    61\n",
       " FBP            61\n",
       " RestECG        61\n",
       " Max_HR         61\n",
       " ExAngina       61\n",
       " Oldpeak        61\n",
       " Slope          61\n",
       " CA             61\n",
       " Thal           61\n",
       " dtype: int64)"
      ]
     },
     "execution_count": 8,
     "metadata": {},
     "output_type": "execute_result"
    }
   ],
   "source": [
    "#Check the test/train split\n",
    "x_train.count(), x_test.count()"
   ]
  },
  {
   "cell_type": "markdown",
   "id": "629ddafd",
   "metadata": {},
   "source": [
    "train data has 242 observations & test data has 61 observations."
   ]
  },
  {
   "cell_type": "markdown",
   "id": "cec0090b",
   "metadata": {},
   "source": [
    "| | **Operation on Train data** |  |\n",
    "| :----: | :----: | :----: |\n",
    "| | Build a General Model |  |\n",
    "| |⇩| |\n",
    "| |R<sup>2</sup> Accuracy Check | |\n",
    "| |⇩| |\n",
    "| |Cross Validation R<sup>2</sup> Check for generalizability | |\n",
    "| |⇩ | |\n",
    "| |Hyper Parameter Tuning| |\n",
    "| |⇩ | |\n",
    "| |Build model using the best parameters| |\n",
    "| |⇩ | |\n",
    "| |R<sup>2</sup> Accuracy Check | |\n",
    "| |⇩ | |\n",
    "| |Cross Validation R<sup>2</sup> Check for generalizability | |\n",
    "| |⇩ | |\n",
    "||Get predicted value on train data||\n",
    "| |⇩ | |\n",
    "|| Confusion Matrix||\n",
    "| |⇩ | |\n",
    "||Accuracy on Training Data||\n",
    "| |⇩ | |\n",
    "||Missclassification on training data||"
   ]
  },
  {
   "cell_type": "markdown",
   "id": "75f503d0",
   "metadata": {},
   "source": [
    "| | **Operation on Test data** |  |\n",
    "| :----: | :----: | :----: |\n",
    "||Get predicted value on Test data||\n",
    "| |⇩| |\n",
    "|| Confusion Matrix||\n",
    "| |⇩ | |\n",
    "||Accuracy on Test Data||\n",
    "| |⇩ | |\n",
    "||Missclassification on Test data||"
   ]
  },
  {
   "cell_type": "markdown",
   "id": "52b24303",
   "metadata": {},
   "source": [
    "## Classification Tree Method (CART)"
   ]
  },
  {
   "cell_type": "code",
   "execution_count": 9,
   "id": "ac27cef6",
   "metadata": {},
   "outputs": [],
   "source": [
    "#Specify the model\n",
    "mymodel = tree.DecisionTreeClassifier(min_samples_split=10)"
   ]
  },
  {
   "cell_type": "code",
   "execution_count": 10,
   "id": "04f62065",
   "metadata": {},
   "outputs": [],
   "source": [
    "#Fit the model to training data\n",
    "mymodel = mymodel.fit(x_train,y_train)"
   ]
  },
  {
   "cell_type": "code",
   "execution_count": 11,
   "id": "4744d369",
   "metadata": {},
   "outputs": [
    {
     "data": {
      "text/plain": [
       "0.921"
      ]
     },
     "execution_count": 11,
     "metadata": {},
     "output_type": "execute_result"
    }
   ],
   "source": [
    "#Model accuarcy\n",
    "accuracy = mymodel.score(x_train,y_train)\n",
    "round(accuracy,3)"
   ]
  },
  {
   "cell_type": "markdown",
   "id": "8fc972e6",
   "metadata": {},
   "source": [
    "There may be an overfitting. Model generalizability can be less. We check model generalizability using cross validation."
   ]
  },
  {
   "cell_type": "markdown",
   "id": "d52acca0",
   "metadata": {},
   "source": [
    "**K fold cross validation**\n",
    "\n",
    "A model is trained using k-1 of the folds as training data\n",
    "\n",
    "The resulting model is validated on the remaining part of the data (i.e., it is used as a test set to compute a performance measure such as accuracy)\n",
    "\n",
    "Then we take the average accuracy."
   ]
  },
  {
   "cell_type": "code",
   "execution_count": 12,
   "id": "40a221c1",
   "metadata": {},
   "outputs": [],
   "source": [
    "#Perform a 4 fold Cross Validation\n",
    "myscore = cross_val_score(estimator=mymodel,X=x_train,y=y_train,cv=4,scoring='accuracy')"
   ]
  },
  {
   "cell_type": "code",
   "execution_count": 13,
   "id": "cf0c03ab",
   "metadata": {},
   "outputs": [
    {
     "data": {
      "text/plain": [
       "0.7562158469945355"
      ]
     },
     "execution_count": 13,
     "metadata": {},
     "output_type": "execute_result"
    }
   ],
   "source": [
    "#Cross Validation Accuracy\n",
    "myscore.mean()"
   ]
  },
  {
   "cell_type": "markdown",
   "id": "66549cfd",
   "metadata": {},
   "source": [
    "We see a significant drop in model accuracy after cross validation. We have to do hyper-parameter tuning for a more generalized model."
   ]
  },
  {
   "cell_type": "markdown",
   "id": "c214c809",
   "metadata": {},
   "source": [
    "**Hyper parameter optimization**"
   ]
  },
  {
   "cell_type": "code",
   "execution_count": 14,
   "id": "612c7e62",
   "metadata": {},
   "outputs": [],
   "source": [
    "#Hyper parameter tuning\n",
    "myparamgrid = [{'min_samples_split':[5,10,15,20,25,30,35],'criterion':['gini','entropy']}]"
   ]
  },
  {
   "cell_type": "code",
   "execution_count": 15,
   "id": "a03aa563",
   "metadata": {},
   "outputs": [],
   "source": [
    "# Set up search\n",
    "mysearch = GridSearchCV(estimator=mymodel,param_grid=myparamgrid,scoring='accuracy',cv=5,verbose=True)"
   ]
  },
  {
   "cell_type": "code",
   "execution_count": 16,
   "id": "243d5713",
   "metadata": {
    "scrolled": false
   },
   "outputs": [
    {
     "name": "stdout",
     "output_type": "stream",
     "text": [
      "Fitting 5 folds for each of 14 candidates, totalling 70 fits\n"
     ]
    }
   ],
   "source": [
    "#Fit the search on training data\n",
    "mysearch = mysearch.fit(X=x_train,y=y_train)"
   ]
  },
  {
   "cell_type": "code",
   "execution_count": 17,
   "id": "6a469298",
   "metadata": {},
   "outputs": [
    {
     "data": {
      "text/plain": [
       "{'criterion': 'entropy', 'min_samples_split': 10}"
      ]
     },
     "execution_count": 17,
     "metadata": {},
     "output_type": "execute_result"
    }
   ],
   "source": [
    "#Optimum parameter values\n",
    "mysearch.best_params_"
   ]
  },
  {
   "cell_type": "code",
   "execution_count": 18,
   "id": "28bf2b18",
   "metadata": {},
   "outputs": [],
   "source": [
    "#Specify optimum model\n",
    "mymodel = tree.DecisionTreeClassifier(criterion='entropy',min_samples_split=10)"
   ]
  },
  {
   "cell_type": "code",
   "execution_count": 19,
   "id": "f74a2194",
   "metadata": {},
   "outputs": [],
   "source": [
    "# Fit the model to training data\n",
    "mymodel = mymodel.fit(X=x_train,y=y_train)"
   ]
  },
  {
   "cell_type": "code",
   "execution_count": 20,
   "id": "ea0b9fed",
   "metadata": {},
   "outputs": [
    {
     "data": {
      "text/plain": [
       "0.9338842975206612"
      ]
     },
     "execution_count": 20,
     "metadata": {},
     "output_type": "execute_result"
    }
   ],
   "source": [
    "# Check the model accuracy\n",
    "accuracy = mymodel.score(x_train,y_train)\n",
    "accuracy"
   ]
  },
  {
   "cell_type": "markdown",
   "id": "1c91ca96",
   "metadata": {},
   "source": [
    "There is no improvement in model accuracy after hyper parameter optimization, Also, there should be increase in model generalizability."
   ]
  },
  {
   "cell_type": "code",
   "execution_count": 22,
   "id": "2b416ff4",
   "metadata": {},
   "outputs": [
    {
     "data": {
      "text/plain": [
       "0.7440476190476191"
      ]
     },
     "execution_count": 22,
     "metadata": {},
     "output_type": "execute_result"
    }
   ],
   "source": [
    "#Cross validation accuracy\n",
    "myscore = cross_val_score(estimator=mymodel,X=x_train,y=y_train,scoring='accuracy',cv=5)\n",
    "myscore.mean()"
   ]
  },
  {
   "cell_type": "markdown",
   "id": "c6d77ba3",
   "metadata": {},
   "source": [
    "We see that cross validation accuracy has also increased."
   ]
  },
  {
   "cell_type": "code",
   "execution_count": 23,
   "id": "747cd2da",
   "metadata": {},
   "outputs": [],
   "source": [
    "# Predicted Values on train data\n",
    "predy = mymodel.predict(X=x_train)"
   ]
  },
  {
   "cell_type": "code",
   "execution_count": 24,
   "id": "313ac780",
   "metadata": {},
   "outputs": [
    {
     "data": {
      "text/html": [
       "<div>\n",
       "<style scoped>\n",
       "    .dataframe tbody tr th:only-of-type {\n",
       "        vertical-align: middle;\n",
       "    }\n",
       "\n",
       "    .dataframe tbody tr th {\n",
       "        vertical-align: top;\n",
       "    }\n",
       "\n",
       "    .dataframe thead th {\n",
       "        text-align: right;\n",
       "    }\n",
       "</style>\n",
       "<table border=\"1\" class=\"dataframe\">\n",
       "  <thead>\n",
       "    <tr style=\"text-align: right;\">\n",
       "      <th>col_0</th>\n",
       "      <th>0</th>\n",
       "      <th>1</th>\n",
       "    </tr>\n",
       "    <tr>\n",
       "      <th>Result</th>\n",
       "      <th></th>\n",
       "      <th></th>\n",
       "    </tr>\n",
       "  </thead>\n",
       "  <tbody>\n",
       "    <tr>\n",
       "      <th>0</th>\n",
       "      <td>92</td>\n",
       "      <td>13</td>\n",
       "    </tr>\n",
       "    <tr>\n",
       "      <th>1</th>\n",
       "      <td>3</td>\n",
       "      <td>134</td>\n",
       "    </tr>\n",
       "  </tbody>\n",
       "</table>\n",
       "</div>"
      ],
      "text/plain": [
       "col_0    0    1\n",
       "Result         \n",
       "0       92   13\n",
       "1        3  134"
      ]
     },
     "execution_count": 24,
     "metadata": {},
     "output_type": "execute_result"
    }
   ],
   "source": [
    "#Actual vs Predicted table on train data\n",
    "mytable = mypd.crosstab(y_train,predy)\n",
    "#Confusion matrix\n",
    "mytable"
   ]
  },
  {
   "cell_type": "markdown",
   "id": "95d4b392",
   "metadata": {},
   "source": [
    "**Analysing Confusion Matrix**"
   ]
  },
  {
   "cell_type": "markdown",
   "id": "2844e607",
   "metadata": {},
   "source": [
    "| | Predicted |  |\n",
    "| ----------- | ----------- | ----------- |\n",
    "| Actual|  0|1|\n",
    "|0 |TN |FP |\n",
    "|1 | FN |TP |\n",
    "\n",
    "\n",
    "0 : Negative\n",
    "1 : Positive"
   ]
  },
  {
   "cell_type": "markdown",
   "id": "3d652678",
   "metadata": {},
   "source": [
    "**Model accuracy from confusion matrix**"
   ]
  },
  {
   "cell_type": "code",
   "execution_count": 25,
   "id": "3a16e673",
   "metadata": {},
   "outputs": [],
   "source": [
    "#True Positive\n",
    "TP = 134\n",
    "#False Positive\n",
    "FP = 13\n",
    "#True Negative\n",
    "TN = 92\n",
    "#False Negative\n",
    "FN = 3"
   ]
  },
  {
   "cell_type": "markdown",
   "id": "e1c424f2",
   "metadata": {},
   "source": [
    "**Model accuracy**\n"
   ]
  },
  {
   "cell_type": "code",
   "execution_count": 26,
   "id": "a755866d",
   "metadata": {},
   "outputs": [
    {
     "data": {
      "text/plain": [
       "0.9115646258503401"
      ]
     },
     "execution_count": 26,
     "metadata": {},
     "output_type": "execute_result"
    }
   ],
   "source": [
    "#Accuracy\n",
    "TP/(TP+FP)"
   ]
  },
  {
   "cell_type": "markdown",
   "id": "3787f51a",
   "metadata": {},
   "source": [
    "**Note:**\n",
    "\n",
    "**Regression(Continuous Response Variable)**\n",
    "\n",
    "Measure of model accuracy obtained from mymodel.score() is R<sup>2</sup> value\n",
    "\n",
    "**Classification(Categorical Response Variable)**\n",
    "\n",
    "Measure of model accuracy obtained from mymodel.score() is `accuracy` which is obtained from confusion matrix.\n",
    "\n",
    "R2 is not a good measure to assess goodness of fit for a classification\n"
   ]
  },
  {
   "cell_type": "code",
   "execution_count": 27,
   "id": "7efcb7b4",
   "metadata": {},
   "outputs": [
    {
     "data": {
      "text/plain": [
       "0.08843537414965985"
      ]
     },
     "execution_count": 27,
     "metadata": {},
     "output_type": "execute_result"
    }
   ],
   "source": [
    "#Misclassification rate\n",
    "1 - TP/(TP+FP)"
   ]
  },
  {
   "cell_type": "markdown",
   "id": "7399c1b8",
   "metadata": {},
   "source": [
    "Model accuracy on training data = 91.15% which is sufficiently good."
   ]
  },
  {
   "cell_type": "markdown",
   "id": "af038560",
   "metadata": {},
   "source": [
    "### Validate model on test data"
   ]
  },
  {
   "cell_type": "code",
   "execution_count": 28,
   "id": "e51554d4",
   "metadata": {},
   "outputs": [],
   "source": [
    "#Get the predicted value on test data\n",
    "predtest = mymodel.predict(X=x_test)"
   ]
  },
  {
   "cell_type": "code",
   "execution_count": 29,
   "id": "7e64bc23",
   "metadata": {},
   "outputs": [
    {
     "data": {
      "text/html": [
       "<div>\n",
       "<style scoped>\n",
       "    .dataframe tbody tr th:only-of-type {\n",
       "        vertical-align: middle;\n",
       "    }\n",
       "\n",
       "    .dataframe tbody tr th {\n",
       "        vertical-align: top;\n",
       "    }\n",
       "\n",
       "    .dataframe thead th {\n",
       "        text-align: right;\n",
       "    }\n",
       "</style>\n",
       "<table border=\"1\" class=\"dataframe\">\n",
       "  <thead>\n",
       "    <tr style=\"text-align: right;\">\n",
       "      <th>col_0</th>\n",
       "      <th>0</th>\n",
       "      <th>1</th>\n",
       "    </tr>\n",
       "    <tr>\n",
       "      <th>Result</th>\n",
       "      <th></th>\n",
       "      <th></th>\n",
       "    </tr>\n",
       "  </thead>\n",
       "  <tbody>\n",
       "    <tr>\n",
       "      <th>0</th>\n",
       "      <td>23</td>\n",
       "      <td>10</td>\n",
       "    </tr>\n",
       "    <tr>\n",
       "      <th>1</th>\n",
       "      <td>3</td>\n",
       "      <td>25</td>\n",
       "    </tr>\n",
       "  </tbody>\n",
       "</table>\n",
       "</div>"
      ],
      "text/plain": [
       "col_0    0   1\n",
       "Result        \n",
       "0       23  10\n",
       "1        3  25"
      ]
     },
     "execution_count": 29,
     "metadata": {},
     "output_type": "execute_result"
    }
   ],
   "source": [
    "#Actual vs Predicted table on test data\n",
    "mytable = mypd.crosstab(y_test,predtest)\n",
    "#Confusion matrix\n",
    "mytable"
   ]
  },
  {
   "cell_type": "markdown",
   "id": "ad2846cd",
   "metadata": {},
   "source": [
    "**Model accuracy from confusion matrix of test data**"
   ]
  },
  {
   "cell_type": "code",
   "execution_count": 30,
   "id": "84c010d4",
   "metadata": {},
   "outputs": [],
   "source": [
    "#True Positive\n",
    "TP = 25\n",
    "#False Positive\n",
    "FP = 10\n",
    "#True Negative\n",
    "TN = 23\n",
    "#False Negative\n",
    "FN = 3"
   ]
  },
  {
   "cell_type": "markdown",
   "id": "cc94fb9e",
   "metadata": {},
   "source": [
    "**Model accuracy**\n"
   ]
  },
  {
   "cell_type": "code",
   "execution_count": 31,
   "id": "44385f14",
   "metadata": {},
   "outputs": [
    {
     "data": {
      "text/plain": [
       "0.7142857142857143"
      ]
     },
     "execution_count": 31,
     "metadata": {},
     "output_type": "execute_result"
    }
   ],
   "source": [
    "#Accuracy\n",
    "TP/(TP+FP)"
   ]
  },
  {
   "cell_type": "code",
   "execution_count": 32,
   "id": "a868b1a3",
   "metadata": {},
   "outputs": [
    {
     "data": {
      "text/plain": [
       "0.2857142857142857"
      ]
     },
     "execution_count": 32,
     "metadata": {},
     "output_type": "execute_result"
    }
   ],
   "source": [
    "#Misclassification rate\n",
    "1 - TP/(TP+FP)"
   ]
  },
  {
   "cell_type": "markdown",
   "id": "45ec652b",
   "metadata": {},
   "source": [
    "Model accuracy on test data = 69.65% which is sufficient drop from 89.65% on train data."
   ]
  },
  {
   "cell_type": "markdown",
   "id": "4c0b1651",
   "metadata": {},
   "source": [
    "| |Decision Tree Classifier Model(CART) | |\n",
    "| ----------- | ----------- |----------- |\n",
    "| | Train Data |Test Data |\n",
    "|Accuracy |91.15 |71.42|\n",
    "|Misclassification rate |8.84|28.57|\n"
   ]
  },
  {
   "cell_type": "markdown",
   "id": "73e7e046",
   "metadata": {},
   "source": [
    "As there is a significant drop in model accuracy in test data, we can say that the model generalizability is not good."
   ]
  },
  {
   "cell_type": "markdown",
   "id": "5e09f87e",
   "metadata": {},
   "source": [
    "## Bagging Method"
   ]
  },
  {
   "cell_type": "markdown",
   "id": "073e59c4",
   "metadata": {},
   "source": [
    "Bagging generally uses all the p predictors.\n",
    "\n",
    "`max_features='auto'`"
   ]
  },
  {
   "cell_type": "code",
   "execution_count": 33,
   "id": "0f69fc24",
   "metadata": {},
   "outputs": [],
   "source": [
    "#Specify a general bagging model\n",
    "bag_model = RandomForestClassifier(n_estimators=500,min_samples_split=40,max_features='auto')"
   ]
  },
  {
   "cell_type": "code",
   "execution_count": 34,
   "id": "1f143dff",
   "metadata": {},
   "outputs": [],
   "source": [
    "# Fit the bag model to the data\n",
    "bag_model = bag_model.fit(x_train,y_train)"
   ]
  },
  {
   "cell_type": "code",
   "execution_count": 35,
   "id": "6f665e0f",
   "metadata": {},
   "outputs": [
    {
     "data": {
      "text/plain": [
       "0.8760330578512396"
      ]
     },
     "execution_count": 35,
     "metadata": {},
     "output_type": "execute_result"
    }
   ],
   "source": [
    "#Model accuarcy\n",
    "accuracy = bag_model.score(x_train,y_train)\n",
    "accuracy"
   ]
  },
  {
   "cell_type": "code",
   "execution_count": 36,
   "id": "8275ef3f",
   "metadata": {},
   "outputs": [],
   "source": [
    "#Perform a 4 fold Cross Validation\n",
    "myscore = cross_val_score(estimator=bag_model,X=x_train,y=y_train,cv=4,scoring='accuracy')"
   ]
  },
  {
   "cell_type": "code",
   "execution_count": 37,
   "id": "a9cdac63",
   "metadata": {},
   "outputs": [
    {
     "data": {
      "text/plain": [
       "0.8387978142076503"
      ]
     },
     "execution_count": 37,
     "metadata": {},
     "output_type": "execute_result"
    }
   ],
   "source": [
    "#Cross Validation Accuracy\n",
    "myscore.mean()"
   ]
  },
  {
   "cell_type": "markdown",
   "id": "8ec4df35",
   "metadata": {},
   "source": [
    "We see a considerably less drop in model accuracy after cross validation. We have to do hyper-parameter tuning for a more generalized model."
   ]
  },
  {
   "cell_type": "markdown",
   "id": "95b11725",
   "metadata": {},
   "source": [
    "**Hyper parameter tuning**"
   ]
  },
  {
   "cell_type": "code",
   "execution_count": 38,
   "id": "89e152d0",
   "metadata": {},
   "outputs": [],
   "source": [
    "#Hyper parameter tuning\n",
    "myparamgrid = [{'min_samples_split':[5,10,15,20,25,30,35],'n_estimators':[100,200,300,400,500,600]}]"
   ]
  },
  {
   "cell_type": "code",
   "execution_count": 39,
   "id": "a8e814e9",
   "metadata": {},
   "outputs": [],
   "source": [
    "# Set up search\n",
    "mysearch = GridSearchCV(estimator=bag_model,param_grid=myparamgrid,scoring='accuracy',cv=5,verbose=True)"
   ]
  },
  {
   "cell_type": "code",
   "execution_count": 40,
   "id": "f8de439e",
   "metadata": {},
   "outputs": [
    {
     "name": "stdout",
     "output_type": "stream",
     "text": [
      "Fitting 5 folds for each of 42 candidates, totalling 210 fits\n"
     ]
    }
   ],
   "source": [
    "#Fit the search on training data\n",
    "mysearch = mysearch.fit(X=x_train,y=y_train)"
   ]
  },
  {
   "cell_type": "code",
   "execution_count": 40,
   "id": "50acae0f",
   "metadata": {
    "scrolled": true
   },
   "outputs": [
    {
     "data": {
      "text/plain": [
       "{'min_samples_split': 10, 'n_estimators': 400}"
      ]
     },
     "execution_count": 40,
     "metadata": {},
     "output_type": "execute_result"
    }
   ],
   "source": [
    "#Optimum parameter values\n",
    "mysearch.best_params_"
   ]
  },
  {
   "cell_type": "code",
   "execution_count": 41,
   "id": "6ae86fe4",
   "metadata": {},
   "outputs": [],
   "source": [
    "#Specify the bagging model\n",
    "bag_model = RandomForestClassifier(n_estimators=400,min_samples_split=10,max_features='auto')"
   ]
  },
  {
   "cell_type": "code",
   "execution_count": 42,
   "id": "8d0b72eb",
   "metadata": {},
   "outputs": [],
   "source": [
    "# Fit the bag model to the data\n",
    "bag_model = bag_model.fit(x_train,y_train)"
   ]
  },
  {
   "cell_type": "code",
   "execution_count": 43,
   "id": "794c09c9",
   "metadata": {},
   "outputs": [
    {
     "data": {
      "text/plain": [
       "0.9504132231404959"
      ]
     },
     "execution_count": 43,
     "metadata": {},
     "output_type": "execute_result"
    }
   ],
   "source": [
    "#Model accuarcy\n",
    "accuracy = bag_model.score(x_train,y_train)\n",
    "accuracy"
   ]
  },
  {
   "cell_type": "code",
   "execution_count": 44,
   "id": "57686c62",
   "metadata": {},
   "outputs": [],
   "source": [
    "#Perform a 4 fold Cross Validation\n",
    "myscore = cross_val_score(estimator=bag_model,X=x_train,y=y_train,cv=4,scoring='accuracy')"
   ]
  },
  {
   "cell_type": "code",
   "execution_count": 45,
   "id": "2b3bb8ae",
   "metadata": {},
   "outputs": [
    {
     "data": {
      "text/plain": [
       "0.8262978142076502"
      ]
     },
     "execution_count": 45,
     "metadata": {},
     "output_type": "execute_result"
    }
   ],
   "source": [
    "#Cross Validation Accuracy\n",
    "myscore.mean()"
   ]
  },
  {
   "cell_type": "code",
   "execution_count": 46,
   "id": "c42244db",
   "metadata": {},
   "outputs": [],
   "source": [
    "# Predicted Values on train data\n",
    "predy = bag_model.predict(X=x_train)"
   ]
  },
  {
   "cell_type": "code",
   "execution_count": 47,
   "id": "3b55d8a9",
   "metadata": {},
   "outputs": [
    {
     "data": {
      "text/html": [
       "<div>\n",
       "<style scoped>\n",
       "    .dataframe tbody tr th:only-of-type {\n",
       "        vertical-align: middle;\n",
       "    }\n",
       "\n",
       "    .dataframe tbody tr th {\n",
       "        vertical-align: top;\n",
       "    }\n",
       "\n",
       "    .dataframe thead th {\n",
       "        text-align: right;\n",
       "    }\n",
       "</style>\n",
       "<table border=\"1\" class=\"dataframe\">\n",
       "  <thead>\n",
       "    <tr style=\"text-align: right;\">\n",
       "      <th>col_0</th>\n",
       "      <th>0</th>\n",
       "      <th>1</th>\n",
       "    </tr>\n",
       "    <tr>\n",
       "      <th>Result</th>\n",
       "      <th></th>\n",
       "      <th></th>\n",
       "    </tr>\n",
       "  </thead>\n",
       "  <tbody>\n",
       "    <tr>\n",
       "      <th>0</th>\n",
       "      <td>96</td>\n",
       "      <td>9</td>\n",
       "    </tr>\n",
       "    <tr>\n",
       "      <th>1</th>\n",
       "      <td>3</td>\n",
       "      <td>134</td>\n",
       "    </tr>\n",
       "  </tbody>\n",
       "</table>\n",
       "</div>"
      ],
      "text/plain": [
       "col_0    0    1\n",
       "Result         \n",
       "0       96    9\n",
       "1        3  134"
      ]
     },
     "execution_count": 47,
     "metadata": {},
     "output_type": "execute_result"
    }
   ],
   "source": [
    "#Actual vs Predicted table on train data\n",
    "mytable = mypd.crosstab(y_train,predy)\n",
    "#Confusion matrix\n",
    "mytable"
   ]
  },
  {
   "cell_type": "markdown",
   "id": "8a967a75",
   "metadata": {},
   "source": [
    "**Model accuracy from confusion matrix of train data**"
   ]
  },
  {
   "cell_type": "code",
   "execution_count": 48,
   "id": "6b7848a1",
   "metadata": {},
   "outputs": [],
   "source": [
    "#True Positive\n",
    "TP = 134\n",
    "#False Positive\n",
    "FP = 9\n",
    "#True Negative\n",
    "TN = 96\n",
    "#False Negative\n",
    "FN = 3"
   ]
  },
  {
   "cell_type": "markdown",
   "id": "c25f21e2",
   "metadata": {},
   "source": [
    "**Model accuracy**\n"
   ]
  },
  {
   "cell_type": "code",
   "execution_count": 49,
   "id": "a5eba42f",
   "metadata": {},
   "outputs": [
    {
     "data": {
      "text/plain": [
       "0.9370629370629371"
      ]
     },
     "execution_count": 49,
     "metadata": {},
     "output_type": "execute_result"
    }
   ],
   "source": [
    "#Accuracy\n",
    "TP/(TP+FP)"
   ]
  },
  {
   "cell_type": "code",
   "execution_count": 50,
   "id": "9c21b5fb",
   "metadata": {},
   "outputs": [
    {
     "data": {
      "text/plain": [
       "0.06293706293706292"
      ]
     },
     "execution_count": 50,
     "metadata": {},
     "output_type": "execute_result"
    }
   ],
   "source": [
    "#Misclassification rate\n",
    "1 - TP/(TP+FP)"
   ]
  },
  {
   "cell_type": "markdown",
   "id": "4b9bb525",
   "metadata": {},
   "source": [
    "### Validate model on test data"
   ]
  },
  {
   "cell_type": "code",
   "execution_count": 51,
   "id": "3c3e1c9e",
   "metadata": {},
   "outputs": [],
   "source": [
    "#Get the predicted value on test data\n",
    "predtest = bag_model.predict(X=x_test)"
   ]
  },
  {
   "cell_type": "code",
   "execution_count": 52,
   "id": "344f7372",
   "metadata": {},
   "outputs": [
    {
     "data": {
      "text/html": [
       "<div>\n",
       "<style scoped>\n",
       "    .dataframe tbody tr th:only-of-type {\n",
       "        vertical-align: middle;\n",
       "    }\n",
       "\n",
       "    .dataframe tbody tr th {\n",
       "        vertical-align: top;\n",
       "    }\n",
       "\n",
       "    .dataframe thead th {\n",
       "        text-align: right;\n",
       "    }\n",
       "</style>\n",
       "<table border=\"1\" class=\"dataframe\">\n",
       "  <thead>\n",
       "    <tr style=\"text-align: right;\">\n",
       "      <th>col_0</th>\n",
       "      <th>0</th>\n",
       "      <th>1</th>\n",
       "    </tr>\n",
       "    <tr>\n",
       "      <th>Result</th>\n",
       "      <th></th>\n",
       "      <th></th>\n",
       "    </tr>\n",
       "  </thead>\n",
       "  <tbody>\n",
       "    <tr>\n",
       "      <th>0</th>\n",
       "      <td>26</td>\n",
       "      <td>7</td>\n",
       "    </tr>\n",
       "    <tr>\n",
       "      <th>1</th>\n",
       "      <td>1</td>\n",
       "      <td>27</td>\n",
       "    </tr>\n",
       "  </tbody>\n",
       "</table>\n",
       "</div>"
      ],
      "text/plain": [
       "col_0    0   1\n",
       "Result        \n",
       "0       26   7\n",
       "1        1  27"
      ]
     },
     "execution_count": 52,
     "metadata": {},
     "output_type": "execute_result"
    }
   ],
   "source": [
    "#Actual vs Predicted table on test data\n",
    "mytable = mypd.crosstab(y_test,predtest)\n",
    "#Confusion matrix\n",
    "mytable"
   ]
  },
  {
   "cell_type": "markdown",
   "id": "ba15c015",
   "metadata": {},
   "source": [
    "**Model accuracy from confusion matrix of test data**"
   ]
  },
  {
   "cell_type": "code",
   "execution_count": 53,
   "id": "110895ac",
   "metadata": {},
   "outputs": [],
   "source": [
    "#True Positive\n",
    "TP = 27\n",
    "#False Positive\n",
    "FP = 7\n",
    "#True Negative\n",
    "TN = 26\n",
    "#False Negative\n",
    "FN = 1"
   ]
  },
  {
   "cell_type": "markdown",
   "id": "69be0c5e",
   "metadata": {},
   "source": [
    "**Model accuracy**\n"
   ]
  },
  {
   "cell_type": "code",
   "execution_count": 54,
   "id": "1612b8f0",
   "metadata": {},
   "outputs": [
    {
     "data": {
      "text/plain": [
       "0.7941176470588235"
      ]
     },
     "execution_count": 54,
     "metadata": {},
     "output_type": "execute_result"
    }
   ],
   "source": [
    "#Accuracy\n",
    "TP/(TP+FP)"
   ]
  },
  {
   "cell_type": "code",
   "execution_count": 55,
   "id": "042679c7",
   "metadata": {},
   "outputs": [
    {
     "data": {
      "text/plain": [
       "0.20588235294117652"
      ]
     },
     "execution_count": 55,
     "metadata": {},
     "output_type": "execute_result"
    }
   ],
   "source": [
    "#Misclassification rate\n",
    "1 - TP/(TP+FP)"
   ]
  },
  {
   "cell_type": "markdown",
   "id": "33d95532",
   "metadata": {},
   "source": [
    "Model accuracy on test data = 79.41% which is sufficient drop from 93.70% on train data."
   ]
  },
  {
   "cell_type": "markdown",
   "id": "155931ef",
   "metadata": {},
   "source": [
    "| |Bagging Model | |\n",
    "| ----------- | ----------- |----------- |\n",
    "| | Train Data |Test Data |\n",
    "|Accuracy |93.70 |79.41|\n",
    "|Misclassification rate |6.29|20.59|\n"
   ]
  },
  {
   "cell_type": "markdown",
   "id": "23de91b4",
   "metadata": {},
   "source": [
    "## Random Forest Method"
   ]
  },
  {
   "cell_type": "markdown",
   "id": "d5d5464b",
   "metadata": {},
   "source": [
    "Random Forest uses sqrt(p) predictors.\n",
    "\n",
    "`max_features='sqrt'`"
   ]
  },
  {
   "cell_type": "code",
   "execution_count": 56,
   "id": "a71d0d37",
   "metadata": {},
   "outputs": [],
   "source": [
    "#Specify the bagging model\n",
    "rf_model = RandomForestClassifier(n_estimators=500,min_samples_split=40,max_features='sqrt')"
   ]
  },
  {
   "cell_type": "code",
   "execution_count": 57,
   "id": "bc36edd8",
   "metadata": {},
   "outputs": [],
   "source": [
    "# Fit the bag model to the dat\n",
    "rf_model= rf_model.fit(x_train,y_train)"
   ]
  },
  {
   "cell_type": "code",
   "execution_count": 58,
   "id": "7d922ca9",
   "metadata": {},
   "outputs": [
    {
     "data": {
      "text/plain": [
       "0.8677685950413223"
      ]
     },
     "execution_count": 58,
     "metadata": {},
     "output_type": "execute_result"
    }
   ],
   "source": [
    "#Model accuarcy\n",
    "accuracy = rf_model.score(x_train,y_train)\n",
    "accuracy"
   ]
  },
  {
   "cell_type": "code",
   "execution_count": 59,
   "id": "e450f0c1",
   "metadata": {},
   "outputs": [],
   "source": [
    "#Perform a 4 fold Cross Validation\n",
    "myscore = cross_val_score(estimator=rf_model,X=x_train,y=y_train,cv=4,scoring='accuracy')"
   ]
  },
  {
   "cell_type": "code",
   "execution_count": 60,
   "id": "a6e2afea",
   "metadata": {},
   "outputs": [
    {
     "data": {
      "text/plain": [
       "0.8346311475409837"
      ]
     },
     "execution_count": 60,
     "metadata": {},
     "output_type": "execute_result"
    }
   ],
   "source": [
    "#Cross Validation Accuracy\n",
    "myscore.mean()"
   ]
  },
  {
   "cell_type": "markdown",
   "id": "986b0e9b",
   "metadata": {},
   "source": [
    "We see a significant drop in model accuracy after cross validation. We have to do hyper-parameter tuning for a more generalized model."
   ]
  },
  {
   "cell_type": "markdown",
   "id": "b51cb5e9",
   "metadata": {},
   "source": [
    "**Hyper parameter tuning**"
   ]
  },
  {
   "cell_type": "code",
   "execution_count": 61,
   "id": "64562c3b",
   "metadata": {},
   "outputs": [],
   "source": [
    "#Hyper parameter tuning\n",
    "myparamgrid = [{'min_samples_split':[5,10,15,20,25,30,35],'n_estimators':[100,200,300,400,500,600]}]"
   ]
  },
  {
   "cell_type": "code",
   "execution_count": 62,
   "id": "9fbaf0b9",
   "metadata": {},
   "outputs": [],
   "source": [
    "# Set up search\n",
    "mysearch = GridSearchCV(estimator=rf_model,param_grid=myparamgrid,scoring='accuracy',cv=5,verbose=True)"
   ]
  },
  {
   "cell_type": "code",
   "execution_count": 63,
   "id": "26c36462",
   "metadata": {},
   "outputs": [
    {
     "name": "stdout",
     "output_type": "stream",
     "text": [
      "Fitting 5 folds for each of 42 candidates, totalling 210 fits\n"
     ]
    }
   ],
   "source": [
    "#Fit the search on training data\n",
    "mysearch = mysearch.fit(X=x_train,y=y_train)"
   ]
  },
  {
   "cell_type": "code",
   "execution_count": 64,
   "id": "44e739b4",
   "metadata": {
    "scrolled": true
   },
   "outputs": [
    {
     "data": {
      "text/plain": [
       "{'min_samples_split': 5, 'n_estimators': 100}"
      ]
     },
     "execution_count": 64,
     "metadata": {},
     "output_type": "execute_result"
    }
   ],
   "source": [
    "#Optimum parameter values\n",
    "mysearch.best_params_"
   ]
  },
  {
   "cell_type": "code",
   "execution_count": 64,
   "id": "a11dbeba",
   "metadata": {},
   "outputs": [],
   "source": [
    "#Specify the bagging model\n",
    "rf_model = RandomForestClassifier(n_estimators=100,min_samples_split=5,max_features='sqrt')"
   ]
  },
  {
   "cell_type": "code",
   "execution_count": 65,
   "id": "81434f3f",
   "metadata": {},
   "outputs": [],
   "source": [
    "# Fit the bag model to the data\n",
    "rf_model = rf_model.fit(x_train,y_train)"
   ]
  },
  {
   "cell_type": "code",
   "execution_count": 66,
   "id": "e576b304",
   "metadata": {},
   "outputs": [
    {
     "data": {
      "text/plain": [
       "0.9793388429752066"
      ]
     },
     "execution_count": 66,
     "metadata": {},
     "output_type": "execute_result"
    }
   ],
   "source": [
    "#Model accuarcy\n",
    "accuracy = rf_model.score(x_train,y_train)\n",
    "accuracy"
   ]
  },
  {
   "cell_type": "code",
   "execution_count": 67,
   "id": "e21bc996",
   "metadata": {},
   "outputs": [],
   "source": [
    "#Perform a 4 fold Cross Validation\n",
    "myscore = cross_val_score(estimator=rf_model,X=x_train,y=y_train,cv=4,scoring='accuracy')"
   ]
  },
  {
   "cell_type": "code",
   "execution_count": 68,
   "id": "219862a8",
   "metadata": {},
   "outputs": [
    {
     "data": {
      "text/plain": [
       "0.8181010928961748"
      ]
     },
     "execution_count": 68,
     "metadata": {},
     "output_type": "execute_result"
    }
   ],
   "source": [
    "#Cross Validation Accuracy\n",
    "myscore.mean()"
   ]
  },
  {
   "cell_type": "code",
   "execution_count": 69,
   "id": "955ac5ab",
   "metadata": {},
   "outputs": [],
   "source": [
    "# Predicted Values on train data\n",
    "predy = rf_model.predict(X=x_train)"
   ]
  },
  {
   "cell_type": "code",
   "execution_count": 70,
   "id": "14ec2e3e",
   "metadata": {},
   "outputs": [
    {
     "data": {
      "text/html": [
       "<div>\n",
       "<style scoped>\n",
       "    .dataframe tbody tr th:only-of-type {\n",
       "        vertical-align: middle;\n",
       "    }\n",
       "\n",
       "    .dataframe tbody tr th {\n",
       "        vertical-align: top;\n",
       "    }\n",
       "\n",
       "    .dataframe thead th {\n",
       "        text-align: right;\n",
       "    }\n",
       "</style>\n",
       "<table border=\"1\" class=\"dataframe\">\n",
       "  <thead>\n",
       "    <tr style=\"text-align: right;\">\n",
       "      <th>col_0</th>\n",
       "      <th>0</th>\n",
       "      <th>1</th>\n",
       "    </tr>\n",
       "    <tr>\n",
       "      <th>Result</th>\n",
       "      <th></th>\n",
       "      <th></th>\n",
       "    </tr>\n",
       "  </thead>\n",
       "  <tbody>\n",
       "    <tr>\n",
       "      <th>0</th>\n",
       "      <td>102</td>\n",
       "      <td>3</td>\n",
       "    </tr>\n",
       "    <tr>\n",
       "      <th>1</th>\n",
       "      <td>2</td>\n",
       "      <td>135</td>\n",
       "    </tr>\n",
       "  </tbody>\n",
       "</table>\n",
       "</div>"
      ],
      "text/plain": [
       "col_0     0    1\n",
       "Result          \n",
       "0       102    3\n",
       "1         2  135"
      ]
     },
     "execution_count": 70,
     "metadata": {},
     "output_type": "execute_result"
    }
   ],
   "source": [
    "#Actual vs Predicted table on train data\n",
    "mytable = mypd.crosstab(y_train,predy)\n",
    "#Confusion matrix\n",
    "mytable"
   ]
  },
  {
   "cell_type": "markdown",
   "id": "d6ffac8e",
   "metadata": {},
   "source": [
    "**Model accuracy from confusion matrix of train data**"
   ]
  },
  {
   "cell_type": "code",
   "execution_count": 71,
   "id": "0d19977c",
   "metadata": {},
   "outputs": [],
   "source": [
    "#True Positive\n",
    "TP = 135\n",
    "#False Positive\n",
    "FP = 3\n",
    "#True Negative\n",
    "TN = 102\n",
    "#False Negative\n",
    "FN = 2"
   ]
  },
  {
   "cell_type": "markdown",
   "id": "b422466d",
   "metadata": {},
   "source": [
    "**Model accuracy**\n"
   ]
  },
  {
   "cell_type": "code",
   "execution_count": 72,
   "id": "c5bc5791",
   "metadata": {},
   "outputs": [
    {
     "data": {
      "text/plain": [
       "0.9782608695652174"
      ]
     },
     "execution_count": 72,
     "metadata": {},
     "output_type": "execute_result"
    }
   ],
   "source": [
    "#Accuracy\n",
    "TP/(TP+FP)"
   ]
  },
  {
   "cell_type": "code",
   "execution_count": 73,
   "id": "dc753366",
   "metadata": {},
   "outputs": [
    {
     "data": {
      "text/plain": [
       "0.021739130434782594"
      ]
     },
     "execution_count": 73,
     "metadata": {},
     "output_type": "execute_result"
    }
   ],
   "source": [
    "#Misclassification rate\n",
    "1 - TP/(TP+FP)"
   ]
  },
  {
   "cell_type": "markdown",
   "id": "123bc954",
   "metadata": {},
   "source": [
    "### Validate model on test data"
   ]
  },
  {
   "cell_type": "code",
   "execution_count": 74,
   "id": "2b919e70",
   "metadata": {},
   "outputs": [],
   "source": [
    "#Get the predicted value on test data\n",
    "predtest = rf_model.predict(X=x_test)"
   ]
  },
  {
   "cell_type": "code",
   "execution_count": 75,
   "id": "cead9913",
   "metadata": {},
   "outputs": [
    {
     "data": {
      "text/html": [
       "<div>\n",
       "<style scoped>\n",
       "    .dataframe tbody tr th:only-of-type {\n",
       "        vertical-align: middle;\n",
       "    }\n",
       "\n",
       "    .dataframe tbody tr th {\n",
       "        vertical-align: top;\n",
       "    }\n",
       "\n",
       "    .dataframe thead th {\n",
       "        text-align: right;\n",
       "    }\n",
       "</style>\n",
       "<table border=\"1\" class=\"dataframe\">\n",
       "  <thead>\n",
       "    <tr style=\"text-align: right;\">\n",
       "      <th>col_0</th>\n",
       "      <th>0</th>\n",
       "      <th>1</th>\n",
       "    </tr>\n",
       "    <tr>\n",
       "      <th>Result</th>\n",
       "      <th></th>\n",
       "      <th></th>\n",
       "    </tr>\n",
       "  </thead>\n",
       "  <tbody>\n",
       "    <tr>\n",
       "      <th>0</th>\n",
       "      <td>26</td>\n",
       "      <td>7</td>\n",
       "    </tr>\n",
       "    <tr>\n",
       "      <th>1</th>\n",
       "      <td>3</td>\n",
       "      <td>25</td>\n",
       "    </tr>\n",
       "  </tbody>\n",
       "</table>\n",
       "</div>"
      ],
      "text/plain": [
       "col_0    0   1\n",
       "Result        \n",
       "0       26   7\n",
       "1        3  25"
      ]
     },
     "execution_count": 75,
     "metadata": {},
     "output_type": "execute_result"
    }
   ],
   "source": [
    "#Actual vs Predicted table on test data\n",
    "mytable = mypd.crosstab(y_test,predtest)\n",
    "#Confusion matrix\n",
    "mytable"
   ]
  },
  {
   "cell_type": "markdown",
   "id": "7797c1bd",
   "metadata": {},
   "source": [
    "**Model accuracy from confusion matrix of test data**"
   ]
  },
  {
   "cell_type": "code",
   "execution_count": 76,
   "id": "e7d3f614",
   "metadata": {},
   "outputs": [],
   "source": [
    "#True Positive\n",
    "TP = 25\n",
    "#False Positive\n",
    "FP = 7\n",
    "#True Negative\n",
    "TN = 26\n",
    "#False Negative\n",
    "FN = 3"
   ]
  },
  {
   "cell_type": "markdown",
   "id": "2c2c9606",
   "metadata": {},
   "source": [
    "**Model accuracy**\n"
   ]
  },
  {
   "cell_type": "code",
   "execution_count": 77,
   "id": "e9028c72",
   "metadata": {},
   "outputs": [
    {
     "data": {
      "text/plain": [
       "0.78125"
      ]
     },
     "execution_count": 77,
     "metadata": {},
     "output_type": "execute_result"
    }
   ],
   "source": [
    "#Accuracy\n",
    "TP/(TP+FP)"
   ]
  },
  {
   "cell_type": "code",
   "execution_count": 78,
   "id": "8edfce8b",
   "metadata": {},
   "outputs": [
    {
     "data": {
      "text/plain": [
       "0.21875"
      ]
     },
     "execution_count": 78,
     "metadata": {},
     "output_type": "execute_result"
    }
   ],
   "source": [
    "#Misclassification rate\n",
    "1 - TP/(TP+FP)"
   ]
  },
  {
   "cell_type": "markdown",
   "id": "6ec0b8dd",
   "metadata": {},
   "source": [
    "Model accuracy on test data = 78.12% which is sufficient drop from 97.82% on train data."
   ]
  },
  {
   "cell_type": "markdown",
   "id": "4740510f",
   "metadata": {},
   "source": [
    "| |Random Forest Model | |\n",
    "| ----------- | :-----------: |:-----------: |\n",
    "| | Train Data |Test Data |\n",
    "|Accuracy |97.82 |78.12|\n",
    "|Misclassification rate |2.17|21.87|\n"
   ]
  },
  {
   "cell_type": "markdown",
   "id": "960f3491",
   "metadata": {},
   "source": [
    "**We comapare all three models**"
   ]
  },
  {
   "cell_type": "markdown",
   "id": "1d790e09",
   "metadata": {},
   "source": [
    "| |Bagging Model |  |Random Forest| |CART| |\n",
    "| ----------- | ----------- |----------- | ----------- |----------- |----------- |----------- |\n",
    "| | Train Data |Test Data |Train Data |Test Data |Train Data |Test Data |\n",
    "| Accuracy |93.70|79.41|97.82|78.12|91.15|71.42|\n",
    "|Misclassification Rate |6.29 |20.59|2.17 |21.87|8.84|28.57|\n",
    "\n"
   ]
  },
  {
   "cell_type": "markdown",
   "id": "e438ec78",
   "metadata": {},
   "source": [
    "When we compare the three model, CART has the worst performance on test data."
   ]
  },
  {
   "cell_type": "markdown",
   "id": "7b67652a",
   "metadata": {},
   "source": [
    "## Logistic Regression model"
   ]
  },
  {
   "cell_type": "markdown",
   "id": "b43093bf",
   "metadata": {},
   "source": [
    "We will build logistic regression model on the dataset. We create train and test dataframes.\n"
   ]
  },
  {
   "cell_type": "code",
   "execution_count": 79,
   "id": "9b80ae33",
   "metadata": {},
   "outputs": [
    {
     "name": "stderr",
     "output_type": "stream",
     "text": [
      "/Users/sudiptarakshit/opt/anaconda3/lib/python3.8/site-packages/pandas/core/indexing.py:1597: SettingWithCopyWarning: \n",
      "A value is trying to be set on a copy of a slice from a DataFrame.\n",
      "Try using .loc[row_indexer,col_indexer] = value instead\n",
      "\n",
      "See the caveats in the documentation: https://pandas.pydata.org/pandas-docs/stable/user_guide/indexing.html#returning-a-view-versus-a-copy\n",
      "  self.obj[key] = value\n",
      "/Users/sudiptarakshit/opt/anaconda3/lib/python3.8/site-packages/pandas/core/indexing.py:1720: SettingWithCopyWarning: \n",
      "A value is trying to be set on a copy of a slice from a DataFrame.\n",
      "Try using .loc[row_indexer,col_indexer] = value instead\n",
      "\n",
      "See the caveats in the documentation: https://pandas.pydata.org/pandas-docs/stable/user_guide/indexing.html#returning-a-view-versus-a-copy\n",
      "  self._setitem_single_column(loc, value, pi)\n"
     ]
    }
   ],
   "source": [
    "#We put another column in x_train & x_test: Intercept\n",
    "x_train.loc[:,'Intercept'] = 1\n",
    "x_test.loc[:,'Intercept'] = 1"
   ]
  },
  {
   "cell_type": "code",
   "execution_count": 80,
   "id": "7ece9ebd",
   "metadata": {},
   "outputs": [
    {
     "name": "stdout",
     "output_type": "stream",
     "text": [
      "<class 'pandas.core.frame.DataFrame'>\n",
      "Int64Index: 242 entries, 184 to 8\n",
      "Data columns (total 14 columns):\n",
      " #   Column       Non-Null Count  Dtype  \n",
      "---  ------       --------------  -----  \n",
      " 0   Age          242 non-null    int64  \n",
      " 1   Sex          242 non-null    int64  \n",
      " 2   CP           242 non-null    int64  \n",
      " 3   RestBP       242 non-null    int64  \n",
      " 4   Cholesteral  242 non-null    int64  \n",
      " 5   FBP          242 non-null    int64  \n",
      " 6   RestECG      242 non-null    int64  \n",
      " 7   Max_HR       242 non-null    int64  \n",
      " 8   ExAngina     242 non-null    int64  \n",
      " 9   Oldpeak      242 non-null    float64\n",
      " 10  Slope        242 non-null    int64  \n",
      " 11  CA           242 non-null    int64  \n",
      " 12  Thal         242 non-null    int64  \n",
      " 13  Intercept    242 non-null    int64  \n",
      "dtypes: float64(1), int64(13)\n",
      "memory usage: 28.4 KB\n"
     ]
    }
   ],
   "source": [
    "#Check the train data\n",
    "x_train.info()"
   ]
  },
  {
   "cell_type": "code",
   "execution_count": 81,
   "id": "c6c6f533",
   "metadata": {},
   "outputs": [
    {
     "name": "stdout",
     "output_type": "stream",
     "text": [
      "<class 'pandas.core.frame.DataFrame'>\n",
      "Int64Index: 61 entries, 69 to 252\n",
      "Data columns (total 14 columns):\n",
      " #   Column       Non-Null Count  Dtype  \n",
      "---  ------       --------------  -----  \n",
      " 0   Age          61 non-null     int64  \n",
      " 1   Sex          61 non-null     int64  \n",
      " 2   CP           61 non-null     int64  \n",
      " 3   RestBP       61 non-null     int64  \n",
      " 4   Cholesteral  61 non-null     int64  \n",
      " 5   FBP          61 non-null     int64  \n",
      " 6   RestECG      61 non-null     int64  \n",
      " 7   Max_HR       61 non-null     int64  \n",
      " 8   ExAngina     61 non-null     int64  \n",
      " 9   Oldpeak      61 non-null     float64\n",
      " 10  Slope        61 non-null     int64  \n",
      " 11  CA           61 non-null     int64  \n",
      " 12  Thal         61 non-null     int64  \n",
      " 13  Intercept    61 non-null     int64  \n",
      "dtypes: float64(1), int64(13)\n",
      "memory usage: 7.1 KB\n"
     ]
    }
   ],
   "source": [
    "#Check the test data\n",
    "x_test.info()"
   ]
  },
  {
   "cell_type": "markdown",
   "id": "734dde54",
   "metadata": {},
   "source": [
    "**Develop the Initial Model**"
   ]
  },
  {
   "cell_type": "code",
   "execution_count": 82,
   "id": "34a1c6e3",
   "metadata": {},
   "outputs": [
    {
     "name": "stdout",
     "output_type": "stream",
     "text": [
      "Optimization terminated successfully.\n",
      "         Current function value: 0.364755\n",
      "         Iterations 7\n"
     ]
    }
   ],
   "source": [
    "#Develop binary logistic regression model\n",
    "mymodel = mysm.Logit(endog=y_train,exog=x_train).fit()"
   ]
  },
  {
   "cell_type": "code",
   "execution_count": 83,
   "id": "af9511af",
   "metadata": {},
   "outputs": [
    {
     "data": {
      "text/html": [
       "<table class=\"simpletable\">\n",
       "<caption>Logit Regression Results</caption>\n",
       "<tr>\n",
       "  <th>Dep. Variable:</th>        <td>Result</td>      <th>  No. Observations:  </th>  <td>   242</td>  \n",
       "</tr>\n",
       "<tr>\n",
       "  <th>Model:</th>                 <td>Logit</td>      <th>  Df Residuals:      </th>  <td>   228</td>  \n",
       "</tr>\n",
       "<tr>\n",
       "  <th>Method:</th>                 <td>MLE</td>       <th>  Df Model:          </th>  <td>    13</td>  \n",
       "</tr>\n",
       "<tr>\n",
       "  <th>Date:</th>            <td>Thu, 05 May 2022</td> <th>  Pseudo R-squ.:     </th>  <td>0.4670</td>  \n",
       "</tr>\n",
       "<tr>\n",
       "  <th>Time:</th>                <td>13:43:37</td>     <th>  Log-Likelihood:    </th> <td> -88.271</td> \n",
       "</tr>\n",
       "<tr>\n",
       "  <th>converged:</th>             <td>True</td>       <th>  LL-Null:           </th> <td> -165.62</td> \n",
       "</tr>\n",
       "<tr>\n",
       "  <th>Covariance Type:</th>     <td>nonrobust</td>    <th>  LLR p-value:       </th> <td>2.326e-26</td>\n",
       "</tr>\n",
       "</table>\n",
       "<table class=\"simpletable\">\n",
       "<tr>\n",
       "       <td></td>          <th>coef</th>     <th>std err</th>      <th>z</th>      <th>P>|z|</th>  <th>[0.025</th>    <th>0.975]</th>  \n",
       "</tr>\n",
       "<tr>\n",
       "  <th>Age</th>         <td>    0.0046</td> <td>    0.026</td> <td>    0.176</td> <td> 0.860</td> <td>   -0.046</td> <td>    0.055</td>\n",
       "</tr>\n",
       "<tr>\n",
       "  <th>Sex</th>         <td>   -1.7526</td> <td>    0.515</td> <td>   -3.400</td> <td> 0.001</td> <td>   -2.763</td> <td>   -0.742</td>\n",
       "</tr>\n",
       "<tr>\n",
       "  <th>CP</th>          <td>    0.7819</td> <td>    0.201</td> <td>    3.888</td> <td> 0.000</td> <td>    0.388</td> <td>    1.176</td>\n",
       "</tr>\n",
       "<tr>\n",
       "  <th>RestBP</th>      <td>   -0.0136</td> <td>    0.011</td> <td>   -1.195</td> <td> 0.232</td> <td>   -0.036</td> <td>    0.009</td>\n",
       "</tr>\n",
       "<tr>\n",
       "  <th>Cholesteral</th> <td>   -0.0104</td> <td>    0.005</td> <td>   -2.234</td> <td> 0.025</td> <td>   -0.019</td> <td>   -0.001</td>\n",
       "</tr>\n",
       "<tr>\n",
       "  <th>FBP</th>         <td>   -0.3673</td> <td>    0.578</td> <td>   -0.635</td> <td> 0.525</td> <td>   -1.501</td> <td>    0.766</td>\n",
       "</tr>\n",
       "<tr>\n",
       "  <th>RestECG</th>     <td>    0.1129</td> <td>    0.396</td> <td>    0.285</td> <td> 0.776</td> <td>   -0.663</td> <td>    0.889</td>\n",
       "</tr>\n",
       "<tr>\n",
       "  <th>Max_HR</th>      <td>    0.0210</td> <td>    0.011</td> <td>    1.910</td> <td> 0.056</td> <td>   -0.001</td> <td>    0.043</td>\n",
       "</tr>\n",
       "<tr>\n",
       "  <th>ExAngina</th>    <td>   -0.7361</td> <td>    0.446</td> <td>   -1.651</td> <td> 0.099</td> <td>   -1.610</td> <td>    0.138</td>\n",
       "</tr>\n",
       "<tr>\n",
       "  <th>Oldpeak</th>     <td>   -0.5136</td> <td>    0.231</td> <td>   -2.221</td> <td> 0.026</td> <td>   -0.967</td> <td>   -0.060</td>\n",
       "</tr>\n",
       "<tr>\n",
       "  <th>Slope</th>       <td>    0.6506</td> <td>    0.393</td> <td>    1.654</td> <td> 0.098</td> <td>   -0.120</td> <td>    1.421</td>\n",
       "</tr>\n",
       "<tr>\n",
       "  <th>CA</th>          <td>   -0.7358</td> <td>    0.211</td> <td>   -3.493</td> <td> 0.000</td> <td>   -1.149</td> <td>   -0.323</td>\n",
       "</tr>\n",
       "<tr>\n",
       "  <th>Thal</th>        <td>   -1.1005</td> <td>    0.330</td> <td>   -3.337</td> <td> 0.001</td> <td>   -1.747</td> <td>   -0.454</td>\n",
       "</tr>\n",
       "<tr>\n",
       "  <th>Intercept</th>   <td>    4.5444</td> <td>    2.772</td> <td>    1.640</td> <td> 0.101</td> <td>   -0.888</td> <td>    9.977</td>\n",
       "</tr>\n",
       "</table>"
      ],
      "text/plain": [
       "<class 'statsmodels.iolib.summary.Summary'>\n",
       "\"\"\"\n",
       "                           Logit Regression Results                           \n",
       "==============================================================================\n",
       "Dep. Variable:                 Result   No. Observations:                  242\n",
       "Model:                          Logit   Df Residuals:                      228\n",
       "Method:                           MLE   Df Model:                           13\n",
       "Date:                Thu, 05 May 2022   Pseudo R-squ.:                  0.4670\n",
       "Time:                        13:43:37   Log-Likelihood:                -88.271\n",
       "converged:                       True   LL-Null:                       -165.62\n",
       "Covariance Type:            nonrobust   LLR p-value:                 2.326e-26\n",
       "===============================================================================\n",
       "                  coef    std err          z      P>|z|      [0.025      0.975]\n",
       "-------------------------------------------------------------------------------\n",
       "Age             0.0046      0.026      0.176      0.860      -0.046       0.055\n",
       "Sex            -1.7526      0.515     -3.400      0.001      -2.763      -0.742\n",
       "CP              0.7819      0.201      3.888      0.000       0.388       1.176\n",
       "RestBP         -0.0136      0.011     -1.195      0.232      -0.036       0.009\n",
       "Cholesteral    -0.0104      0.005     -2.234      0.025      -0.019      -0.001\n",
       "FBP            -0.3673      0.578     -0.635      0.525      -1.501       0.766\n",
       "RestECG         0.1129      0.396      0.285      0.776      -0.663       0.889\n",
       "Max_HR          0.0210      0.011      1.910      0.056      -0.001       0.043\n",
       "ExAngina       -0.7361      0.446     -1.651      0.099      -1.610       0.138\n",
       "Oldpeak        -0.5136      0.231     -2.221      0.026      -0.967      -0.060\n",
       "Slope           0.6506      0.393      1.654      0.098      -0.120       1.421\n",
       "CA             -0.7358      0.211     -3.493      0.000      -1.149      -0.323\n",
       "Thal           -1.1005      0.330     -3.337      0.001      -1.747      -0.454\n",
       "Intercept       4.5444      2.772      1.640      0.101      -0.888       9.977\n",
       "===============================================================================\n",
       "\"\"\""
      ]
     },
     "execution_count": 83,
     "metadata": {},
     "output_type": "execute_result"
    }
   ],
   "source": [
    "#Summary output\n",
    "mymodel.summary()"
   ]
  },
  {
   "cell_type": "markdown",
   "id": "874de708",
   "metadata": {},
   "source": [
    "In the model we see that the variables: Age, RestBP, Slope,ExAngina, FBP, RestECG are not significant features.\n",
    "\n",
    "Only Sex, CP,CA,Thal,Max_HR,Oldpeak,Cholesteral are significant."
   ]
  },
  {
   "cell_type": "markdown",
   "id": "363f90ca",
   "metadata": {},
   "source": [
    "We develop new model using only these variables:Sex, CP,CA,Thal,Max_HR,Oldpeak,Cholesteral"
   ]
  },
  {
   "cell_type": "code",
   "execution_count": 84,
   "id": "31c669ef",
   "metadata": {},
   "outputs": [],
   "source": [
    "#Overwrite x's in x train\n",
    "x_train= x_train.iloc[:,[1,2,4,7,9,11,12,13]]"
   ]
  },
  {
   "cell_type": "code",
   "execution_count": 85,
   "id": "a24f6509",
   "metadata": {},
   "outputs": [
    {
     "data": {
      "text/html": [
       "<div>\n",
       "<style scoped>\n",
       "    .dataframe tbody tr th:only-of-type {\n",
       "        vertical-align: middle;\n",
       "    }\n",
       "\n",
       "    .dataframe tbody tr th {\n",
       "        vertical-align: top;\n",
       "    }\n",
       "\n",
       "    .dataframe thead th {\n",
       "        text-align: right;\n",
       "    }\n",
       "</style>\n",
       "<table border=\"1\" class=\"dataframe\">\n",
       "  <thead>\n",
       "    <tr style=\"text-align: right;\">\n",
       "      <th></th>\n",
       "      <th>Sex</th>\n",
       "      <th>CP</th>\n",
       "      <th>Cholesteral</th>\n",
       "      <th>Max_HR</th>\n",
       "      <th>Oldpeak</th>\n",
       "      <th>CA</th>\n",
       "      <th>Thal</th>\n",
       "      <th>Intercept</th>\n",
       "    </tr>\n",
       "  </thead>\n",
       "  <tbody>\n",
       "    <tr>\n",
       "      <th>184</th>\n",
       "      <td>1</td>\n",
       "      <td>0</td>\n",
       "      <td>243</td>\n",
       "      <td>128</td>\n",
       "      <td>2.6</td>\n",
       "      <td>0</td>\n",
       "      <td>3</td>\n",
       "      <td>1</td>\n",
       "    </tr>\n",
       "    <tr>\n",
       "      <th>19</th>\n",
       "      <td>0</td>\n",
       "      <td>3</td>\n",
       "      <td>239</td>\n",
       "      <td>151</td>\n",
       "      <td>1.8</td>\n",
       "      <td>2</td>\n",
       "      <td>2</td>\n",
       "      <td>1</td>\n",
       "    </tr>\n",
       "    <tr>\n",
       "      <th>118</th>\n",
       "      <td>0</td>\n",
       "      <td>1</td>\n",
       "      <td>204</td>\n",
       "      <td>172</td>\n",
       "      <td>0.0</td>\n",
       "      <td>0</td>\n",
       "      <td>2</td>\n",
       "      <td>1</td>\n",
       "    </tr>\n",
       "    <tr>\n",
       "      <th>41</th>\n",
       "      <td>1</td>\n",
       "      <td>1</td>\n",
       "      <td>245</td>\n",
       "      <td>180</td>\n",
       "      <td>0.2</td>\n",
       "      <td>0</td>\n",
       "      <td>2</td>\n",
       "      <td>1</td>\n",
       "    </tr>\n",
       "    <tr>\n",
       "      <th>59</th>\n",
       "      <td>0</td>\n",
       "      <td>0</td>\n",
       "      <td>303</td>\n",
       "      <td>159</td>\n",
       "      <td>0.0</td>\n",
       "      <td>1</td>\n",
       "      <td>2</td>\n",
       "      <td>1</td>\n",
       "    </tr>\n",
       "  </tbody>\n",
       "</table>\n",
       "</div>"
      ],
      "text/plain": [
       "     Sex  CP  Cholesteral  Max_HR  Oldpeak  CA  Thal  Intercept\n",
       "184    1   0          243     128      2.6   0     3          1\n",
       "19     0   3          239     151      1.8   2     2          1\n",
       "118    0   1          204     172      0.0   0     2          1\n",
       "41     1   1          245     180      0.2   0     2          1\n",
       "59     0   0          303     159      0.0   1     2          1"
      ]
     },
     "execution_count": 85,
     "metadata": {},
     "output_type": "execute_result"
    }
   ],
   "source": [
    "#Check train_data dataframe\n",
    "x_train.head()"
   ]
  },
  {
   "cell_type": "code",
   "execution_count": 86,
   "id": "350fb3a1",
   "metadata": {},
   "outputs": [
    {
     "name": "stdout",
     "output_type": "stream",
     "text": [
      "Optimization terminated successfully.\n",
      "         Current function value: 0.382225\n",
      "         Iterations 7\n"
     ]
    }
   ],
   "source": [
    "#Develop the new binary logistic model\n",
    "mymodel = mysm.Logit(endog=y_train,exog=x_train).fit()"
   ]
  },
  {
   "cell_type": "code",
   "execution_count": 87,
   "id": "35203d29",
   "metadata": {},
   "outputs": [
    {
     "data": {
      "text/html": [
       "<table class=\"simpletable\">\n",
       "<caption>Logit Regression Results</caption>\n",
       "<tr>\n",
       "  <th>Dep. Variable:</th>        <td>Result</td>      <th>  No. Observations:  </th>  <td>   242</td>  \n",
       "</tr>\n",
       "<tr>\n",
       "  <th>Model:</th>                 <td>Logit</td>      <th>  Df Residuals:      </th>  <td>   234</td>  \n",
       "</tr>\n",
       "<tr>\n",
       "  <th>Method:</th>                 <td>MLE</td>       <th>  Df Model:          </th>  <td>     7</td>  \n",
       "</tr>\n",
       "<tr>\n",
       "  <th>Date:</th>            <td>Thu, 05 May 2022</td> <th>  Pseudo R-squ.:     </th>  <td>0.4415</td>  \n",
       "</tr>\n",
       "<tr>\n",
       "  <th>Time:</th>                <td>13:44:01</td>     <th>  Log-Likelihood:    </th> <td> -92.498</td> \n",
       "</tr>\n",
       "<tr>\n",
       "  <th>converged:</th>             <td>True</td>       <th>  LL-Null:           </th> <td> -165.62</td> \n",
       "</tr>\n",
       "<tr>\n",
       "  <th>Covariance Type:</th>     <td>nonrobust</td>    <th>  LLR p-value:       </th> <td>2.496e-28</td>\n",
       "</tr>\n",
       "</table>\n",
       "<table class=\"simpletable\">\n",
       "<tr>\n",
       "       <td></td>          <th>coef</th>     <th>std err</th>      <th>z</th>      <th>P>|z|</th>  <th>[0.025</th>    <th>0.975]</th>  \n",
       "</tr>\n",
       "<tr>\n",
       "  <th>Sex</th>         <td>   -1.6870</td> <td>    0.473</td> <td>   -3.565</td> <td> 0.000</td> <td>   -2.615</td> <td>   -0.759</td>\n",
       "</tr>\n",
       "<tr>\n",
       "  <th>CP</th>          <td>    0.7961</td> <td>    0.184</td> <td>    4.324</td> <td> 0.000</td> <td>    0.435</td> <td>    1.157</td>\n",
       "</tr>\n",
       "<tr>\n",
       "  <th>Cholesteral</th> <td>   -0.0103</td> <td>    0.004</td> <td>   -2.443</td> <td> 0.015</td> <td>   -0.019</td> <td>   -0.002</td>\n",
       "</tr>\n",
       "<tr>\n",
       "  <th>Max_HR</th>      <td>    0.0260</td> <td>    0.010</td> <td>    2.690</td> <td> 0.007</td> <td>    0.007</td> <td>    0.045</td>\n",
       "</tr>\n",
       "<tr>\n",
       "  <th>Oldpeak</th>     <td>   -0.7548</td> <td>    0.200</td> <td>   -3.775</td> <td> 0.000</td> <td>   -1.147</td> <td>   -0.363</td>\n",
       "</tr>\n",
       "<tr>\n",
       "  <th>CA</th>          <td>   -0.6969</td> <td>    0.198</td> <td>   -3.515</td> <td> 0.000</td> <td>   -1.085</td> <td>   -0.308</td>\n",
       "</tr>\n",
       "<tr>\n",
       "  <th>Thal</th>        <td>   -1.0951</td> <td>    0.316</td> <td>   -3.462</td> <td> 0.001</td> <td>   -1.715</td> <td>   -0.475</td>\n",
       "</tr>\n",
       "<tr>\n",
       "  <th>Intercept</th>   <td>    3.0918</td> <td>    1.846</td> <td>    1.674</td> <td> 0.094</td> <td>   -0.527</td> <td>    6.711</td>\n",
       "</tr>\n",
       "</table>"
      ],
      "text/plain": [
       "<class 'statsmodels.iolib.summary.Summary'>\n",
       "\"\"\"\n",
       "                           Logit Regression Results                           \n",
       "==============================================================================\n",
       "Dep. Variable:                 Result   No. Observations:                  242\n",
       "Model:                          Logit   Df Residuals:                      234\n",
       "Method:                           MLE   Df Model:                            7\n",
       "Date:                Thu, 05 May 2022   Pseudo R-squ.:                  0.4415\n",
       "Time:                        13:44:01   Log-Likelihood:                -92.498\n",
       "converged:                       True   LL-Null:                       -165.62\n",
       "Covariance Type:            nonrobust   LLR p-value:                 2.496e-28\n",
       "===============================================================================\n",
       "                  coef    std err          z      P>|z|      [0.025      0.975]\n",
       "-------------------------------------------------------------------------------\n",
       "Sex            -1.6870      0.473     -3.565      0.000      -2.615      -0.759\n",
       "CP              0.7961      0.184      4.324      0.000       0.435       1.157\n",
       "Cholesteral    -0.0103      0.004     -2.443      0.015      -0.019      -0.002\n",
       "Max_HR          0.0260      0.010      2.690      0.007       0.007       0.045\n",
       "Oldpeak        -0.7548      0.200     -3.775      0.000      -1.147      -0.363\n",
       "CA             -0.6969      0.198     -3.515      0.000      -1.085      -0.308\n",
       "Thal           -1.0951      0.316     -3.462      0.001      -1.715      -0.475\n",
       "Intercept       3.0918      1.846      1.674      0.094      -0.527       6.711\n",
       "===============================================================================\n",
       "\"\"\""
      ]
     },
     "execution_count": 87,
     "metadata": {},
     "output_type": "execute_result"
    }
   ],
   "source": [
    "#Check the model\n",
    "mymodel.summary()"
   ]
  },
  {
   "cell_type": "markdown",
   "id": "91792998",
   "metadata": {},
   "source": [
    "**Expression of the Model**"
   ]
  },
  {
   "cell_type": "markdown",
   "id": "854107c3",
   "metadata": {},
   "source": [
    "z = exp(y)/1+exp(y)\n",
    "\n",
    "where \n",
    "\n",
    "y = 3.0918 -1.687*Sex + 0.796*CP - 0.697*CA - 1.095*Thal + 0.026*Max_HR - 0.0103*Cholesteral - 0.755*Oldpeak"
   ]
  },
  {
   "cell_type": "markdown",
   "id": "c8639151",
   "metadata": {},
   "source": [
    "**Model accuracy**"
   ]
  },
  {
   "cell_type": "markdown",
   "id": "1dda65ae",
   "metadata": {},
   "source": [
    "Here pseudo R2 value is 0.445. So, the model is not reasonably accurate."
   ]
  },
  {
   "cell_type": "markdown",
   "id": "9a866e6b",
   "metadata": {},
   "source": [
    "**Confusion Matrix**"
   ]
  },
  {
   "cell_type": "code",
   "execution_count": 88,
   "id": "3195e1e6",
   "metadata": {},
   "outputs": [
    {
     "data": {
      "text/plain": [
       "array([0.046, 0.881, 0.983, 0.882, 0.771, 0.081, 0.265, 0.31 , 0.811,\n",
       "       0.016, 0.765, 0.671, 0.933, 0.954, 0.034, 0.887, 0.945, 0.825,\n",
       "       0.158, 0.791, 0.409, 0.011, 0.992, 0.089, 0.817, 0.396, 0.058,\n",
       "       0.861, 0.829, 0.12 , 0.832, 0.958, 0.814, 0.724, 0.453, 0.68 ,\n",
       "       0.901, 0.503, 0.411, 0.983, 0.001, 0.062, 0.099, 0.141, 0.997,\n",
       "       0.563, 0.663, 0.947, 0.599, 0.446, 0.124, 0.686, 0.761, 0.847,\n",
       "       0.987, 0.093, 0.885, 0.542, 0.022, 0.206, 0.937, 0.04 , 0.402,\n",
       "       0.959, 0.148, 0.996, 0.592, 0.719, 0.004, 0.678, 0.819, 0.748,\n",
       "       0.006, 0.158, 0.958, 0.024, 0.928, 0.75 , 0.785, 0.778, 0.009,\n",
       "       0.315, 0.936, 0.207, 0.015, 0.988, 0.769, 0.981, 0.533, 0.402,\n",
       "       0.267, 0.065, 0.726, 0.884, 0.946, 0.02 , 0.991, 0.917, 0.772,\n",
       "       0.88 , 0.084, 0.712, 0.791, 0.827, 0.934, 0.417, 0.796, 0.118,\n",
       "       0.968, 0.793, 0.903, 0.529, 0.011, 0.01 , 0.95 , 0.956, 0.063,\n",
       "       0.957, 0.034, 0.381, 0.967, 0.918, 0.766, 0.779, 0.97 , 0.978,\n",
       "       0.129, 0.682, 0.727, 0.401, 0.018, 0.851, 0.591, 0.76 , 0.576,\n",
       "       0.431, 0.906, 0.891, 0.076, 0.811, 0.985, 0.812, 0.016, 0.841,\n",
       "       0.869, 0.947, 0.94 , 0.549, 0.916, 0.803, 0.671, 0.072, 0.966,\n",
       "       0.365, 0.385, 0.498, 0.99 , 0.136, 0.008, 0.453, 0.905, 0.95 ,\n",
       "       0.011, 0.705, 0.687, 0.913, 0.792, 0.21 , 0.708, 0.859, 0.212,\n",
       "       0.974, 0.229, 0.951, 0.663, 0.867, 0.978, 0.831, 0.024, 0.073,\n",
       "       0.105, 0.062, 0.598, 0.325, 0.08 , 0.594, 0.106, 0.197, 0.119,\n",
       "       0.639, 0.958, 0.005, 0.008, 0.379, 0.443, 0.921, 0.026, 0.897,\n",
       "       0.577, 0.877, 0.965, 0.861, 0.86 , 0.959, 0.084, 0.067, 0.471,\n",
       "       0.14 , 0.142, 0.084, 0.92 , 0.898, 0.953, 0.027, 0.278, 0.213,\n",
       "       0.01 , 0.934, 0.914, 0.588, 0.738, 0.848, 0.013, 0.317, 0.473,\n",
       "       0.861, 0.338, 0.897, 0.818, 0.986, 0.821, 0.662, 0.137, 0.046,\n",
       "       0.381, 0.979, 0.045, 0.791, 0.994, 0.687, 0.26 , 0.817])"
      ]
     },
     "execution_count": 88,
     "metadata": {},
     "output_type": "execute_result"
    }
   ],
   "source": [
    "#Predicted Value\n",
    "predy = mymodel.predict()\n",
    "mynp.round(predy,3)"
   ]
  },
  {
   "cell_type": "code",
   "execution_count": 89,
   "id": "28218087",
   "metadata": {},
   "outputs": [],
   "source": [
    "#Predicted class\n",
    "predclass = [1 if i>0.5 else 0 for i in predy]"
   ]
  },
  {
   "cell_type": "code",
   "execution_count": 90,
   "id": "5c290b2b",
   "metadata": {},
   "outputs": [],
   "source": [
    "#Create dataframe for predclass\n",
    "predclass = mypd.DataFrame(predclass,columns=['Predicted_Class'])"
   ]
  },
  {
   "cell_type": "code",
   "execution_count": 91,
   "id": "beab0b80",
   "metadata": {},
   "outputs": [
    {
     "data": {
      "text/plain": [
       "array([[ 82,  23],\n",
       "       [ 15, 122]])"
      ]
     },
     "execution_count": 91,
     "metadata": {},
     "output_type": "execute_result"
    }
   ],
   "source": [
    "#Create the confusion matrix\n",
    "mytable = confusion_matrix(y_train,predclass.Predicted_Class)\n",
    "mytable"
   ]
  },
  {
   "cell_type": "code",
   "execution_count": 92,
   "id": "1d36f56a",
   "metadata": {},
   "outputs": [],
   "source": [
    "#True Positive\n",
    "TP = 122\n",
    "#False Positive\n",
    "FP = 23\n",
    "#True Negative\n",
    "TN = 82\n",
    "#False Negative\n",
    "FN = 15"
   ]
  },
  {
   "cell_type": "code",
   "execution_count": 93,
   "id": "7001cfb8",
   "metadata": {},
   "outputs": [
    {
     "data": {
      "text/plain": [
       "0.843"
      ]
     },
     "execution_count": 93,
     "metadata": {},
     "output_type": "execute_result"
    }
   ],
   "source": [
    "#Accuarcy\n",
    "Accuracy = (TP + TN)/(TP+TN+FP+FN)\n",
    "round(Accuracy,3)"
   ]
  },
  {
   "cell_type": "markdown",
   "id": "c6a481ab",
   "metadata": {},
   "source": [
    "### Validate model on test data"
   ]
  },
  {
   "cell_type": "code",
   "execution_count": 94,
   "id": "77fd527d",
   "metadata": {},
   "outputs": [],
   "source": [
    "#Overwrite x's in x_test\n",
    "x_test= x_test.iloc[:,[1,2,4,7,9,11,12,13]]"
   ]
  },
  {
   "cell_type": "code",
   "execution_count": 95,
   "id": "9fb8d16a",
   "metadata": {},
   "outputs": [],
   "source": [
    "#Get the predicted value on test data\n",
    "predtest = mymodel.predict(x_test)"
   ]
  },
  {
   "cell_type": "code",
   "execution_count": 96,
   "id": "6fd674e5",
   "metadata": {},
   "outputs": [],
   "source": [
    "#Predicted class\n",
    "predtestclass = [1 if i>0.5 else 0 for i in predtest]"
   ]
  },
  {
   "cell_type": "code",
   "execution_count": 97,
   "id": "e9a304c1",
   "metadata": {},
   "outputs": [
    {
     "data": {
      "text/plain": [
       "array([[26,  7],\n",
       "       [ 3, 25]])"
      ]
     },
     "execution_count": 97,
     "metadata": {},
     "output_type": "execute_result"
    }
   ],
   "source": [
    "#Create the confusion matrix\n",
    "mytable = confusion_matrix(y_test,predtestclass)\n",
    "mytable"
   ]
  },
  {
   "cell_type": "code",
   "execution_count": 98,
   "id": "9cc870fb",
   "metadata": {},
   "outputs": [],
   "source": [
    "#True Positive\n",
    "TP = 25\n",
    "#False Positive\n",
    "FP = 7\n",
    "#True Negative\n",
    "TN = 26\n",
    "#False Negative\n",
    "FN = 3"
   ]
  },
  {
   "cell_type": "code",
   "execution_count": 99,
   "id": "dd9d1393",
   "metadata": {},
   "outputs": [
    {
     "data": {
      "text/plain": [
       "0.836"
      ]
     },
     "execution_count": 99,
     "metadata": {},
     "output_type": "execute_result"
    }
   ],
   "source": [
    "#Accuarcy\n",
    "Accuracy = (TP + TN)/(TP+TN+FP+FN)\n",
    "round(Accuracy,3)"
   ]
  },
  {
   "cell_type": "markdown",
   "id": "782a232d",
   "metadata": {},
   "source": [
    "| |Logistic Regression Model | |\n",
    "| ----------- | ----------- |----------- |\n",
    "| | Train Data |Test Data |\n",
    "|Accuracy |84.3 |83.6|\n"
   ]
  },
  {
   "cell_type": "markdown",
   "id": "308e1523",
   "metadata": {},
   "source": [
    "We see model generalizibility is very good in case of logistic regression."
   ]
  }
 ],
 "metadata": {
  "kernelspec": {
   "display_name": "Python 3",
   "language": "python",
   "name": "python3"
  },
  "language_info": {
   "codemirror_mode": {
    "name": "ipython",
    "version": 3
   },
   "file_extension": ".py",
   "mimetype": "text/x-python",
   "name": "python",
   "nbconvert_exporter": "python",
   "pygments_lexer": "ipython3",
   "version": "3.9.12"
  }
 },
 "nbformat": 4,
 "nbformat_minor": 5
}
