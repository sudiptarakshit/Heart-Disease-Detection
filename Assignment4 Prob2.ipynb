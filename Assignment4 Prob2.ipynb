{
 "cells": [
  {
   "cell_type": "markdown",
   "id": "2315b311",
   "metadata": {},
   "source": [
    "**Problem 2**"
   ]
  },
  {
   "cell_type": "code",
   "execution_count": 1,
   "id": "374eab68",
   "metadata": {},
   "outputs": [],
   "source": [
    "#Import packages\n",
    "import pandas as mypd\n",
    "import matplotlib.pyplot as myplot\n",
    "import seaborn as mysb\n",
    "import statsmodels.api as mysm\n",
    "import numpy as mynp\n",
    "from sklearn.linear_model import LogisticRegression\n",
    "from sklearn.model_selection import cross_val_score\n",
    "import math as mymath\n",
    "import statistics as mystat"
   ]
  },
  {
   "cell_type": "code",
   "execution_count": 2,
   "id": "7b674bfe",
   "metadata": {},
   "outputs": [],
   "source": [
    "#Load data\n",
    "mydata = mypd.read_excel('Heart_Disease_Data.xlsx')"
   ]
  },
  {
   "cell_type": "code",
   "execution_count": 3,
   "id": "3d451a92",
   "metadata": {},
   "outputs": [
    {
     "data": {
      "text/html": [
       "<div>\n",
       "<style scoped>\n",
       "    .dataframe tbody tr th:only-of-type {\n",
       "        vertical-align: middle;\n",
       "    }\n",
       "\n",
       "    .dataframe tbody tr th {\n",
       "        vertical-align: top;\n",
       "    }\n",
       "\n",
       "    .dataframe thead th {\n",
       "        text-align: right;\n",
       "    }\n",
       "</style>\n",
       "<table border=\"1\" class=\"dataframe\">\n",
       "  <thead>\n",
       "    <tr style=\"text-align: right;\">\n",
       "      <th></th>\n",
       "      <th>Age</th>\n",
       "      <th>Sex</th>\n",
       "      <th>CP</th>\n",
       "      <th>RestBP</th>\n",
       "      <th>Cholesteral</th>\n",
       "      <th>FBP</th>\n",
       "      <th>RestECG</th>\n",
       "      <th>Max_HR</th>\n",
       "      <th>ExAngina</th>\n",
       "      <th>Oldpeak</th>\n",
       "      <th>Slope</th>\n",
       "      <th>CA</th>\n",
       "      <th>Thal</th>\n",
       "      <th>Result</th>\n",
       "    </tr>\n",
       "  </thead>\n",
       "  <tbody>\n",
       "    <tr>\n",
       "      <th>293</th>\n",
       "      <td>67</td>\n",
       "      <td>1</td>\n",
       "      <td>2</td>\n",
       "      <td>152</td>\n",
       "      <td>212</td>\n",
       "      <td>0</td>\n",
       "      <td>0</td>\n",
       "      <td>150</td>\n",
       "      <td>0</td>\n",
       "      <td>0.8</td>\n",
       "      <td>1</td>\n",
       "      <td>0</td>\n",
       "      <td>3</td>\n",
       "      <td>0</td>\n",
       "    </tr>\n",
       "    <tr>\n",
       "      <th>294</th>\n",
       "      <td>44</td>\n",
       "      <td>1</td>\n",
       "      <td>0</td>\n",
       "      <td>120</td>\n",
       "      <td>169</td>\n",
       "      <td>0</td>\n",
       "      <td>1</td>\n",
       "      <td>144</td>\n",
       "      <td>1</td>\n",
       "      <td>2.8</td>\n",
       "      <td>0</td>\n",
       "      <td>0</td>\n",
       "      <td>1</td>\n",
       "      <td>0</td>\n",
       "    </tr>\n",
       "    <tr>\n",
       "      <th>295</th>\n",
       "      <td>63</td>\n",
       "      <td>1</td>\n",
       "      <td>0</td>\n",
       "      <td>140</td>\n",
       "      <td>187</td>\n",
       "      <td>0</td>\n",
       "      <td>0</td>\n",
       "      <td>144</td>\n",
       "      <td>1</td>\n",
       "      <td>4.0</td>\n",
       "      <td>2</td>\n",
       "      <td>2</td>\n",
       "      <td>3</td>\n",
       "      <td>0</td>\n",
       "    </tr>\n",
       "    <tr>\n",
       "      <th>296</th>\n",
       "      <td>63</td>\n",
       "      <td>0</td>\n",
       "      <td>0</td>\n",
       "      <td>124</td>\n",
       "      <td>197</td>\n",
       "      <td>0</td>\n",
       "      <td>1</td>\n",
       "      <td>136</td>\n",
       "      <td>1</td>\n",
       "      <td>0.0</td>\n",
       "      <td>1</td>\n",
       "      <td>0</td>\n",
       "      <td>2</td>\n",
       "      <td>0</td>\n",
       "    </tr>\n",
       "    <tr>\n",
       "      <th>297</th>\n",
       "      <td>59</td>\n",
       "      <td>1</td>\n",
       "      <td>0</td>\n",
       "      <td>164</td>\n",
       "      <td>176</td>\n",
       "      <td>1</td>\n",
       "      <td>0</td>\n",
       "      <td>90</td>\n",
       "      <td>0</td>\n",
       "      <td>1.0</td>\n",
       "      <td>1</td>\n",
       "      <td>2</td>\n",
       "      <td>1</td>\n",
       "      <td>0</td>\n",
       "    </tr>\n",
       "    <tr>\n",
       "      <th>298</th>\n",
       "      <td>57</td>\n",
       "      <td>0</td>\n",
       "      <td>0</td>\n",
       "      <td>140</td>\n",
       "      <td>241</td>\n",
       "      <td>0</td>\n",
       "      <td>1</td>\n",
       "      <td>123</td>\n",
       "      <td>1</td>\n",
       "      <td>0.2</td>\n",
       "      <td>1</td>\n",
       "      <td>0</td>\n",
       "      <td>3</td>\n",
       "      <td>0</td>\n",
       "    </tr>\n",
       "    <tr>\n",
       "      <th>299</th>\n",
       "      <td>45</td>\n",
       "      <td>1</td>\n",
       "      <td>3</td>\n",
       "      <td>110</td>\n",
       "      <td>264</td>\n",
       "      <td>0</td>\n",
       "      <td>1</td>\n",
       "      <td>132</td>\n",
       "      <td>0</td>\n",
       "      <td>1.2</td>\n",
       "      <td>1</td>\n",
       "      <td>0</td>\n",
       "      <td>3</td>\n",
       "      <td>0</td>\n",
       "    </tr>\n",
       "    <tr>\n",
       "      <th>300</th>\n",
       "      <td>68</td>\n",
       "      <td>1</td>\n",
       "      <td>0</td>\n",
       "      <td>144</td>\n",
       "      <td>193</td>\n",
       "      <td>1</td>\n",
       "      <td>1</td>\n",
       "      <td>141</td>\n",
       "      <td>0</td>\n",
       "      <td>3.4</td>\n",
       "      <td>1</td>\n",
       "      <td>2</td>\n",
       "      <td>3</td>\n",
       "      <td>0</td>\n",
       "    </tr>\n",
       "    <tr>\n",
       "      <th>301</th>\n",
       "      <td>57</td>\n",
       "      <td>1</td>\n",
       "      <td>0</td>\n",
       "      <td>130</td>\n",
       "      <td>131</td>\n",
       "      <td>0</td>\n",
       "      <td>1</td>\n",
       "      <td>115</td>\n",
       "      <td>1</td>\n",
       "      <td>1.2</td>\n",
       "      <td>1</td>\n",
       "      <td>1</td>\n",
       "      <td>3</td>\n",
       "      <td>0</td>\n",
       "    </tr>\n",
       "    <tr>\n",
       "      <th>302</th>\n",
       "      <td>57</td>\n",
       "      <td>0</td>\n",
       "      <td>1</td>\n",
       "      <td>130</td>\n",
       "      <td>236</td>\n",
       "      <td>0</td>\n",
       "      <td>0</td>\n",
       "      <td>174</td>\n",
       "      <td>0</td>\n",
       "      <td>0.0</td>\n",
       "      <td>1</td>\n",
       "      <td>1</td>\n",
       "      <td>2</td>\n",
       "      <td>0</td>\n",
       "    </tr>\n",
       "  </tbody>\n",
       "</table>\n",
       "</div>"
      ],
      "text/plain": [
       "     Age  Sex  CP  RestBP  Cholesteral  FBP  RestECG  Max_HR  ExAngina  \\\n",
       "293   67    1   2     152          212    0        0     150         0   \n",
       "294   44    1   0     120          169    0        1     144         1   \n",
       "295   63    1   0     140          187    0        0     144         1   \n",
       "296   63    0   0     124          197    0        1     136         1   \n",
       "297   59    1   0     164          176    1        0      90         0   \n",
       "298   57    0   0     140          241    0        1     123         1   \n",
       "299   45    1   3     110          264    0        1     132         0   \n",
       "300   68    1   0     144          193    1        1     141         0   \n",
       "301   57    1   0     130          131    0        1     115         1   \n",
       "302   57    0   1     130          236    0        0     174         0   \n",
       "\n",
       "     Oldpeak  Slope  CA  Thal  Result  \n",
       "293      0.8      1   0     3       0  \n",
       "294      2.8      0   0     1       0  \n",
       "295      4.0      2   2     3       0  \n",
       "296      0.0      1   0     2       0  \n",
       "297      1.0      1   2     1       0  \n",
       "298      0.2      1   0     3       0  \n",
       "299      1.2      1   0     3       0  \n",
       "300      3.4      1   2     3       0  \n",
       "301      1.2      1   1     3       0  \n",
       "302      0.0      1   1     2       0  "
      ]
     },
     "execution_count": 3,
     "metadata": {},
     "output_type": "execute_result"
    }
   ],
   "source": [
    "#Explore the data\n",
    "mydata.head(10)\n",
    "mydata.tail(10)"
   ]
  },
  {
   "cell_type": "code",
   "execution_count": 4,
   "id": "3888388b",
   "metadata": {},
   "outputs": [
    {
     "name": "stdout",
     "output_type": "stream",
     "text": [
      "<class 'pandas.core.frame.DataFrame'>\n",
      "RangeIndex: 303 entries, 0 to 302\n",
      "Data columns (total 14 columns):\n",
      " #   Column       Non-Null Count  Dtype  \n",
      "---  ------       --------------  -----  \n",
      " 0   Age          303 non-null    int64  \n",
      " 1   Sex          303 non-null    int64  \n",
      " 2   CP           303 non-null    int64  \n",
      " 3   RestBP       303 non-null    int64  \n",
      " 4   Cholesteral  303 non-null    int64  \n",
      " 5   FBP          303 non-null    int64  \n",
      " 6   RestECG      303 non-null    int64  \n",
      " 7   Max_HR       303 non-null    int64  \n",
      " 8   ExAngina     303 non-null    int64  \n",
      " 9   Oldpeak      303 non-null    float64\n",
      " 10  Slope        303 non-null    int64  \n",
      " 11  CA           303 non-null    int64  \n",
      " 12  Thal         303 non-null    int64  \n",
      " 13  Result       303 non-null    int64  \n",
      "dtypes: float64(1), int64(13)\n",
      "memory usage: 33.3 KB\n"
     ]
    }
   ],
   "source": [
    "#Check the structure of the data\n",
    "mydata.info()"
   ]
  },
  {
   "cell_type": "markdown",
   "id": "3c67c25c",
   "metadata": {},
   "source": [
    "We find that there are total 303 entries in the dataset and there is no missing value present."
   ]
  },
  {
   "cell_type": "markdown",
   "id": "740a44ee",
   "metadata": {},
   "source": [
    "There are 13 expalnatory features in the data. \n",
    "\n",
    "All the features are numeric type. Some of the features are ordinal type discrete numeric data. \n",
    "\n",
    "Apparently "
   ]
  },
  {
   "cell_type": "code",
   "execution_count": 5,
   "id": "4fee6603",
   "metadata": {},
   "outputs": [
    {
     "data": {
      "text/plain": [
       "Index(['Age', 'Sex', 'CP', 'RestBP', 'Cholesteral', 'FBP', 'RestECG', 'Max_HR',\n",
       "       'ExAngina', 'Oldpeak', 'Slope', 'CA', 'Thal', 'Result'],\n",
       "      dtype='object')"
      ]
     },
     "execution_count": 5,
     "metadata": {},
     "output_type": "execute_result"
    }
   ],
   "source": [
    "#List of features\n",
    "mydata.columns"
   ]
  },
  {
   "cell_type": "markdown",
   "id": "3a43f8ad",
   "metadata": {},
   "source": [
    "**Separate the Variables**"
   ]
  },
  {
   "cell_type": "code",
   "execution_count": 6,
   "id": "d9da7250",
   "metadata": {},
   "outputs": [],
   "source": [
    "#Continuos variables\n",
    "Age = mydata.Age\n",
    "RestBP = mydata.RestBP\n",
    "Cholesteral = mydata.Cholesteral\n",
    "Max_HR = mydata.Max_HR\n",
    "Oldpeak = mydata.Oldpeak"
   ]
  },
  {
   "cell_type": "code",
   "execution_count": 7,
   "id": "022c9c85",
   "metadata": {},
   "outputs": [],
   "source": [
    "#Categorical Variables\n",
    "Sex = mydata.Sex\n",
    "CP = mydata.CP\n",
    "FBP = mydata.FBP\n",
    "RestECG = mydata.RestECG\n",
    "ExAngina = mydata.ExAngina\n",
    "CA = mydata.CA\n",
    "Thal = mydata.Thal\n",
    "Slope = mydata.Slope"
   ]
  },
  {
   "cell_type": "markdown",
   "id": "0b69256c",
   "metadata": {},
   "source": [
    "**Descriptive summary of the continuous features**"
   ]
  },
  {
   "cell_type": "code",
   "execution_count": 8,
   "id": "91be1a87",
   "metadata": {},
   "outputs": [
    {
     "data": {
      "text/html": [
       "<div>\n",
       "<style scoped>\n",
       "    .dataframe tbody tr th:only-of-type {\n",
       "        vertical-align: middle;\n",
       "    }\n",
       "\n",
       "    .dataframe tbody tr th {\n",
       "        vertical-align: top;\n",
       "    }\n",
       "\n",
       "    .dataframe thead th {\n",
       "        text-align: right;\n",
       "    }\n",
       "</style>\n",
       "<table border=\"1\" class=\"dataframe\">\n",
       "  <thead>\n",
       "    <tr style=\"text-align: right;\">\n",
       "      <th></th>\n",
       "      <th>Age</th>\n",
       "      <th>RestBP</th>\n",
       "      <th>Cholesteral</th>\n",
       "      <th>Max_HR</th>\n",
       "      <th>Oldpeak</th>\n",
       "    </tr>\n",
       "  </thead>\n",
       "  <tbody>\n",
       "    <tr>\n",
       "      <th>count</th>\n",
       "      <td>303.000000</td>\n",
       "      <td>303.000000</td>\n",
       "      <td>303.000000</td>\n",
       "      <td>303.000000</td>\n",
       "      <td>303.000000</td>\n",
       "    </tr>\n",
       "    <tr>\n",
       "      <th>mean</th>\n",
       "      <td>54.366337</td>\n",
       "      <td>131.623762</td>\n",
       "      <td>246.264026</td>\n",
       "      <td>149.646865</td>\n",
       "      <td>1.039604</td>\n",
       "    </tr>\n",
       "    <tr>\n",
       "      <th>std</th>\n",
       "      <td>9.082101</td>\n",
       "      <td>17.538143</td>\n",
       "      <td>51.830751</td>\n",
       "      <td>22.905161</td>\n",
       "      <td>1.161075</td>\n",
       "    </tr>\n",
       "    <tr>\n",
       "      <th>min</th>\n",
       "      <td>29.000000</td>\n",
       "      <td>94.000000</td>\n",
       "      <td>126.000000</td>\n",
       "      <td>71.000000</td>\n",
       "      <td>0.000000</td>\n",
       "    </tr>\n",
       "    <tr>\n",
       "      <th>25%</th>\n",
       "      <td>47.500000</td>\n",
       "      <td>120.000000</td>\n",
       "      <td>211.000000</td>\n",
       "      <td>133.500000</td>\n",
       "      <td>0.000000</td>\n",
       "    </tr>\n",
       "    <tr>\n",
       "      <th>50%</th>\n",
       "      <td>55.000000</td>\n",
       "      <td>130.000000</td>\n",
       "      <td>240.000000</td>\n",
       "      <td>153.000000</td>\n",
       "      <td>0.800000</td>\n",
       "    </tr>\n",
       "    <tr>\n",
       "      <th>75%</th>\n",
       "      <td>61.000000</td>\n",
       "      <td>140.000000</td>\n",
       "      <td>274.500000</td>\n",
       "      <td>166.000000</td>\n",
       "      <td>1.600000</td>\n",
       "    </tr>\n",
       "    <tr>\n",
       "      <th>max</th>\n",
       "      <td>77.000000</td>\n",
       "      <td>200.000000</td>\n",
       "      <td>564.000000</td>\n",
       "      <td>202.000000</td>\n",
       "      <td>6.200000</td>\n",
       "    </tr>\n",
       "  </tbody>\n",
       "</table>\n",
       "</div>"
      ],
      "text/plain": [
       "              Age      RestBP  Cholesteral      Max_HR     Oldpeak\n",
       "count  303.000000  303.000000   303.000000  303.000000  303.000000\n",
       "mean    54.366337  131.623762   246.264026  149.646865    1.039604\n",
       "std      9.082101   17.538143    51.830751   22.905161    1.161075\n",
       "min     29.000000   94.000000   126.000000   71.000000    0.000000\n",
       "25%     47.500000  120.000000   211.000000  133.500000    0.000000\n",
       "50%     55.000000  130.000000   240.000000  153.000000    0.800000\n",
       "75%     61.000000  140.000000   274.500000  166.000000    1.600000\n",
       "max     77.000000  200.000000   564.000000  202.000000    6.200000"
      ]
     },
     "execution_count": 8,
     "metadata": {},
     "output_type": "execute_result"
    }
   ],
   "source": [
    "#Descriptive summary of the features\n",
    "mydata[['Age','RestBP', 'Cholesteral','Max_HR',\n",
    "        'Oldpeak']].describe()"
   ]
  },
  {
   "cell_type": "markdown",
   "id": "0b09a482",
   "metadata": {},
   "source": [
    "## Graphical Visualization of the continuous variables"
   ]
  },
  {
   "cell_type": "markdown",
   "id": "e7a69167",
   "metadata": {},
   "source": [
    "**Age**"
   ]
  },
  {
   "cell_type": "code",
   "execution_count": 9,
   "id": "1d73bb28",
   "metadata": {},
   "outputs": [
    {
     "data": {
      "image/png": "[encoded data removed]",
      "text/plain": [
       "<Figure size 432x288 with 1 Axes>"
      ]
     },
     "metadata": {
      "needs_background": "light"
     },
     "output_type": "display_data"
    },
    {
     "data": {
      "image/png": "[encoded data removed]",
      "text/plain": [
       "<Figure size 432x288 with 1 Axes>"
      ]
     },
     "metadata": {
      "needs_background": "light"
     },
     "output_type": "display_data"
    },
    {
     "data": {
      "image/png": "[encoded data removed]",
      "text/plain": [
       "<Figure size 432x288 with 1 Axes>"
      ]
     },
     "metadata": {
      "needs_background": "light"
     },
     "output_type": "display_data"
    }
   ],
   "source": [
    "#Box plot\n",
    "mysb.boxplot(x=mydata.Result,y=Age,data=mydata)\n",
    "myplot.show()\n",
    "#Histogram\n",
    "mysb.histplot(data=mydata,x=Age,hue=mydata.Result)\n",
    "myplot.show()\n",
    "#Rug plot and KDE plot\n",
    "mysb.rugplot(x=Age,hue=mydata.Result)\n",
    "mysb.kdeplot(x=Age,hue=mydata.Result)\n",
    "myplot.ylim(0,0.05)\n",
    "myplot.show()\n"
   ]
  },
  {
   "cell_type": "markdown",
   "id": "158e2f74",
   "metadata": {},
   "source": [
    "So, going by the knowledge that in general heart disease happens more at a later age, we see that 0 = Heart Disease, 1 = Not heart Disease"
   ]
  },
  {
   "cell_type": "markdown",
   "id": "6e74f3de",
   "metadata": {},
   "source": [
    "**RestBP**"
   ]
  },
  {
   "cell_type": "code",
   "execution_count": 10,
   "id": "2015af06",
   "metadata": {
    "scrolled": true
   },
   "outputs": [
    {
     "data": {
      "image/png": "[encoded data removed]",
      "text/plain": [
       "<Figure size 432x288 with 1 Axes>"
      ]
     },
     "metadata": {
      "needs_background": "light"
     },
     "output_type": "display_data"
    },
    {
     "data": {
      "image/png": "[encoded data removed]",
      "text/plain": [
       "<Figure size 432x288 with 1 Axes>"
      ]
     },
     "metadata": {
      "needs_background": "light"
     },
     "output_type": "display_data"
    },
    {
     "data": {
      "image/png": "[encoded data removed]",
      "text/plain": [
       "<Figure size 432x288 with 1 Axes>"
      ]
     },
     "metadata": {
      "needs_background": "light"
     },
     "output_type": "display_data"
    }
   ],
   "source": [
    "#Box plot\n",
    "mysb.boxplot(x=mydata.Result,y=RestBP,data=mydata)\n",
    "myplot.show()\n",
    "#Histogram\n",
    "mysb.histplot(data=mydata,x=RestBP,hue=mydata.Result)\n",
    "myplot.show()\n",
    "#Rug plot and KDE plot\n",
    "mysb.rugplot(x=RestBP,hue=mydata.Result)\n",
    "mysb.kdeplot(x=RestBP,hue=mydata.Result)\n",
    "myplot.ylim(0,0.015)\n",
    "myplot.show()"
   ]
  },
  {
   "cell_type": "markdown",
   "id": "cb83f2ec",
   "metadata": {},
   "source": [
    "**Cholesteral**"
   ]
  },
  {
   "cell_type": "code",
   "execution_count": 11,
   "id": "63bfb9de",
   "metadata": {},
   "outputs": [
    {
     "data": {
      "image/png": "[encoded data removed]",
      "text/plain": [
       "<Figure size 432x288 with 1 Axes>"
      ]
     },
     "metadata": {
      "needs_background": "light"
     },
     "output_type": "display_data"
    },
    {
     "data": {
      "image/png": "[encoded data removed]",
      "text/plain": [
       "<Figure size 432x288 with 1 Axes>"
      ]
     },
     "metadata": {
      "needs_background": "light"
     },
     "output_type": "display_data"
    },
    {
     "data": {
      "image/png": "[encoded data removed]",
      "text/plain": [
       "<Figure size 432x288 with 1 Axes>"
      ]
     },
     "metadata": {
      "needs_background": "light"
     },
     "output_type": "display_data"
    }
   ],
   "source": [
    "#Box plot\n",
    "mysb.boxplot(x=mydata.Result,y=Cholesteral,data=mydata)\n",
    "myplot.show()\n",
    "#Histogram\n",
    "mysb.histplot(data=mydata,x=Cholesteral,hue=mydata.Result)\n",
    "myplot.show()\n",
    "#Rug plot and KDE plot\n",
    "mysb.rugplot(x=Cholesteral,hue=mydata.Result)\n",
    "mysb.kdeplot(x=Cholesteral,hue=mydata.Result)\n",
    "myplot.ylim(0,0.005)\n",
    "myplot.show()"
   ]
  },
  {
   "cell_type": "markdown",
   "id": "1bf7e80c",
   "metadata": {},
   "source": [
    "**Max_HR**"
   ]
  },
  {
   "cell_type": "code",
   "execution_count": 12,
   "id": "e9b611b9",
   "metadata": {
    "scrolled": true
   },
   "outputs": [
    {
     "data": {
      "image/png": "[encoded data removed]",
      "text/plain": [
       "<Figure size 432x288 with 1 Axes>"
      ]
     },
     "metadata": {
      "needs_background": "light"
     },
     "output_type": "display_data"
    },
    {
     "data": {
      "image/png": "[encoded data removed]",
      "text/plain": [
       "<Figure size 432x288 with 1 Axes>"
      ]
     },
     "metadata": {
      "needs_background": "light"
     },
     "output_type": "display_data"
    },
    {
     "data": {
      "image/png": "[encoded data removed]",
      "text/plain": [
       "<Figure size 432x288 with 1 Axes>"
      ]
     },
     "metadata": {
      "needs_background": "light"
     },
     "output_type": "display_data"
    }
   ],
   "source": [
    "#Box plot\n",
    "mysb.boxplot(x=mydata.Result,y=Max_HR,data=mydata)\n",
    "myplot.show()\n",
    "#Histogram\n",
    "mysb.histplot(data=mydata,x=Max_HR,hue=mydata.Result)\n",
    "myplot.show()\n",
    "#Rug plot and KDE plot\n",
    "mysb.rugplot(x=Max_HR,hue=mydata.Result)\n",
    "mysb.kdeplot(x=Max_HR,hue=mydata.Result)\n",
    "myplot.ylim(0,0.02)\n",
    "myplot.show()\n"
   ]
  },
  {
   "cell_type": "markdown",
   "id": "c277419d",
   "metadata": {},
   "source": [
    "**Oldpeak**"
   ]
  },
  {
   "cell_type": "code",
   "execution_count": 13,
   "id": "c544ff2c",
   "metadata": {
    "scrolled": true
   },
   "outputs": [
    {
     "data": {
      "image/png": "[encoded data removed]",
      "text/plain": [
       "<Figure size 432x288 with 1 Axes>"
      ]
     },
     "metadata": {
      "needs_background": "light"
     },
     "output_type": "display_data"
    },
    {
     "data": {
      "image/png": "[encoded data removed]",
      "text/plain": [
       "<Figure size 432x288 with 1 Axes>"
      ]
     },
     "metadata": {
      "needs_background": "light"
     },
     "output_type": "display_data"
    },
    {
     "data": {
      "image/png": "[encoded data removed]",
      "text/plain": [
       "<Figure size 432x288 with 1 Axes>"
      ]
     },
     "metadata": {
      "needs_background": "light"
     },
     "output_type": "display_data"
    }
   ],
   "source": [
    "#Box plot\n",
    "mysb.boxplot(x=mydata.Result,y=Oldpeak,data=mydata)\n",
    "myplot.show()\n",
    "#Histogram\n",
    "mysb.histplot(data=mydata,x=Oldpeak,hue=mydata.Result)\n",
    "myplot.show()\n",
    "#Rug plot and KDE plot\n",
    "mysb.rugplot(x=Oldpeak,hue=mydata.Result)\n",
    "mysb.kdeplot(x=Oldpeak,hue=mydata.Result)\n",
    "myplot.ylim(0,0.5)\n",
    "myplot.show()\n"
   ]
  },
  {
   "cell_type": "markdown",
   "id": "8a9baade",
   "metadata": {},
   "source": [
    "## Graphical Visualization of the categorical variables"
   ]
  },
  {
   "cell_type": "markdown",
   "id": "15776b19",
   "metadata": {},
   "source": [
    "**Sex**"
   ]
  },
  {
   "cell_type": "code",
   "execution_count": 14,
   "id": "c67110bf",
   "metadata": {},
   "outputs": [
    {
     "data": {
      "image/png": "[encoded data removed]",
      "text/plain": [
       "<Figure size 432x288 with 1 Axes>"
      ]
     },
     "metadata": {
      "needs_background": "light"
     },
     "output_type": "display_data"
    }
   ],
   "source": [
    "#count plot\n",
    "mysb.countplot(x=Sex,hue=mydata.Result,data=mydata)\n",
    "myplot.show()"
   ]
  },
  {
   "cell_type": "code",
   "execution_count": 15,
   "id": "298ff45d",
   "metadata": {},
   "outputs": [],
   "source": [
    "categorical_features = [Sex, CP, FBP, RestECG,\n",
    "       ExAngina, Slope, CA, Thal]"
   ]
  },
  {
   "cell_type": "code",
   "execution_count": 16,
   "id": "cb92b30b",
   "metadata": {},
   "outputs": [
    {
     "data": {
      "image/png": "[encoded data removed]",
      "text/plain": [
       "<Figure size 432x288 with 1 Axes>"
      ]
     },
     "metadata": {
      "needs_background": "light"
     },
     "output_type": "display_data"
    },
    {
     "data": {
      "image/png": "[encoded data removed]",
      "text/plain": [
       "<Figure size 432x288 with 1 Axes>"
      ]
     },
     "metadata": {
      "needs_background": "light"
     },
     "output_type": "display_data"
    },
    {
     "data": {
      "image/png": "[encoded data removed]",
      "text/plain": [
       "<Figure size 432x288 with 1 Axes>"
      ]
     },
     "metadata": {
      "needs_background": "light"
     },
     "output_type": "display_data"
    },
    {
     "data": {
      "image/png": "[encoded data removed]",
      "text/plain": [
       "<Figure size 432x288 with 1 Axes>"
      ]
     },
     "metadata": {
      "needs_background": "light"
     },
     "output_type": "display_data"
    },
    {
     "data": {
      "image/png": "[encoded data removed]",
      "text/plain": [
       "<Figure size 432x288 with 1 Axes>"
      ]
     },
     "metadata": {
      "needs_background": "light"
     },
     "output_type": "display_data"
    },
    {
     "data": {
      "image/png": "[encoded data removed]",
      "text/plain": [
       "<Figure size 432x288 with 1 Axes>"
      ]
     },
     "metadata": {
      "needs_background": "light"
     },
     "output_type": "display_data"
    },
    {
     "data": {
      "image/png": "[encoded data removed]",
      "text/plain": [
       "<Figure size 432x288 with 1 Axes>"
      ]
     },
     "metadata": {
      "needs_background": "light"
     },
     "output_type": "display_data"
    },
    {
     "data": {
      "image/png": "[encoded data removed]",
      "text/plain": [
       "<Figure size 432x288 with 1 Axes>"
      ]
     },
     "metadata": {
      "needs_background": "light"
     },
     "output_type": "display_data"
    }
   ],
   "source": [
    "for i in categorical_features:\n",
    "    mysb.countplot(x=i,hue=mydata.Result,data=mydata)\n",
    "    myplot.show()"
   ]
  },
  {
   "cell_type": "markdown",
   "id": "bbae2050",
   "metadata": {},
   "source": [
    "## Logistic Regression Model"
   ]
  },
  {
   "cell_type": "code",
   "execution_count": 17,
   "id": "1531f54a",
   "metadata": {},
   "outputs": [],
   "source": [
    "#We separate x's and y\n",
    "x = mydata.iloc[:,0:13]\n",
    "y = mydata.iloc[:,13]\n",
    "#We put another column: Intercept\n",
    "x['Intercept'] = 1"
   ]
  },
  {
   "cell_type": "markdown",
   "id": "734dde54",
   "metadata": {},
   "source": [
    "**Develop the Initial Model**"
   ]
  },
  {
   "cell_type": "code",
   "execution_count": 18,
   "id": "34a1c6e3",
   "metadata": {},
   "outputs": [
    {
     "name": "stdout",
     "output_type": "stream",
     "text": [
      "Optimization terminated successfully.\n",
      "         Current function value: 0.348904\n",
      "         Iterations 7\n"
     ]
    }
   ],
   "source": [
    "#Develop binary logistic regression model\n",
    "mymodel = mysm.Logit(endog=y,exog=x).fit()"
   ]
  },
  {
   "cell_type": "code",
   "execution_count": 19,
   "id": "56517b27",
   "metadata": {},
   "outputs": [
    {
     "data": {
      "text/html": [
       "<table class=\"simpletable\">\n",
       "<caption>Logit Regression Results</caption>\n",
       "<tr>\n",
       "  <th>Dep. Variable:</th>        <td>Result</td>      <th>  No. Observations:  </th>  <td>   303</td>  \n",
       "</tr>\n",
       "<tr>\n",
       "  <th>Model:</th>                 <td>Logit</td>      <th>  Df Residuals:      </th>  <td>   289</td>  \n",
       "</tr>\n",
       "<tr>\n",
       "  <th>Method:</th>                 <td>MLE</td>       <th>  Df Model:          </th>  <td>    13</td>  \n",
       "</tr>\n",
       "<tr>\n",
       "  <th>Date:</th>            <td>Sun, 24 Apr 2022</td> <th>  Pseudo R-squ.:     </th>  <td>0.4937</td>  \n",
       "</tr>\n",
       "<tr>\n",
       "  <th>Time:</th>                <td>10:53:38</td>     <th>  Log-Likelihood:    </th> <td> -105.72</td> \n",
       "</tr>\n",
       "<tr>\n",
       "  <th>converged:</th>             <td>True</td>       <th>  LL-Null:           </th> <td> -208.82</td> \n",
       "</tr>\n",
       "<tr>\n",
       "  <th>Covariance Type:</th>     <td>nonrobust</td>    <th>  LLR p-value:       </th> <td>7.262e-37</td>\n",
       "</tr>\n",
       "</table>\n",
       "<table class=\"simpletable\">\n",
       "<tr>\n",
       "       <td></td>          <th>coef</th>     <th>std err</th>      <th>z</th>      <th>P>|z|</th>  <th>[0.025</th>    <th>0.975]</th>  \n",
       "</tr>\n",
       "<tr>\n",
       "  <th>Age</th>         <td>   -0.0049</td> <td>    0.023</td> <td>   -0.212</td> <td> 0.832</td> <td>   -0.050</td> <td>    0.041</td>\n",
       "</tr>\n",
       "<tr>\n",
       "  <th>Sex</th>         <td>   -1.7582</td> <td>    0.469</td> <td>   -3.751</td> <td> 0.000</td> <td>   -2.677</td> <td>   -0.839</td>\n",
       "</tr>\n",
       "<tr>\n",
       "  <th>CP</th>          <td>    0.8599</td> <td>    0.185</td> <td>    4.638</td> <td> 0.000</td> <td>    0.496</td> <td>    1.223</td>\n",
       "</tr>\n",
       "<tr>\n",
       "  <th>RestBP</th>      <td>   -0.0195</td> <td>    0.010</td> <td>   -1.884</td> <td> 0.060</td> <td>   -0.040</td> <td>    0.001</td>\n",
       "</tr>\n",
       "<tr>\n",
       "  <th>Cholesteral</th> <td>   -0.0046</td> <td>    0.004</td> <td>   -1.224</td> <td> 0.221</td> <td>   -0.012</td> <td>    0.003</td>\n",
       "</tr>\n",
       "<tr>\n",
       "  <th>FBP</th>         <td>    0.0349</td> <td>    0.529</td> <td>    0.066</td> <td> 0.947</td> <td>   -1.003</td> <td>    1.073</td>\n",
       "</tr>\n",
       "<tr>\n",
       "  <th>RestECG</th>     <td>    0.4663</td> <td>    0.348</td> <td>    1.339</td> <td> 0.181</td> <td>   -0.216</td> <td>    1.149</td>\n",
       "</tr>\n",
       "<tr>\n",
       "  <th>Max_HR</th>      <td>    0.0232</td> <td>    0.010</td> <td>    2.219</td> <td> 0.026</td> <td>    0.003</td> <td>    0.044</td>\n",
       "</tr>\n",
       "<tr>\n",
       "  <th>ExAngina</th>    <td>   -0.9800</td> <td>    0.410</td> <td>   -2.391</td> <td> 0.017</td> <td>   -1.783</td> <td>   -0.177</td>\n",
       "</tr>\n",
       "<tr>\n",
       "  <th>Oldpeak</th>     <td>   -0.5403</td> <td>    0.214</td> <td>   -2.526</td> <td> 0.012</td> <td>   -0.959</td> <td>   -0.121</td>\n",
       "</tr>\n",
       "<tr>\n",
       "  <th>Slope</th>       <td>    0.5793</td> <td>    0.350</td> <td>    1.656</td> <td> 0.098</td> <td>   -0.106</td> <td>    1.265</td>\n",
       "</tr>\n",
       "<tr>\n",
       "  <th>CA</th>          <td>   -0.7733</td> <td>    0.191</td> <td>   -4.051</td> <td> 0.000</td> <td>   -1.147</td> <td>   -0.399</td>\n",
       "</tr>\n",
       "<tr>\n",
       "  <th>Thal</th>        <td>   -0.9004</td> <td>    0.290</td> <td>   -3.104</td> <td> 0.002</td> <td>   -1.469</td> <td>   -0.332</td>\n",
       "</tr>\n",
       "<tr>\n",
       "  <th>Intercept</th>   <td>    3.4505</td> <td>    2.571</td> <td>    1.342</td> <td> 0.180</td> <td>   -1.590</td> <td>    8.490</td>\n",
       "</tr>\n",
       "</table>"
      ],
      "text/plain": [
       "<class 'statsmodels.iolib.summary.Summary'>\n",
       "\"\"\"\n",
       "                           Logit Regression Results                           \n",
       "==============================================================================\n",
       "Dep. Variable:                 Result   No. Observations:                  303\n",
       "Model:                          Logit   Df Residuals:                      289\n",
       "Method:                           MLE   Df Model:                           13\n",
       "Date:                Sun, 24 Apr 2022   Pseudo R-squ.:                  0.4937\n",
       "Time:                        10:53:38   Log-Likelihood:                -105.72\n",
       "converged:                       True   LL-Null:                       -208.82\n",
       "Covariance Type:            nonrobust   LLR p-value:                 7.262e-37\n",
       "===============================================================================\n",
       "                  coef    std err          z      P>|z|      [0.025      0.975]\n",
       "-------------------------------------------------------------------------------\n",
       "Age            -0.0049      0.023     -0.212      0.832      -0.050       0.041\n",
       "Sex            -1.7582      0.469     -3.751      0.000      -2.677      -0.839\n",
       "CP              0.8599      0.185      4.638      0.000       0.496       1.223\n",
       "RestBP         -0.0195      0.010     -1.884      0.060      -0.040       0.001\n",
       "Cholesteral    -0.0046      0.004     -1.224      0.221      -0.012       0.003\n",
       "FBP             0.0349      0.529      0.066      0.947      -1.003       1.073\n",
       "RestECG         0.4663      0.348      1.339      0.181      -0.216       1.149\n",
       "Max_HR          0.0232      0.010      2.219      0.026       0.003       0.044\n",
       "ExAngina       -0.9800      0.410     -2.391      0.017      -1.783      -0.177\n",
       "Oldpeak        -0.5403      0.214     -2.526      0.012      -0.959      -0.121\n",
       "Slope           0.5793      0.350      1.656      0.098      -0.106       1.265\n",
       "CA             -0.7733      0.191     -4.051      0.000      -1.147      -0.399\n",
       "Thal           -0.9004      0.290     -3.104      0.002      -1.469      -0.332\n",
       "Intercept       3.4505      2.571      1.342      0.180      -1.590       8.490\n",
       "===============================================================================\n",
       "\"\"\""
      ]
     },
     "execution_count": 19,
     "metadata": {},
     "output_type": "execute_result"
    }
   ],
   "source": [
    "#Summary output\n",
    "mymodel.summary()"
   ]
  },
  {
   "cell_type": "markdown",
   "id": "874de708",
   "metadata": {},
   "source": [
    "In the model we see that the variables: Age, RestBP, Cholesteral, Slope, FBP, RestECG are not significant features.\n",
    "\n",
    "Only Sex, CP,CA,Thal,Max_HR,ExAngina,Oldpeak are significant."
   ]
  },
  {
   "cell_type": "markdown",
   "id": "363f90ca",
   "metadata": {},
   "source": [
    "We develop new model using only these variables: Sex, CP,CA,Thal,Max_HR,ExAngina,Oldpeak"
   ]
  },
  {
   "cell_type": "code",
   "execution_count": 20,
   "id": "884767fb",
   "metadata": {},
   "outputs": [
    {
     "name": "stderr",
     "output_type": "stream",
     "text": [
      "<ipython-input-20-722d76677047>:3: SettingWithCopyWarning: \n",
      "A value is trying to be set on a copy of a slice from a DataFrame.\n",
      "Try using .loc[row_indexer,col_indexer] = value instead\n",
      "\n",
      "See the caveats in the documentation: https://pandas.pydata.org/pandas-docs/stable/user_guide/indexing.html#returning-a-view-versus-a-copy\n",
      "  x['Intercept'] = 1\n"
     ]
    }
   ],
   "source": [
    "#Overwrite x's\n",
    "x= mydata.iloc[:,[1,2,7,8,9,11,12]]\n",
    "x['Intercept'] = 1"
   ]
  },
  {
   "cell_type": "markdown",
   "id": "801f2574",
   "metadata": {},
   "source": [
    "**Use this method**\n",
    "\n",
    "x.loc[:,'Intercept'] = 1\n"
   ]
  },
  {
   "cell_type": "code",
   "execution_count": 21,
   "id": "1983fa73",
   "metadata": {},
   "outputs": [
    {
     "name": "stdout",
     "output_type": "stream",
     "text": [
      "Optimization terminated successfully.\n",
      "         Current function value: 0.368502\n",
      "         Iterations 7\n"
     ]
    }
   ],
   "source": [
    "#Develop the new binary logistic model\n",
    "mymodel = mysm.Logit(endog=y,exog=x).fit()"
   ]
  },
  {
   "cell_type": "code",
   "execution_count": 22,
   "id": "38e7af18",
   "metadata": {},
   "outputs": [
    {
     "data": {
      "text/html": [
       "<table class=\"simpletable\">\n",
       "<caption>Logit Regression Results</caption>\n",
       "<tr>\n",
       "  <th>Dep. Variable:</th>        <td>Result</td>      <th>  No. Observations:  </th>  <td>   303</td>  \n",
       "</tr>\n",
       "<tr>\n",
       "  <th>Model:</th>                 <td>Logit</td>      <th>  Df Residuals:      </th>  <td>   295</td>  \n",
       "</tr>\n",
       "<tr>\n",
       "  <th>Method:</th>                 <td>MLE</td>       <th>  Df Model:          </th>  <td>     7</td>  \n",
       "</tr>\n",
       "<tr>\n",
       "  <th>Date:</th>            <td>Sun, 24 Apr 2022</td> <th>  Pseudo R-squ.:     </th>  <td>0.4653</td>  \n",
       "</tr>\n",
       "<tr>\n",
       "  <th>Time:</th>                <td>10:53:38</td>     <th>  Log-Likelihood:    </th> <td> -111.66</td> \n",
       "</tr>\n",
       "<tr>\n",
       "  <th>converged:</th>             <td>True</td>       <th>  LL-Null:           </th> <td> -208.82</td> \n",
       "</tr>\n",
       "<tr>\n",
       "  <th>Covariance Type:</th>     <td>nonrobust</td>    <th>  LLR p-value:       </th> <td>1.824e-38</td>\n",
       "</tr>\n",
       "</table>\n",
       "<table class=\"simpletable\">\n",
       "<tr>\n",
       "      <td></td>         <th>coef</th>     <th>std err</th>      <th>z</th>      <th>P>|z|</th>  <th>[0.025</th>    <th>0.975]</th>  \n",
       "</tr>\n",
       "<tr>\n",
       "  <th>Sex</th>       <td>   -1.3896</td> <td>    0.406</td> <td>   -3.425</td> <td> 0.001</td> <td>   -2.185</td> <td>   -0.594</td>\n",
       "</tr>\n",
       "<tr>\n",
       "  <th>CP</th>        <td>    0.7872</td> <td>    0.175</td> <td>    4.505</td> <td> 0.000</td> <td>    0.445</td> <td>    1.130</td>\n",
       "</tr>\n",
       "<tr>\n",
       "  <th>Max_HR</th>    <td>    0.0237</td> <td>    0.009</td> <td>    2.685</td> <td> 0.007</td> <td>    0.006</td> <td>    0.041</td>\n",
       "</tr>\n",
       "<tr>\n",
       "  <th>ExAngina</th>  <td>   -1.0447</td> <td>    0.389</td> <td>   -2.686</td> <td> 0.007</td> <td>   -1.807</td> <td>   -0.282</td>\n",
       "</tr>\n",
       "<tr>\n",
       "  <th>Oldpeak</th>   <td>   -0.7406</td> <td>    0.182</td> <td>   -4.061</td> <td> 0.000</td> <td>   -1.098</td> <td>   -0.383</td>\n",
       "</tr>\n",
       "<tr>\n",
       "  <th>CA</th>        <td>   -0.7133</td> <td>    0.174</td> <td>   -4.090</td> <td> 0.000</td> <td>   -1.055</td> <td>   -0.372</td>\n",
       "</tr>\n",
       "<tr>\n",
       "  <th>Thal</th>      <td>   -0.8963</td> <td>    0.275</td> <td>   -3.265</td> <td> 0.001</td> <td>   -1.434</td> <td>   -0.358</td>\n",
       "</tr>\n",
       "<tr>\n",
       "  <th>Intercept</th> <td>    0.4636</td> <td>    1.482</td> <td>    0.313</td> <td> 0.754</td> <td>   -2.440</td> <td>    3.367</td>\n",
       "</tr>\n",
       "</table>"
      ],
      "text/plain": [
       "<class 'statsmodels.iolib.summary.Summary'>\n",
       "\"\"\"\n",
       "                           Logit Regression Results                           \n",
       "==============================================================================\n",
       "Dep. Variable:                 Result   No. Observations:                  303\n",
       "Model:                          Logit   Df Residuals:                      295\n",
       "Method:                           MLE   Df Model:                            7\n",
       "Date:                Sun, 24 Apr 2022   Pseudo R-squ.:                  0.4653\n",
       "Time:                        10:53:38   Log-Likelihood:                -111.66\n",
       "converged:                       True   LL-Null:                       -208.82\n",
       "Covariance Type:            nonrobust   LLR p-value:                 1.824e-38\n",
       "==============================================================================\n",
       "                 coef    std err          z      P>|z|      [0.025      0.975]\n",
       "------------------------------------------------------------------------------\n",
       "Sex           -1.3896      0.406     -3.425      0.001      -2.185      -0.594\n",
       "CP             0.7872      0.175      4.505      0.000       0.445       1.130\n",
       "Max_HR         0.0237      0.009      2.685      0.007       0.006       0.041\n",
       "ExAngina      -1.0447      0.389     -2.686      0.007      -1.807      -0.282\n",
       "Oldpeak       -0.7406      0.182     -4.061      0.000      -1.098      -0.383\n",
       "CA            -0.7133      0.174     -4.090      0.000      -1.055      -0.372\n",
       "Thal          -0.8963      0.275     -3.265      0.001      -1.434      -0.358\n",
       "Intercept      0.4636      1.482      0.313      0.754      -2.440       3.367\n",
       "==============================================================================\n",
       "\"\"\""
      ]
     },
     "execution_count": 22,
     "metadata": {},
     "output_type": "execute_result"
    }
   ],
   "source": [
    "#Check the model\n",
    "mymodel.summary()"
   ]
  },
  {
   "cell_type": "markdown",
   "id": "91792998",
   "metadata": {},
   "source": [
    "**Expression of the Model**"
   ]
  },
  {
   "cell_type": "markdown",
   "id": "854107c3",
   "metadata": {},
   "source": [
    "z = exp(y)/1+exp(y)\n",
    "\n",
    "where \n",
    "\n",
    "y = 0.4636 -1.3896*Sex + 0.7872*CP - 0.7133*CA - 0.8963*Thal + 0.0237*Max_HR - 1.0447*ExAngina - 0.7406*Oldpeak"
   ]
  },
  {
   "cell_type": "markdown",
   "id": "19b51d87",
   "metadata": {},
   "source": [
    "**Model Significance**\n"
   ]
  },
  {
   "cell_type": "markdown",
   "id": "7c1d61f4",
   "metadata": {},
   "source": [
    "Test statistics = Log-likelihood\n",
    "p value for log-likelihood ratio is <0.05.\n",
    "\n",
    "So, the model is significant and it is better than the null model."
   ]
  },
  {
   "cell_type": "markdown",
   "id": "c8639151",
   "metadata": {},
   "source": [
    "**Model accuracy**"
   ]
  },
  {
   "cell_type": "markdown",
   "id": "3b926b3c",
   "metadata": {},
   "source": [
    "Pseudo R<sup>2</sup> > 0.6 to say that the model is reasonably accurate"
   ]
  },
  {
   "cell_type": "markdown",
   "id": "1dda65ae",
   "metadata": {},
   "source": [
    "Here pseudo R2 value is 0.4653. So, the model is not reasonably accurate."
   ]
  },
  {
   "cell_type": "markdown",
   "id": "9a866e6b",
   "metadata": {},
   "source": [
    "**Confusion Matrix**"
   ]
  },
  {
   "cell_type": "code",
   "execution_count": 23,
   "id": "c044b889",
   "metadata": {},
   "outputs": [
    {
     "data": {
      "text/plain": [
       "array([0.916, 0.666, 0.924, 0.844, 0.739, 0.8  , 0.892, 0.78 , 0.806,\n",
       "       0.857, 0.545, 0.967, 0.842, 0.662, 0.984, 0.943, 0.987, 0.859,\n",
       "       0.554, 0.864, 0.456, 0.852, 0.817, 0.578, 0.706, 0.828, 0.8  ,\n",
       "       0.79 , 0.934, 0.827, 0.938, 0.355, 0.925, 0.797, 0.452, 0.875,\n",
       "       0.986, 0.664, 0.959, 0.962, 0.856, 0.898, 0.077, 0.853, 0.959,\n",
       "       0.88 , 0.958, 0.927, 0.992, 0.921, 0.968, 0.636, 0.113, 0.981,\n",
       "       0.987, 0.623, 0.843, 0.84 , 0.977, 0.848, 0.931, 0.704, 0.994,\n",
       "       0.89 , 0.941, 0.874, 0.576, 0.959, 0.89 , 0.926, 0.758, 0.462,\n",
       "       0.945, 0.654, 0.982, 0.903, 0.732, 0.712, 0.919, 0.529, 0.957,\n",
       "       0.89 , 0.965, 0.888, 0.753, 0.876, 0.52 , 0.704, 0.943, 0.694,\n",
       "       0.828, 0.335, 0.5  , 0.812, 0.938, 0.116, 0.817, 0.087, 0.639,\n",
       "       0.692, 0.862, 0.282, 0.906, 0.876, 0.938, 0.865, 0.876, 0.746,\n",
       "       0.923, 0.919, 0.781, 0.767, 0.913, 0.549, 0.85 , 0.986, 0.794,\n",
       "       0.764, 0.971, 0.773, 0.206, 0.83 , 0.963, 0.985, 0.989, 0.97 ,\n",
       "       0.644, 0.973, 0.985, 0.602, 0.967, 0.964, 0.87 , 0.844, 0.965,\n",
       "       0.926, 0.925, 0.799, 0.27 , 0.046, 0.971, 0.663, 0.987, 0.595,\n",
       "       0.898, 0.81 , 0.945, 0.988, 0.946, 0.917, 0.435, 0.609, 0.878,\n",
       "       0.958, 0.979, 0.79 , 0.957, 0.899, 0.071, 0.737, 0.888, 0.924,\n",
       "       0.915, 0.524, 0.524, 0.011, 0.007, 0.163, 0.132, 0.036, 0.713,\n",
       "       0.6  , 0.628, 0.149, 0.009, 0.031, 0.034, 0.931, 0.025, 0.202,\n",
       "       0.042, 0.083, 0.935, 0.332, 0.075, 0.547, 0.047, 0.012, 0.659,\n",
       "       0.531, 0.31 , 0.005, 0.064, 0.008, 0.575, 0.021, 0.418, 0.209,\n",
       "       0.006, 0.511, 0.681, 0.016, 0.068, 0.327, 0.004, 0.173, 0.052,\n",
       "       0.134, 0.085, 0.177, 0.622, 0.009, 0.233, 0.365, 0.124, 0.093,\n",
       "       0.511, 0.007, 0.032, 0.073, 0.025, 0.002, 0.882, 0.011, 0.011,\n",
       "       0.026, 0.105, 0.059, 0.914, 0.211, 0.921, 0.028, 0.074, 0.021,\n",
       "       0.017, 0.148, 0.27 , 0.129, 0.112, 0.275, 0.036, 0.733, 0.167,\n",
       "       0.015, 0.066, 0.486, 0.072, 0.201, 0.745, 0.099, 0.001, 0.015,\n",
       "       0.086, 0.052, 0.931, 0.035, 0.005, 0.088, 0.558, 0.309, 0.178,\n",
       "       0.588, 0.005, 0.243, 0.128, 0.194, 0.107, 0.29 , 0.008, 0.032,\n",
       "       0.31 , 0.431, 0.144, 0.329, 0.081, 0.141, 0.035, 0.571, 0.836,\n",
       "       0.015, 0.224, 0.727, 0.641, 0.661, 0.029, 0.01 , 0.811, 0.775,\n",
       "       0.015, 0.084, 0.373, 0.02 , 0.179, 0.714, 0.178, 0.004, 0.699,\n",
       "       0.135, 0.376, 0.727, 0.014, 0.028, 0.946])"
      ]
     },
     "execution_count": 23,
     "metadata": {},
     "output_type": "execute_result"
    }
   ],
   "source": [
    "#Predicted Value\n",
    "predy = mymodel.predict()\n",
    "mynp.round(predy,3)"
   ]
  },
  {
   "cell_type": "code",
   "execution_count": 24,
   "id": "582d10e6",
   "metadata": {},
   "outputs": [],
   "source": [
    "#Predicted class\n",
    "predclass = [1 if i>0.5 else 0 for i in predy]"
   ]
  },
  {
   "cell_type": "code",
   "execution_count": 25,
   "id": "2a76d1ce",
   "metadata": {},
   "outputs": [],
   "source": [
    "#Create dataframe for predy and predclass\n",
    "predy = mypd.DataFrame(predy,columns=['Probability'])\n",
    "predclass = mypd.DataFrame(predclass,columns=['Predicted_Class'])"
   ]
  },
  {
   "cell_type": "code",
   "execution_count": 26,
   "id": "bcf161ec",
   "metadata": {},
   "outputs": [
    {
     "data": {
      "text/html": [
       "<div>\n",
       "<style scoped>\n",
       "    .dataframe tbody tr th:only-of-type {\n",
       "        vertical-align: middle;\n",
       "    }\n",
       "\n",
       "    .dataframe tbody tr th {\n",
       "        vertical-align: top;\n",
       "    }\n",
       "\n",
       "    .dataframe thead th {\n",
       "        text-align: right;\n",
       "    }\n",
       "</style>\n",
       "<table border=\"1\" class=\"dataframe\">\n",
       "  <thead>\n",
       "    <tr style=\"text-align: right;\">\n",
       "      <th>Predicted_Class</th>\n",
       "      <th>0</th>\n",
       "      <th>1</th>\n",
       "    </tr>\n",
       "    <tr>\n",
       "      <th>Result</th>\n",
       "      <th></th>\n",
       "      <th></th>\n",
       "    </tr>\n",
       "  </thead>\n",
       "  <tbody>\n",
       "    <tr>\n",
       "      <th>0</th>\n",
       "      <td>106</td>\n",
       "      <td>32</td>\n",
       "    </tr>\n",
       "    <tr>\n",
       "      <th>1</th>\n",
       "      <td>15</td>\n",
       "      <td>150</td>\n",
       "    </tr>\n",
       "  </tbody>\n",
       "</table>\n",
       "</div>"
      ],
      "text/plain": [
       "Predicted_Class    0    1\n",
       "Result                   \n",
       "0                106   32\n",
       "1                 15  150"
      ]
     },
     "execution_count": 26,
     "metadata": {},
     "output_type": "execute_result"
    }
   ],
   "source": [
    "#Create the confusion matrix\n",
    "mytable = mypd.crosstab(index=mydata.Result,columns=predclass['Predicted_Class'])\n",
    "mytable"
   ]
  },
  {
   "cell_type": "markdown",
   "id": "95d4b392",
   "metadata": {},
   "source": [
    "**Analysing Confusion Matrix**"
   ]
  },
  {
   "cell_type": "markdown",
   "id": "2844e607",
   "metadata": {},
   "source": [
    "| | Predicted |  |\n",
    "| ----------- | ----------- | ----------- |\n",
    "| Actual|  0|1|\n",
    "|0 |TN |FP |\n",
    "|1 | FN |TP |\n",
    "\n",
    "\n",
    "0 : Negative\n",
    "1 : Positive"
   ]
  },
  {
   "cell_type": "markdown",
   "id": "84bfa130",
   "metadata": {},
   "source": [
    "Sensitivity or Recall\n",
    "\n",
    "Sensitivity = TP/ (TP +FN)\n",
    "\n",
    "Specificity\n",
    "\n",
    "Specificity = TN/(TN+FP)\n",
    "\n",
    "Precision\n",
    "\n",
    "Precision = TP/(TP+FP)\n",
    "\n",
    "F Measure\n",
    "\n",
    "F Measure = Harmonic Mean of Precision and Recall"
   ]
  },
  {
   "cell_type": "code",
   "execution_count": 1,
   "id": "3a16e673",
   "metadata": {},
   "outputs": [],
   "source": [
    "#True Positive\n",
    "TP = 150\n",
    "#False Positive\n",
    "FP = 32\n",
    "#True Negative\n",
    "TN = 106\n",
    "#False Negative\n",
    "FN = 15"
   ]
  },
  {
   "cell_type": "code",
   "execution_count": 28,
   "id": "1bc9a9cf",
   "metadata": {},
   "outputs": [
    {
     "data": {
      "text/plain": [
       "0.82"
      ]
     },
     "execution_count": 28,
     "metadata": {},
     "output_type": "execute_result"
    }
   ],
   "source": [
    "#Precision \n",
    "Precision = TP/(TP+FP)\n",
    "round(Precision,2)"
   ]
  },
  {
   "cell_type": "code",
   "execution_count": 29,
   "id": "8b528200",
   "metadata": {},
   "outputs": [
    {
     "data": {
      "text/plain": [
       "0.91"
      ]
     },
     "execution_count": 29,
     "metadata": {},
     "output_type": "execute_result"
    }
   ],
   "source": [
    "#Recall\n",
    "Recall = TP/(TP+FN)\n",
    "round(Recall,2)"
   ]
  },
  {
   "cell_type": "code",
   "execution_count": 30,
   "id": "7ab193c9",
   "metadata": {},
   "outputs": [
    {
     "data": {
      "text/plain": [
       "0.77"
      ]
     },
     "execution_count": 30,
     "metadata": {},
     "output_type": "execute_result"
    }
   ],
   "source": [
    "#Specificity\n",
    "Specificity = TN/(TN+FP)\n",
    "round(Specificity,2)"
   ]
  },
  {
   "cell_type": "code",
   "execution_count": 31,
   "id": "16f7c8ca",
   "metadata": {},
   "outputs": [
    {
     "data": {
      "text/plain": [
       "0.865"
      ]
     },
     "execution_count": 31,
     "metadata": {},
     "output_type": "execute_result"
    }
   ],
   "source": [
    "#F-score\n",
    "F_score = mystat.harmonic_mean([Precision,Recall])\n",
    "round(F_score,3)"
   ]
  },
  {
   "cell_type": "code",
   "execution_count": 32,
   "id": "7144adfe",
   "metadata": {},
   "outputs": [
    {
     "data": {
      "text/plain": [
       "0.845"
      ]
     },
     "execution_count": 32,
     "metadata": {},
     "output_type": "execute_result"
    }
   ],
   "source": [
    "#Accuarcy\n",
    "Accuracy = (TP + TN)/(TP+TN+FP+FN)\n",
    "round(Accuracy,3)"
   ]
  },
  {
   "cell_type": "markdown",
   "id": "ce514b8a",
   "metadata": {},
   "source": [
    "**Model Generalizability (SkLearn Package)**"
   ]
  },
  {
   "cell_type": "code",
   "execution_count": 33,
   "id": "eb28ae9f",
   "metadata": {},
   "outputs": [],
   "source": [
    "#Develop the same model in sklearn\n",
    "sk_mymodel = LogisticRegression(C = 1e08)"
   ]
  },
  {
   "cell_type": "markdown",
   "id": "9d1980aa",
   "metadata": {},
   "source": [
    "For Regularization, we have taken C as high as possible."
   ]
  },
  {
   "cell_type": "code",
   "execution_count": 34,
   "id": "72a8f4d6",
   "metadata": {},
   "outputs": [
    {
     "name": "stderr",
     "output_type": "stream",
     "text": [
      "/Users/sudiptarakshit/opt/anaconda3/lib/python3.8/site-packages/sklearn/linear_model/_logistic.py:763: ConvergenceWarning: lbfgs failed to converge (status=1):\n",
      "STOP: TOTAL NO. of ITERATIONS REACHED LIMIT.\n",
      "\n",
      "Increase the number of iterations (max_iter) or scale the data as shown in:\n",
      "    https://scikit-learn.org/stable/modules/preprocessing.html\n",
      "Please also refer to the documentation for alternative solver options:\n",
      "    https://scikit-learn.org/stable/modules/linear_model.html#logistic-regression\n",
      "  n_iter_i = _check_optimize_result(\n"
     ]
    }
   ],
   "source": [
    "#Fit the model to the data\n",
    "sk_mymodel = sk_mymodel.fit(X=x,y=y)"
   ]
  },
  {
   "cell_type": "code",
   "execution_count": 35,
   "id": "5a65e16c",
   "metadata": {
    "scrolled": true
   },
   "outputs": [
    {
     "data": {
      "text/plain": [
       "array([[-1.414036  ,  0.79394732,  0.02420056, -0.99219224, -0.74163988,\n",
       "        -0.71120049, -0.89369064,  0.18567104]])"
      ]
     },
     "execution_count": 35,
     "metadata": {},
     "output_type": "execute_result"
    }
   ],
   "source": [
    "# Check the model coefficients\n",
    "sk_mymodel.coef_"
   ]
  },
  {
   "cell_type": "code",
   "execution_count": 36,
   "id": "709dc2ed",
   "metadata": {},
   "outputs": [
    {
     "name": "stderr",
     "output_type": "stream",
     "text": [
      "/Users/sudiptarakshit/opt/anaconda3/lib/python3.8/site-packages/sklearn/linear_model/_logistic.py:763: ConvergenceWarning: lbfgs failed to converge (status=1):\n",
      "STOP: TOTAL NO. of ITERATIONS REACHED LIMIT.\n",
      "\n",
      "Increase the number of iterations (max_iter) or scale the data as shown in:\n",
      "    https://scikit-learn.org/stable/modules/preprocessing.html\n",
      "Please also refer to the documentation for alternative solver options:\n",
      "    https://scikit-learn.org/stable/modules/linear_model.html#logistic-regression\n",
      "  n_iter_i = _check_optimize_result(\n",
      "/Users/sudiptarakshit/opt/anaconda3/lib/python3.8/site-packages/sklearn/linear_model/_logistic.py:763: ConvergenceWarning: lbfgs failed to converge (status=1):\n",
      "STOP: TOTAL NO. of ITERATIONS REACHED LIMIT.\n",
      "\n",
      "Increase the number of iterations (max_iter) or scale the data as shown in:\n",
      "    https://scikit-learn.org/stable/modules/preprocessing.html\n",
      "Please also refer to the documentation for alternative solver options:\n",
      "    https://scikit-learn.org/stable/modules/linear_model.html#logistic-regression\n",
      "  n_iter_i = _check_optimize_result(\n",
      "/Users/sudiptarakshit/opt/anaconda3/lib/python3.8/site-packages/sklearn/linear_model/_logistic.py:763: ConvergenceWarning: lbfgs failed to converge (status=1):\n",
      "STOP: TOTAL NO. of ITERATIONS REACHED LIMIT.\n",
      "\n",
      "Increase the number of iterations (max_iter) or scale the data as shown in:\n",
      "    https://scikit-learn.org/stable/modules/preprocessing.html\n",
      "Please also refer to the documentation for alternative solver options:\n",
      "    https://scikit-learn.org/stable/modules/linear_model.html#logistic-regression\n",
      "  n_iter_i = _check_optimize_result(\n",
      "/Users/sudiptarakshit/opt/anaconda3/lib/python3.8/site-packages/sklearn/linear_model/_logistic.py:763: ConvergenceWarning: lbfgs failed to converge (status=1):\n",
      "STOP: TOTAL NO. of ITERATIONS REACHED LIMIT.\n",
      "\n",
      "Increase the number of iterations (max_iter) or scale the data as shown in:\n",
      "    https://scikit-learn.org/stable/modules/preprocessing.html\n",
      "Please also refer to the documentation for alternative solver options:\n",
      "    https://scikit-learn.org/stable/modules/linear_model.html#logistic-regression\n",
      "  n_iter_i = _check_optimize_result(\n",
      "/Users/sudiptarakshit/opt/anaconda3/lib/python3.8/site-packages/sklearn/linear_model/_logistic.py:763: ConvergenceWarning: lbfgs failed to converge (status=1):\n",
      "STOP: TOTAL NO. of ITERATIONS REACHED LIMIT.\n",
      "\n",
      "Increase the number of iterations (max_iter) or scale the data as shown in:\n",
      "    https://scikit-learn.org/stable/modules/preprocessing.html\n",
      "Please also refer to the documentation for alternative solver options:\n",
      "    https://scikit-learn.org/stable/modules/linear_model.html#logistic-regression\n",
      "  n_iter_i = _check_optimize_result(\n",
      "/Users/sudiptarakshit/opt/anaconda3/lib/python3.8/site-packages/sklearn/linear_model/_logistic.py:763: ConvergenceWarning: lbfgs failed to converge (status=1):\n",
      "STOP: TOTAL NO. of ITERATIONS REACHED LIMIT.\n",
      "\n",
      "Increase the number of iterations (max_iter) or scale the data as shown in:\n",
      "    https://scikit-learn.org/stable/modules/preprocessing.html\n",
      "Please also refer to the documentation for alternative solver options:\n",
      "    https://scikit-learn.org/stable/modules/linear_model.html#logistic-regression\n",
      "  n_iter_i = _check_optimize_result(\n",
      "/Users/sudiptarakshit/opt/anaconda3/lib/python3.8/site-packages/sklearn/linear_model/_logistic.py:763: ConvergenceWarning: lbfgs failed to converge (status=1):\n",
      "STOP: TOTAL NO. of ITERATIONS REACHED LIMIT.\n",
      "\n",
      "Increase the number of iterations (max_iter) or scale the data as shown in:\n",
      "    https://scikit-learn.org/stable/modules/preprocessing.html\n",
      "Please also refer to the documentation for alternative solver options:\n",
      "    https://scikit-learn.org/stable/modules/linear_model.html#logistic-regression\n",
      "  n_iter_i = _check_optimize_result(\n"
     ]
    }
   ],
   "source": [
    "# Model Generalizability: Cross validation\n",
    "myscore = cross_val_score(estimator=sk_mymodel,X=x,y=y,scoring='accuracy',cv=10)"
   ]
  },
  {
   "cell_type": "code",
   "execution_count": 37,
   "id": "ed7afab2",
   "metadata": {},
   "outputs": [
    {
     "data": {
      "text/plain": [
       "0.828"
      ]
     },
     "execution_count": 37,
     "metadata": {},
     "output_type": "execute_result"
    }
   ],
   "source": [
    "cv_accuarcy = myscore.mean()\n",
    "round(cv_accuarcy,3)"
   ]
  },
  {
   "cell_type": "markdown",
   "id": "c2d6f1c0",
   "metadata": {},
   "source": [
    "From confusion matrix, model accuracy was 0.845, after 10 fold cross validation, myscore.mean() i.e mean model accuracy decreased to 0.828 which is generalized model accuracy. \n",
    "\n",
    "This is an allowable decrease. \n",
    "\n"
   ]
  },
  {
   "cell_type": "code",
   "execution_count": null,
   "id": "27c89997",
   "metadata": {},
   "outputs": [],
   "source": []
  }
 ],
 "metadata": {
  "kernelspec": {
   "display_name": "Python 3 (ipykernel)",
   "language": "python",
   "name": "python3"
  },
  "language_info": {
   "codemirror_mode": {
    "name": "ipython",
    "version": 3
   },
   "file_extension": ".py",
   "mimetype": "text/x-python",
   "name": "python",
   "nbconvert_exporter": "python",
   "pygments_lexer": "ipython3",
   "version": "3.8.13"
  }
 },
 "nbformat": 4,
 "nbformat_minor": 5
}
